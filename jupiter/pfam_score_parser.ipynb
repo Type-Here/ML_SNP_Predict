{
 "cells": [
  {
   "cell_type": "markdown",
   "metadata": {},
   "source": [
    "# Pfam Score Retrieval"
   ]
  },
  {
   "cell_type": "markdown",
   "metadata": {},
   "source": [
    "## Pfam Score Parser\n",
    "\n",
    "This notebook contains functions to download and parse Pfam domain data for a given protein accession number. The main functionalities include:\n",
    "\n",
    "1. **Download Pfam Data**: The `download_pfam_domains` function takes a protein accession number and retrieves the Pfam domain data from the InterPro API.\n",
    "2. **Create Domain Dictionary**: The `create_domain_dict` function processes the downloaded Pfam data and creates a list of dictionaries, each containing the start and end positions of the domains along with their scores.\n",
    "3. **Assign Conservation Value**: The `assign_conservation` function assigns a conservation value to each row based on the domain dictionary.\n",
    "\n",
    "These functions facilitate the analysis of protein domains and their conservation scores."
   ]
  },
  {
   "cell_type": "code",
   "execution_count": null,
   "metadata": {
    "colab": {
     "base_uri": "https://localhost:8080/"
    },
    "id": "8Bt0uNzHng_D",
    "outputId": "24e4f1dc-d2c3-449e-d724-c25be71680ff"
   },
   "outputs": [
    {
     "name": "stdout",
     "output_type": "stream",
     "text": [
      "{'count': 1, 'next': None, 'previous': None, 'results': [{'metadata': {'accession': 'PF00071', 'name': 'Ras family', 'source_database': 'pfam', 'type': 'domain', 'integrated': 'IPR001806', 'member_databases': None, 'go_terms': None}, 'proteins': [{'accession': 'p01112', 'protein_length': 189, 'source_database': 'reviewed', 'organism': '9606', 'in_alphafold': True, 'entry_protein_locations': [{'fragments': [{'start': 5, 'end': 164, 'dc-status': 'CONTINUOUS'}], 'representative': False, 'model': 'PF00071', 'score': 2.3e-57}]}]}]}\n",
      "Dict: [{'start': 5, 'end': 164, 'score': 2.3e-57}]\n",
      "                           Name  Position  Conservation\n",
      "0  NM_005343.4(HRAS):c.451-4C>T       451  2.300000e-57\n",
      "1    NM_005343.4(HRAS):c.567C>T       567  0.000000e+00\n"
     ]
    }
   ],
   "source": [
    "import requests\n",
    "import pandas as pd\n",
    "import re\n",
    "\n",
    "# Function to download Pfam data of a protein\n",
    "def download_pfam_domains(protein_accession):\n",
    "    url = f\"https://www.ebi.ac.uk/interpro/api/entry/pfam/protein/uniprot/{protein_accession}/\"\n",
    "    response = requests.get(url)\n",
    "    if response.status_code == 200:\n",
    "        return response.json()\n",
    "    else:\n",
    "        print(f\"Errore nel download dei domini Pfam per {protein_accession}: {response.status_code}\")\n",
    "        return None\n",
    "\n",
    "# Function to create list of dicts of Pfam domains\n",
    "def create_domain_dict(pfam_data):\n",
    "    domain_list = []\n",
    "    for result in pfam_data.get(\"results\", []):\n",
    "        for protein in result.get(\"proteins\", []):\n",
    "            for location in protein.get(\"entry_protein_locations\", []):\n",
    "                score = location.get(\"score\", 0)  # Get the score from the location level\n",
    "                for fragment in location.get(\"fragments\", []):\n",
    "                    domain_map = {\n",
    "                        \"start\": fragment[\"start\"],\n",
    "                        \"end\" : fragment[\"end\"],\n",
    "                        \"score\": score\n",
    "                    }\n",
    "                    domain_list.append(domain_map)\n",
    "    return domain_list\n",
    "\n",
    "# Function to assign domain and conseravtion value\n",
    "def assign_conservation(row, domain_dict):\n",
    "    position = row[\"Intron\"]\n",
    "    if position == True:\n",
    "        return 0  # Introns\n",
    "\n",
    "    for map in domain_dict:\n",
    "        start, end, score = map[\"start\"]*3, map[\"end\"]*3, map[\"score\"]\n",
    "        if start <= position <= end:\n",
    "            return score\n",
    "    return 0  # Unknown mutations\n",
    "\n",
    "# Example\n",
    "protein_accession = \"P01112\"  # Accession of HRAS\n",
    "pfam_data = download_pfam_domains(protein_accession)\n",
    "print(pfam_data)\n",
    "\n",
    "if pfam_data:\n",
    "    domain_dict = create_domain_dict(pfam_data)\n",
    "    print(f\"Dict: {domain_dict}\")\n",
    "\n",
    "    # Example Dataset\n",
    "data = pd.DataFrame({\n",
    "    \"Name\": [\"NM_005343.4(HRAS):c.451-4C>T\", \"NM_005343.4(HRAS):c.567C>T\"],\n",
    "    \"Position\": [451, 567]\n",
    "})\n",
    "\n",
    "    #Add Conservation Column\n",
    "data[\"Conservation\"] = data.apply(lambda row: assign_conservation(row, domain_dict), axis=1)\n",
    "\n",
    "# Print Result\n",
    "print(data)"
   ]
  },
  {
   "cell_type": "markdown",
   "metadata": {
    "id": "FmLAm50GngtK"
   },
   "source": []
  }
 ],
 "metadata": {
  "colab": {
   "provenance": []
  },
  "kernelspec": {
   "display_name": "Python 3",
   "name": "python3"
  },
  "language_info": {
   "name": "python"
  }
 },
 "nbformat": 4,
 "nbformat_minor": 0
}
