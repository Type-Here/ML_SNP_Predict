{
  "nbformat": 4,
  "nbformat_minor": 0,
  "metadata": {
    "colab": {
      "provenance": [],
      "collapsed_sections": [
        "oGGg84Ix2r-1",
        "c3a5kswN3zhF"
      ],
      "toc_visible": true
    },
    "kernelspec": {
      "name": "python3",
      "display_name": "Python 3"
    },
    "language_info": {
      "name": "python"
    }
  },
  "cells": [
    {
      "cell_type": "markdown",
      "source": [
        "# Download"
      ],
      "metadata": {
        "id": "oGGg84Ix2r-1"
      }
    },
    {
      "cell_type": "markdown",
      "source": [
        "This section outlines the steps to download necessary datasets, tools, or external dependencies required for the project."
      ],
      "metadata": {
        "id": "yZ92q1JAcsvA"
      }
    },
    {
      "cell_type": "code",
      "execution_count": null,
      "metadata": {
        "colab": {
          "base_uri": "https://localhost:8080/"
        },
        "id": "yi5k3YG9Jfpc",
        "outputId": "27770ca3-43a3-43f1-d337-ee3d7622c538"
      },
      "outputs": [
        {
          "output_type": "stream",
          "name": "stdout",
          "text": [
            "--2024-12-27 14:14:42--  https://p53.fr/images/Database/UMD_variants_EU.tsv.zip\n",
            "Resolving p53.fr (p53.fr)... 213.186.33.17\n",
            "Connecting to p53.fr (p53.fr)|213.186.33.17|:443... connected.\n",
            "HTTP request sent, awaiting response... 200 OK\n",
            "Length: 1355875 (1.3M) [application/zip]\n",
            "Saving to: ‘UMD_variants_EU.tsv.zip’\n",
            "\n",
            "UMD_variants_EU.tsv 100%[===================>]   1.29M  2.26MB/s    in 0.6s    \n",
            "\n",
            "2024-12-27 14:14:43 (2.26 MB/s) - ‘UMD_variants_EU.tsv.zip’ saved [1355875/1355875]\n",
            "\n",
            "Archive:  UMD_variants_EU.tsv.zip\n",
            "  inflating: ./UMD_dataset/UMD_variants_EU.tsv  \n",
            "  inflating: ./UMD_dataset/._UMD_variants_EU.tsv  \n",
            "UMD_variants_EU.tsv\n"
          ]
        }
      ],
      "source": [
        "import pandas as pd\n",
        "\n",
        "isVariant = True\n",
        "\n",
        "# Wget Mutations (Redundant Content)\n",
        "#!wget -O UMD_mutations_EU.tsv.zip https://p53.fr/images/Database/UMD_mutations_EU.tsv.zip\n",
        "\n",
        "# Wget Variants\n",
        "!wget -O UMD_variants_EU.tsv.zip https://p53.fr/images/Database/UMD_variants_EU.tsv.zip\n",
        "\n",
        "# Extract ZIP\n",
        "!unzip UMD_variants_EU.tsv.zip -d ./UMD_dataset\n",
        "\n",
        "# Verify Folder Content\n",
        "!ls ./UMD_dataset"
      ]
    },
    {
      "cell_type": "markdown",
      "source": [
        "# Load Dataset"
      ],
      "metadata": {
        "id": "IhnLwot-ENoD"
      }
    },
    {
      "cell_type": "markdown",
      "source": [
        "Explains how to import and load the dataset into a working environment, preparing it for analysis and preprocessing."
      ],
      "metadata": {
        "id": "mmPUOjYvcwrX"
      }
    },
    {
      "cell_type": "code",
      "source": [
        "# Load Dataset\n",
        "file_path = './UMD_dataset/UMD_variants_EU.tsv'\n",
        "data = pd.read_csv(file_path, sep='\\t', encoding='latin-1')\n",
        "\n",
        "# Show some row to check loading\n",
        "print(\"Prime righe del dataset:\")\n",
        "print(data.head())\n",
        "\n",
        "# Filter SNP mut only\n",
        "snv_data = data[data['Variant_Type'] == 'SNP']\n",
        "print(f\"Mutazioni SNP trovate: {snv_data.shape[0]}\")\n",
        "\n",
        "print(\"\\n Colonne: \\n\")\n",
        "snv_data.columns\n"
      ],
      "metadata": {
        "colab": {
          "base_uri": "https://localhost:8080/"
        },
        "id": "VQ8ntmubJobU",
        "outputId": "e80daa84-2e78-4866-fc9b-ae84179f532d"
      },
      "execution_count": null,
      "outputs": [
        {
          "output_type": "stream",
          "name": "stdout",
          "text": [
            "Prime righe del dataset:\n",
            "  cDNA_variant    UMD_ID  COSMIC_ID       SNP_ID        HG19_Variant  \\\n",
            "0     c.524G>A  UMD_3113  COSM10648   rs28934578  chr17:g.7578406G>A   \n",
            "1     c.743G>A  UMD_4903  COSM10662   rs11540652  chr17:g.7577538G>A   \n",
            "2     c.818G>A  UMD_5583  COSM10660   rs28934576  chr17:g.7577120G>A   \n",
            "3     c.817C>T  UMD_5576  COSM10659  rs121913343  chr17:g.7577121C>T   \n",
            "4     c.742C>T  UMD_4895  COSM10656  rs121912651  chr17:g.7577539C>T   \n",
            "\n",
            "         HG18_Variant        HG38_Variant     NG_017013.2_Variant  \\\n",
            "0  chr17:g.7519131G>A  chr17:g.7675088G>A  NG_017013.2:g.17463G>A   \n",
            "1  chr17:g.7518263G>A  chr17:g.7674220G>A  NG_017013.2:g.18331G>A   \n",
            "2  chr17:g.7517845G>A  chr17:g.7673802G>A  NG_017013.2:g.18749G>A   \n",
            "3  chr17:g.7517846C>T  chr17:g.7673803C>T  NG_017013.2:g.18748C>T   \n",
            "4  chr17:g.7518264C>T  chr17:g.7674221C>T  NG_017013.2:g.18330C>T   \n",
            "\n",
            "  Transcript t1 MN_000546.5 Transcript t2 NM_001126112.2  ...  \\\n",
            "0                  c.524G>A                     c.524G>A  ...   \n",
            "1                  c.743G>A                     c.743G>A  ...   \n",
            "2                  c.818G>A                     c.818G>A  ...   \n",
            "3                  c.817C>T                     c.817C>T  ...   \n",
            "4                  c.742C>T                     c.742C>T  ...   \n",
            "\n",
            "                               Comment_1_Frequency Comment_2_Activity  \\\n",
            "0  This single nucleotide variant is very frequent           Inactive   \n",
            "1  This single nucleotide variant is very frequent           Inactive   \n",
            "2  This single nucleotide variant is very frequent           Inactive   \n",
            "3  This single nucleotide variant is very frequent           Inactive   \n",
            "4  This single nucleotide variant is very frequent           Inactive   \n",
            "\n",
            "                           Comment_3_Isoforms Comment_4 prediction  \\\n",
            "0  This substitution targets 12 TP53 isoforms             Damaging   \n",
            "1  This substitution targets 12 TP53 isoforms             Damaging   \n",
            "2  This substitution targets 12 TP53 isoforms             Damaging   \n",
            "3  This substitution targets 12 TP53 isoforms             Damaging   \n",
            "4  This substitution targets 12 TP53 isoforms             Damaging   \n",
            "\n",
            "  Comment_5_Outliers                                 Comment_6_Splicing  \\\n",
            "0                  -                         No splice defect predicted   \n",
            "1                  -                         No splice defect predicted   \n",
            "2                  -                         No splice defect predicted   \n",
            "3                  -  This exonic mutation has been predicted to imp...   \n",
            "4                  -                         No splice defect predicted   \n",
            "\n",
            "  Comment_7_Sequence                              Comment_10_population  \\\n",
            "0                  -  rs28934578; listed in the ExAc database (witho...   \n",
            "1                  -  rs11540652; listed in the ExAc database (witho...   \n",
            "2                  -  rs28934576; Listed in the ExAc database with a...   \n",
            "3                  -  rs121913343; listed in the ExAc database with ...   \n",
            "4                  -  rs121912651; listed in the ExAc database with ...   \n",
            "\n",
            "  Pathogenicity                                      Final comment  \n",
            "0    Pathogenic  Published research as well as database analysi...  \n",
            "1    Pathogenic  Published research as well as database analysi...  \n",
            "2    Pathogenic  Published research as well as database analysi...  \n",
            "3    Pathogenic  Published research as well as database analysi...  \n",
            "4    Pathogenic  Published research as well as database analysi...  \n",
            "\n",
            "[5 rows x 125 columns]\n",
            "Mutazioni SNP trovate: 2595\n",
            "\n",
            " Colonne: \n",
            "\n"
          ]
        },
        {
          "output_type": "execute_result",
          "data": {
            "text/plain": [
              "Index(['cDNA_variant', 'UMD_ID', 'COSMIC_ID', 'SNP_ID', 'HG19_Variant',\n",
              "       'HG18_Variant', 'HG38_Variant', 'NG_017013.2_Variant',\n",
              "       'Transcript t1 MN_000546.5', 'Transcript t2 NM_001126112.2',\n",
              "       ...\n",
              "       'Comment_1_Frequency', 'Comment_2_Activity', 'Comment_3_Isoforms',\n",
              "       'Comment_4 prediction', 'Comment_5_Outliers', 'Comment_6_Splicing',\n",
              "       'Comment_7_Sequence', 'Comment_10_population', 'Pathogenicity',\n",
              "       'Final comment'],\n",
              "      dtype='object', length=125)"
            ]
          },
          "metadata": {},
          "execution_count": 79
        }
      ]
    },
    {
      "cell_type": "markdown",
      "source": [
        "# Debug"
      ],
      "metadata": {
        "id": "c3a5kswN3zhF"
      }
    },
    {
      "cell_type": "markdown",
      "source": [
        "Focuses on identifying and resolving potential data issues or errors in the dataset.\n",
        "\n",
        "  * Visualizza Colonne con NaN  \n",
        "    Lists all columns that contain missing (NaN) values, helping to identify incomplete data.\n",
        "\n",
        "  * Visualizza Righe con Colonna c avente valori null  \n",
        "    Displays rows where the specific column \"c\" has null values to understand the scope of missing data.\n",
        "\n",
        "  * Visualizza Tabella (Head)  \n",
        "    Shows the first few rows of the dataset to provide a quick overview of its structure and content.\n",
        "\n",
        "  * Stampa lista valori unici colonna e somma  \n",
        "    Outputs a list of unique values in a particular column along with their frequency counts, providing insights into data distribution."
      ],
      "metadata": {
        "id": "ND_jlCwWc4s5"
      }
    },
    {
      "cell_type": "markdown",
      "source": [
        "## Visualizza Colonne con NaN"
      ],
      "metadata": {
        "id": "pTdsxila32Ht"
      }
    },
    {
      "cell_type": "code",
      "source": [
        "# Identify columns with at least one NaN value\n",
        "columns_with_nan = snv_data_cleaned.columns[snv_data_cleaned.isnull().any()].tolist()\n",
        "\n",
        "# Print the columns\n",
        "print(\"\\nColumns with at least one NaN value:\")\n",
        "print(columns_with_nan)\n",
        "rows_with_nan = snv_data_cleaned[snv_data_cleaned[c].isnull()]\n",
        "rows_with_nan.shape"
      ],
      "metadata": {
        "colab": {
          "base_uri": "https://localhost:8080/"
        },
        "id": "TTG6vcgW35TL",
        "outputId": "a11ab971-89bb-4a13-c0c3-6c6955f4012b"
      },
      "execution_count": null,
      "outputs": [
        {
          "output_type": "stream",
          "name": "stdout",
          "text": [
            "\n",
            "Columns with at least one NaN value:\n",
            "[]\n"
          ]
        },
        {
          "output_type": "execute_result",
          "data": {
            "text/plain": [
              "(0, 65)"
            ]
          },
          "metadata": {},
          "execution_count": 80
        }
      ]
    },
    {
      "cell_type": "markdown",
      "source": [
        "## Visualizza Righe con Colonna c avente valori null"
      ],
      "metadata": {
        "id": "1p5szkcV8Kpz"
      }
    },
    {
      "cell_type": "code",
      "source": [
        "# Name of the column\n",
        "c = 'WT AA_1_A'\n",
        "\n",
        "# Filter rows where 'c' is NaN\n",
        "rows_with_nan = snv_data_cleaned[snv_data_cleaned[c].isnull()]\n",
        "\n",
        "# Display the filtered rows\n",
        "print(f\"\\nRows where {c} is NaN:\")\n",
        "print(rows_with_nan)"
      ],
      "metadata": {
        "colab": {
          "base_uri": "https://localhost:8080/"
        },
        "id": "XotagGCE8Q15",
        "outputId": "3a818aa4-96b3-4412-d78a-1eaa1b37a545"
      },
      "execution_count": null,
      "outputs": [
        {
          "output_type": "stream",
          "name": "stdout",
          "text": [
            "\n",
            "Rows where WT AA_1_A is NaN:\n",
            "Empty DataFrame\n",
            "Columns: [Domain, Pathogenicity, cDNA_Position, WT_Codon_First_A, WT_Codon_First_T, WT_Codon_First_C, WT_Codon_First_G, WT_Codon_First_I, WT_Codon_Second_A, WT_Codon_Second_T, WT_Codon_Second_C, WT_Codon_Second_G, WT_Codon_Second_I, WT_Codon_Third_A, WT_Codon_Third_T, WT_Codon_Third_C, WT_Codon_Third_G, WT_Codon_Third_I, Mutant_Codon_First_A, Mutant_Codon_First_T, Mutant_Codon_First_C, Mutant_Codon_First_G, Mutant_Codon_First_I, Mutant_Codon_Second_A, Mutant_Codon_Second_T, Mutant_Codon_Second_C, Mutant_Codon_Second_G, Mutant_Codon_Second_I, Mutant_Codon_Third_A, Mutant_Codon_Third_T, Mutant_Codon_Third_C, Mutant_Codon_Third_G, Mutant_Codon_Third_I, cDNA_Ref_A, cDNA_Ref_T, cDNA_Ref_C, cDNA_Ref_G, cDNA_Mut_A, cDNA_Mut_T, cDNA_Mut_C, cDNA_Mut_G, WT AA_1_A, WT AA_1_T, WT AA_1_C, WT AA_1_G, Mutant AA_1_A, Mutant AA_1_T, Mutant AA_1_C, Mutant AA_1_G]\n",
            "Index: []\n",
            "\n",
            "[0 rows x 49 columns]\n"
          ]
        }
      ]
    },
    {
      "cell_type": "markdown",
      "source": [
        "## Visualizza Tabella (Head)"
      ],
      "metadata": {
        "id": "wA3O7f4C4F4Z"
      }
    },
    {
      "cell_type": "code",
      "source": [
        "snv_data_cleaned.head()"
      ],
      "metadata": {
        "colab": {
          "base_uri": "https://localhost:8080/",
          "height": 447
        },
        "id": "IZfUBziR4I4L",
        "outputId": "c63c60f6-0589-4268-8199-81ced7bb5e2a"
      },
      "execution_count": null,
      "outputs": [
        {
          "output_type": "execute_result",
          "data": {
            "text/plain": [
              "                  Domain Pathogenicity  cDNA_Position  WT_Codon_First_A  \\\n",
              "0  HCD III - DNA binding    Pathogenic            524               0.0   \n",
              "1   HCD IV - DNA binding    Pathogenic            743               0.0   \n",
              "2    HCD V - DNA binding    Pathogenic            818               0.0   \n",
              "3    HCD V - DNA binding    Pathogenic            817               0.0   \n",
              "4   HCD IV - DNA binding    Pathogenic            742               0.0   \n",
              "\n",
              "   WT_Codon_First_T  WT_Codon_First_C  WT_Codon_First_G  WT_Codon_First_I  \\\n",
              "0               0.0               1.0               0.0               0.0   \n",
              "1               0.0               1.0               0.0               0.0   \n",
              "2               0.0               1.0               0.0               0.0   \n",
              "3               0.0               1.0               0.0               0.0   \n",
              "4               0.0               1.0               0.0               0.0   \n",
              "\n",
              "   WT_Codon_Second_A  WT_Codon_Second_T  ...  cDNA_Mut_C  cDNA_Mut_G  \\\n",
              "0                0.0                0.0  ...         0.0         0.0   \n",
              "1                0.0                0.0  ...         0.0         0.0   \n",
              "2                0.0                0.0  ...         0.0         0.0   \n",
              "3                0.0                0.0  ...         0.0         0.0   \n",
              "4                0.0                0.0  ...         0.0         0.0   \n",
              "\n",
              "   WT AA_1_A  WT AA_1_T  WT AA_1_C  WT AA_1_G  Mutant AA_1_A  Mutant AA_1_T  \\\n",
              "0        0.0        0.0        0.0        0.0            0.0            0.0   \n",
              "1        0.0        0.0        0.0        0.0            0.0            0.0   \n",
              "2        0.0        0.0        0.0        0.0            0.0            0.0   \n",
              "3        0.0        0.0        0.0        0.0            0.0            0.0   \n",
              "4        0.0        0.0        0.0        0.0            0.0            0.0   \n",
              "\n",
              "   Mutant AA_1_C  Mutant AA_1_G  \n",
              "0            0.0            0.0  \n",
              "1            0.0            0.0  \n",
              "2            0.0            0.0  \n",
              "3            1.0            0.0  \n",
              "4            0.0            0.0  \n",
              "\n",
              "[5 rows x 49 columns]"
            ],
            "text/html": [
              "\n",
              "  <div id=\"df-34d53633-a8ad-4524-84db-16f9e2568301\" class=\"colab-df-container\">\n",
              "    <div>\n",
              "<style scoped>\n",
              "    .dataframe tbody tr th:only-of-type {\n",
              "        vertical-align: middle;\n",
              "    }\n",
              "\n",
              "    .dataframe tbody tr th {\n",
              "        vertical-align: top;\n",
              "    }\n",
              "\n",
              "    .dataframe thead th {\n",
              "        text-align: right;\n",
              "    }\n",
              "</style>\n",
              "<table border=\"1\" class=\"dataframe\">\n",
              "  <thead>\n",
              "    <tr style=\"text-align: right;\">\n",
              "      <th></th>\n",
              "      <th>Domain</th>\n",
              "      <th>Pathogenicity</th>\n",
              "      <th>cDNA_Position</th>\n",
              "      <th>WT_Codon_First_A</th>\n",
              "      <th>WT_Codon_First_T</th>\n",
              "      <th>WT_Codon_First_C</th>\n",
              "      <th>WT_Codon_First_G</th>\n",
              "      <th>WT_Codon_First_I</th>\n",
              "      <th>WT_Codon_Second_A</th>\n",
              "      <th>WT_Codon_Second_T</th>\n",
              "      <th>...</th>\n",
              "      <th>cDNA_Mut_C</th>\n",
              "      <th>cDNA_Mut_G</th>\n",
              "      <th>WT AA_1_A</th>\n",
              "      <th>WT AA_1_T</th>\n",
              "      <th>WT AA_1_C</th>\n",
              "      <th>WT AA_1_G</th>\n",
              "      <th>Mutant AA_1_A</th>\n",
              "      <th>Mutant AA_1_T</th>\n",
              "      <th>Mutant AA_1_C</th>\n",
              "      <th>Mutant AA_1_G</th>\n",
              "    </tr>\n",
              "  </thead>\n",
              "  <tbody>\n",
              "    <tr>\n",
              "      <th>0</th>\n",
              "      <td>HCD III - DNA binding</td>\n",
              "      <td>Pathogenic</td>\n",
              "      <td>524</td>\n",
              "      <td>0.0</td>\n",
              "      <td>0.0</td>\n",
              "      <td>1.0</td>\n",
              "      <td>0.0</td>\n",
              "      <td>0.0</td>\n",
              "      <td>0.0</td>\n",
              "      <td>0.0</td>\n",
              "      <td>...</td>\n",
              "      <td>0.0</td>\n",
              "      <td>0.0</td>\n",
              "      <td>0.0</td>\n",
              "      <td>0.0</td>\n",
              "      <td>0.0</td>\n",
              "      <td>0.0</td>\n",
              "      <td>0.0</td>\n",
              "      <td>0.0</td>\n",
              "      <td>0.0</td>\n",
              "      <td>0.0</td>\n",
              "    </tr>\n",
              "    <tr>\n",
              "      <th>1</th>\n",
              "      <td>HCD IV - DNA binding</td>\n",
              "      <td>Pathogenic</td>\n",
              "      <td>743</td>\n",
              "      <td>0.0</td>\n",
              "      <td>0.0</td>\n",
              "      <td>1.0</td>\n",
              "      <td>0.0</td>\n",
              "      <td>0.0</td>\n",
              "      <td>0.0</td>\n",
              "      <td>0.0</td>\n",
              "      <td>...</td>\n",
              "      <td>0.0</td>\n",
              "      <td>0.0</td>\n",
              "      <td>0.0</td>\n",
              "      <td>0.0</td>\n",
              "      <td>0.0</td>\n",
              "      <td>0.0</td>\n",
              "      <td>0.0</td>\n",
              "      <td>0.0</td>\n",
              "      <td>0.0</td>\n",
              "      <td>0.0</td>\n",
              "    </tr>\n",
              "    <tr>\n",
              "      <th>2</th>\n",
              "      <td>HCD V - DNA binding</td>\n",
              "      <td>Pathogenic</td>\n",
              "      <td>818</td>\n",
              "      <td>0.0</td>\n",
              "      <td>0.0</td>\n",
              "      <td>1.0</td>\n",
              "      <td>0.0</td>\n",
              "      <td>0.0</td>\n",
              "      <td>0.0</td>\n",
              "      <td>0.0</td>\n",
              "      <td>...</td>\n",
              "      <td>0.0</td>\n",
              "      <td>0.0</td>\n",
              "      <td>0.0</td>\n",
              "      <td>0.0</td>\n",
              "      <td>0.0</td>\n",
              "      <td>0.0</td>\n",
              "      <td>0.0</td>\n",
              "      <td>0.0</td>\n",
              "      <td>0.0</td>\n",
              "      <td>0.0</td>\n",
              "    </tr>\n",
              "    <tr>\n",
              "      <th>3</th>\n",
              "      <td>HCD V - DNA binding</td>\n",
              "      <td>Pathogenic</td>\n",
              "      <td>817</td>\n",
              "      <td>0.0</td>\n",
              "      <td>0.0</td>\n",
              "      <td>1.0</td>\n",
              "      <td>0.0</td>\n",
              "      <td>0.0</td>\n",
              "      <td>0.0</td>\n",
              "      <td>0.0</td>\n",
              "      <td>...</td>\n",
              "      <td>0.0</td>\n",
              "      <td>0.0</td>\n",
              "      <td>0.0</td>\n",
              "      <td>0.0</td>\n",
              "      <td>0.0</td>\n",
              "      <td>0.0</td>\n",
              "      <td>0.0</td>\n",
              "      <td>0.0</td>\n",
              "      <td>1.0</td>\n",
              "      <td>0.0</td>\n",
              "    </tr>\n",
              "    <tr>\n",
              "      <th>4</th>\n",
              "      <td>HCD IV - DNA binding</td>\n",
              "      <td>Pathogenic</td>\n",
              "      <td>742</td>\n",
              "      <td>0.0</td>\n",
              "      <td>0.0</td>\n",
              "      <td>1.0</td>\n",
              "      <td>0.0</td>\n",
              "      <td>0.0</td>\n",
              "      <td>0.0</td>\n",
              "      <td>0.0</td>\n",
              "      <td>...</td>\n",
              "      <td>0.0</td>\n",
              "      <td>0.0</td>\n",
              "      <td>0.0</td>\n",
              "      <td>0.0</td>\n",
              "      <td>0.0</td>\n",
              "      <td>0.0</td>\n",
              "      <td>0.0</td>\n",
              "      <td>0.0</td>\n",
              "      <td>0.0</td>\n",
              "      <td>0.0</td>\n",
              "    </tr>\n",
              "  </tbody>\n",
              "</table>\n",
              "<p>5 rows × 49 columns</p>\n",
              "</div>\n",
              "    <div class=\"colab-df-buttons\">\n",
              "\n",
              "  <div class=\"colab-df-container\">\n",
              "    <button class=\"colab-df-convert\" onclick=\"convertToInteractive('df-34d53633-a8ad-4524-84db-16f9e2568301')\"\n",
              "            title=\"Convert this dataframe to an interactive table.\"\n",
              "            style=\"display:none;\">\n",
              "\n",
              "  <svg xmlns=\"http://www.w3.org/2000/svg\" height=\"24px\" viewBox=\"0 -960 960 960\">\n",
              "    <path d=\"M120-120v-720h720v720H120Zm60-500h600v-160H180v160Zm220 220h160v-160H400v160Zm0 220h160v-160H400v160ZM180-400h160v-160H180v160Zm440 0h160v-160H620v160ZM180-180h160v-160H180v160Zm440 0h160v-160H620v160Z\"/>\n",
              "  </svg>\n",
              "    </button>\n",
              "\n",
              "  <style>\n",
              "    .colab-df-container {\n",
              "      display:flex;\n",
              "      gap: 12px;\n",
              "    }\n",
              "\n",
              "    .colab-df-convert {\n",
              "      background-color: #E8F0FE;\n",
              "      border: none;\n",
              "      border-radius: 50%;\n",
              "      cursor: pointer;\n",
              "      display: none;\n",
              "      fill: #1967D2;\n",
              "      height: 32px;\n",
              "      padding: 0 0 0 0;\n",
              "      width: 32px;\n",
              "    }\n",
              "\n",
              "    .colab-df-convert:hover {\n",
              "      background-color: #E2EBFA;\n",
              "      box-shadow: 0px 1px 2px rgba(60, 64, 67, 0.3), 0px 1px 3px 1px rgba(60, 64, 67, 0.15);\n",
              "      fill: #174EA6;\n",
              "    }\n",
              "\n",
              "    .colab-df-buttons div {\n",
              "      margin-bottom: 4px;\n",
              "    }\n",
              "\n",
              "    [theme=dark] .colab-df-convert {\n",
              "      background-color: #3B4455;\n",
              "      fill: #D2E3FC;\n",
              "    }\n",
              "\n",
              "    [theme=dark] .colab-df-convert:hover {\n",
              "      background-color: #434B5C;\n",
              "      box-shadow: 0px 1px 3px 1px rgba(0, 0, 0, 0.15);\n",
              "      filter: drop-shadow(0px 1px 2px rgba(0, 0, 0, 0.3));\n",
              "      fill: #FFFFFF;\n",
              "    }\n",
              "  </style>\n",
              "\n",
              "    <script>\n",
              "      const buttonEl =\n",
              "        document.querySelector('#df-34d53633-a8ad-4524-84db-16f9e2568301 button.colab-df-convert');\n",
              "      buttonEl.style.display =\n",
              "        google.colab.kernel.accessAllowed ? 'block' : 'none';\n",
              "\n",
              "      async function convertToInteractive(key) {\n",
              "        const element = document.querySelector('#df-34d53633-a8ad-4524-84db-16f9e2568301');\n",
              "        const dataTable =\n",
              "          await google.colab.kernel.invokeFunction('convertToInteractive',\n",
              "                                                    [key], {});\n",
              "        if (!dataTable) return;\n",
              "\n",
              "        const docLinkHtml = 'Like what you see? Visit the ' +\n",
              "          '<a target=\"_blank\" href=https://colab.research.google.com/notebooks/data_table.ipynb>data table notebook</a>'\n",
              "          + ' to learn more about interactive tables.';\n",
              "        element.innerHTML = '';\n",
              "        dataTable['output_type'] = 'display_data';\n",
              "        await google.colab.output.renderOutput(dataTable, element);\n",
              "        const docLink = document.createElement('div');\n",
              "        docLink.innerHTML = docLinkHtml;\n",
              "        element.appendChild(docLink);\n",
              "      }\n",
              "    </script>\n",
              "  </div>\n",
              "\n",
              "\n",
              "<div id=\"df-966e36c6-8490-4374-8614-e6a20e3a6dcb\">\n",
              "  <button class=\"colab-df-quickchart\" onclick=\"quickchart('df-966e36c6-8490-4374-8614-e6a20e3a6dcb')\"\n",
              "            title=\"Suggest charts\"\n",
              "            style=\"display:none;\">\n",
              "\n",
              "<svg xmlns=\"http://www.w3.org/2000/svg\" height=\"24px\"viewBox=\"0 0 24 24\"\n",
              "     width=\"24px\">\n",
              "    <g>\n",
              "        <path d=\"M19 3H5c-1.1 0-2 .9-2 2v14c0 1.1.9 2 2 2h14c1.1 0 2-.9 2-2V5c0-1.1-.9-2-2-2zM9 17H7v-7h2v7zm4 0h-2V7h2v10zm4 0h-2v-4h2v4z\"/>\n",
              "    </g>\n",
              "</svg>\n",
              "  </button>\n",
              "\n",
              "<style>\n",
              "  .colab-df-quickchart {\n",
              "      --bg-color: #E8F0FE;\n",
              "      --fill-color: #1967D2;\n",
              "      --hover-bg-color: #E2EBFA;\n",
              "      --hover-fill-color: #174EA6;\n",
              "      --disabled-fill-color: #AAA;\n",
              "      --disabled-bg-color: #DDD;\n",
              "  }\n",
              "\n",
              "  [theme=dark] .colab-df-quickchart {\n",
              "      --bg-color: #3B4455;\n",
              "      --fill-color: #D2E3FC;\n",
              "      --hover-bg-color: #434B5C;\n",
              "      --hover-fill-color: #FFFFFF;\n",
              "      --disabled-bg-color: #3B4455;\n",
              "      --disabled-fill-color: #666;\n",
              "  }\n",
              "\n",
              "  .colab-df-quickchart {\n",
              "    background-color: var(--bg-color);\n",
              "    border: none;\n",
              "    border-radius: 50%;\n",
              "    cursor: pointer;\n",
              "    display: none;\n",
              "    fill: var(--fill-color);\n",
              "    height: 32px;\n",
              "    padding: 0;\n",
              "    width: 32px;\n",
              "  }\n",
              "\n",
              "  .colab-df-quickchart:hover {\n",
              "    background-color: var(--hover-bg-color);\n",
              "    box-shadow: 0 1px 2px rgba(60, 64, 67, 0.3), 0 1px 3px 1px rgba(60, 64, 67, 0.15);\n",
              "    fill: var(--button-hover-fill-color);\n",
              "  }\n",
              "\n",
              "  .colab-df-quickchart-complete:disabled,\n",
              "  .colab-df-quickchart-complete:disabled:hover {\n",
              "    background-color: var(--disabled-bg-color);\n",
              "    fill: var(--disabled-fill-color);\n",
              "    box-shadow: none;\n",
              "  }\n",
              "\n",
              "  .colab-df-spinner {\n",
              "    border: 2px solid var(--fill-color);\n",
              "    border-color: transparent;\n",
              "    border-bottom-color: var(--fill-color);\n",
              "    animation:\n",
              "      spin 1s steps(1) infinite;\n",
              "  }\n",
              "\n",
              "  @keyframes spin {\n",
              "    0% {\n",
              "      border-color: transparent;\n",
              "      border-bottom-color: var(--fill-color);\n",
              "      border-left-color: var(--fill-color);\n",
              "    }\n",
              "    20% {\n",
              "      border-color: transparent;\n",
              "      border-left-color: var(--fill-color);\n",
              "      border-top-color: var(--fill-color);\n",
              "    }\n",
              "    30% {\n",
              "      border-color: transparent;\n",
              "      border-left-color: var(--fill-color);\n",
              "      border-top-color: var(--fill-color);\n",
              "      border-right-color: var(--fill-color);\n",
              "    }\n",
              "    40% {\n",
              "      border-color: transparent;\n",
              "      border-right-color: var(--fill-color);\n",
              "      border-top-color: var(--fill-color);\n",
              "    }\n",
              "    60% {\n",
              "      border-color: transparent;\n",
              "      border-right-color: var(--fill-color);\n",
              "    }\n",
              "    80% {\n",
              "      border-color: transparent;\n",
              "      border-right-color: var(--fill-color);\n",
              "      border-bottom-color: var(--fill-color);\n",
              "    }\n",
              "    90% {\n",
              "      border-color: transparent;\n",
              "      border-bottom-color: var(--fill-color);\n",
              "    }\n",
              "  }\n",
              "</style>\n",
              "\n",
              "  <script>\n",
              "    async function quickchart(key) {\n",
              "      const quickchartButtonEl =\n",
              "        document.querySelector('#' + key + ' button');\n",
              "      quickchartButtonEl.disabled = true;  // To prevent multiple clicks.\n",
              "      quickchartButtonEl.classList.add('colab-df-spinner');\n",
              "      try {\n",
              "        const charts = await google.colab.kernel.invokeFunction(\n",
              "            'suggestCharts', [key], {});\n",
              "      } catch (error) {\n",
              "        console.error('Error during call to suggestCharts:', error);\n",
              "      }\n",
              "      quickchartButtonEl.classList.remove('colab-df-spinner');\n",
              "      quickchartButtonEl.classList.add('colab-df-quickchart-complete');\n",
              "    }\n",
              "    (() => {\n",
              "      let quickchartButtonEl =\n",
              "        document.querySelector('#df-966e36c6-8490-4374-8614-e6a20e3a6dcb button');\n",
              "      quickchartButtonEl.style.display =\n",
              "        google.colab.kernel.accessAllowed ? 'block' : 'none';\n",
              "    })();\n",
              "  </script>\n",
              "</div>\n",
              "\n",
              "    </div>\n",
              "  </div>\n"
            ],
            "application/vnd.google.colaboratory.intrinsic+json": {
              "type": "dataframe",
              "variable_name": "snv_data_cleaned"
            }
          },
          "metadata": {},
          "execution_count": 64
        }
      ]
    },
    {
      "cell_type": "markdown",
      "source": [
        "## Stampa lista valori unici colonna e somma"
      ],
      "metadata": {
        "id": "v1tQ7VGlhpJG"
      }
    },
    {
      "cell_type": "code",
      "source": [
        "print_list = ['cDNA_variant', 'WT_Codon_First', 'WT_Codon']\n",
        "\n",
        "for p in print_list:\n",
        "  print(f\"Valori unici in {p}:\")\n",
        "  print(snv_data_cleaned[p].unique())\n",
        "\n",
        "  print(f\"\\nConteggio dei valori unici in '{p}':\")\n",
        "  print(snv_data_cleaned[p].value_counts())\n",
        "\n",
        "  print(snv_data_cleaned[p].value_counts().sum())"
      ],
      "metadata": {
        "colab": {
          "base_uri": "https://localhost:8080/"
        },
        "id": "F9lWFowiho1b",
        "outputId": "c9407ac3-f080-47ff-b3be-dc85debbfc1a"
      },
      "execution_count": null,
      "outputs": [
        {
          "output_type": "stream",
          "name": "stdout",
          "text": [
            "Valori unici in cDNA_variant:\n",
            "['c.524G>A' 'c.743G>A' 'c.818G>A' ... 'c.995T>C' 'c.996C>G' 'c.998G>C']\n",
            "\n",
            "Conteggio dei valori unici in 'cDNA_variant':\n",
            "cDNA_variant\n",
            "c.524G>A    1\n",
            "c.429G>C    1\n",
            "c.360G>A    1\n",
            "c.361T>C    1\n",
            "c.364G>T    1\n",
            "           ..\n",
            "c.848G>T    1\n",
            "c.867C>T    1\n",
            "c.872A>G    1\n",
            "c.873G>A    1\n",
            "c.998G>C    1\n",
            "Name: count, Length: 2592, dtype: int64\n",
            "2592\n",
            "Valori unici in WT_Codon_First:\n",
            "['C' 'T' 'G' 'A' 'I']\n",
            "\n",
            "Conteggio dei valori unici in 'WT_Codon_First':\n",
            "WT_Codon_First\n",
            "C    695\n",
            "G    689\n",
            "A    551\n",
            "T    413\n",
            "I    244\n",
            "Name: count, dtype: int64\n",
            "2592\n",
            "Valori unici in WT_Codon:\n",
            "['CGC' 'CGG' 'CGT' 'TAT' 'CGA' 'GGC' 'AGG' 'GTC' 'CAT' 'GAG' 'TAC' 'TGC'\n",
            " 'TCC' 'ATC' 'ATG' 'GTG' 'CAG' 'CCT' 'GAA' 'TGT' 'AGA' 'CCG' 'CCC' 'CTT'\n",
            " 'GGA' 'AAG' 'GCC' 'GTT' 'TGG' 'AAC' 'CAA' 'III' 'TCA' 'GAC' 'GGG' 'AGT'\n",
            " 'ACC' 'GGT' 'CAC' 'ACG' 'CTC' 'TTT' 'ACT' 'CTG' 'GAT' 'TTC' 'AGC' 'ACA'\n",
            " 'TTG' 'TCT' 'AAA' 'CCA' 'CTA' 'AAT' 'GCA' 'GCG' 'GCT' 'ATT' 'TTA' 'TCG'\n",
            " 'TGA' 'TAA']\n",
            "\n",
            "Conteggio dei valori unici in 'WT_Codon':\n",
            "WT_Codon\n",
            "III    244\n",
            "GAG    121\n",
            "CCC     92\n",
            "CCT     83\n",
            "CTG     78\n",
            "      ... \n",
            "GCG      4\n",
            "ATT      3\n",
            "TGA      3\n",
            "TAA      3\n",
            "TTA      2\n",
            "Name: count, Length: 62, dtype: int64\n",
            "2592\n"
          ]
        }
      ]
    },
    {
      "cell_type": "markdown",
      "source": [
        "# Data Cleaning\n"
      ],
      "metadata": {
        "id": "NrWRPXeMES_D"
      }
    },
    {
      "cell_type": "markdown",
      "source": [
        "## Column and Rows Removal"
      ],
      "metadata": {
        "id": "PqltkvrL6Bw0"
      }
    },
    {
      "cell_type": "markdown",
      "source": [
        "**Operations Made:**  \n",
        "- **Removing Irrelevant Columns:** Dropped columns that do not contribute to the predictive task, such as IDs or highly correlated features, to reduce dimensionality and computational complexity.  \n",
        "- **Filtering Rows:** Removed rows with duplicate or irrelevant data, such as entries with all zero values or those outside a meaningful range.  \n",
        "\n",
        "**Motivation:**  \n",
        "This step ensures the dataset is streamlined and focused on relevant features, reducing noise and improving computational efficiency."
      ],
      "metadata": {
        "id": "FfSJs2U3dylw"
      }
    },
    {
      "cell_type": "code",
      "source": [
        "# Columns to drop based on redundancy or irrelevance\n",
        "columns_to_drop = [\n",
        "    'UMD_ID', 'COSMIC_ID', 'SNP_ID',\n",
        "    *[col for col in snv_data.columns if col.startswith('Transcript')],\n",
        "    *[col for col in snv_data.columns if col.startswith('Protein')],\n",
        "    # Columns to drop based on redundancy, irrelevance, or potential data leakage\n",
        "    'HG19_Variant', 'HG18_Variant', 'HG38_Variant', 'NG_017013.2_Variant',  # Redundant genomic variant info\n",
        "    'Start_cDNA', 'End_cDNA', 'Exon:intron_Start', 'Exon:intron_End',  # Derived info\n",
        "    'Genome_base_coding', 'Mutant_Allele', 'Base_Change_Size', 'Ins_Size', 'Del_Size',  # Technical details\n",
        "    'PTM', 'Variant_Comment',  # Specific but not useful\n",
        "    *[col for col in snv_data.columns if col.startswith('Comment')],  # All comment-related columns\n",
        "    'Sift_Prediction', 'Polyphen-2_HumVar', 'Provean_prediction', 'Condel',  # Computational predictions\n",
        "    'Leukemia_Lymhoma_Freq', 'Solid_Tumor_Freq', 'Cell_line_Freq'  # Redundant frequency columns\n",
        "]\n",
        "\n",
        "# Drop unnecessary columns\n",
        "snv_data_cleaned = snv_data.drop(columns=columns_to_drop, errors='ignore')\n",
        "\n",
        "# Display remaining columns\n",
        "print(\"\\nRemaining columns after dropping unnecessary ones:\")\n",
        "print(snv_data_cleaned.columns)\n"
      ],
      "metadata": {
        "colab": {
          "base_uri": "https://localhost:8080/",
          "height": 211
        },
        "id": "sDK-i_pDKTIW",
        "outputId": "a5baf46d-1b9d-4267-d8e2-245fb8512995"
      },
      "execution_count": null,
      "outputs": [
        {
          "output_type": "error",
          "ename": "NameError",
          "evalue": "name 'snv_data' is not defined",
          "traceback": [
            "\u001b[0;31m---------------------------------------------------------------------------\u001b[0m",
            "\u001b[0;31mNameError\u001b[0m                                 Traceback (most recent call last)",
            "\u001b[0;32m<ipython-input-1-032d65c310d0>\u001b[0m in \u001b[0;36m<cell line: 3>\u001b[0;34m()\u001b[0m\n\u001b[1;32m      2\u001b[0m columns_to_drop = [\n\u001b[1;32m      3\u001b[0m     \u001b[0;34m'UMD_ID'\u001b[0m\u001b[0;34m,\u001b[0m \u001b[0;34m'COSMIC_ID'\u001b[0m\u001b[0;34m,\u001b[0m \u001b[0;34m'SNP_ID'\u001b[0m\u001b[0;34m,\u001b[0m\u001b[0;34m\u001b[0m\u001b[0;34m\u001b[0m\u001b[0m\n\u001b[0;32m----> 4\u001b[0;31m     \u001b[0;34m*\u001b[0m\u001b[0;34m[\u001b[0m\u001b[0mcol\u001b[0m \u001b[0;32mfor\u001b[0m \u001b[0mcol\u001b[0m \u001b[0;32min\u001b[0m \u001b[0msnv_data\u001b[0m\u001b[0;34m.\u001b[0m\u001b[0mcolumns\u001b[0m \u001b[0;32mif\u001b[0m \u001b[0mcol\u001b[0m\u001b[0;34m.\u001b[0m\u001b[0mstartswith\u001b[0m\u001b[0;34m(\u001b[0m\u001b[0;34m'Transcript'\u001b[0m\u001b[0;34m)\u001b[0m\u001b[0;34m]\u001b[0m\u001b[0;34m,\u001b[0m\u001b[0;34m\u001b[0m\u001b[0;34m\u001b[0m\u001b[0m\n\u001b[0m\u001b[1;32m      5\u001b[0m     \u001b[0;34m*\u001b[0m\u001b[0;34m[\u001b[0m\u001b[0mcol\u001b[0m \u001b[0;32mfor\u001b[0m \u001b[0mcol\u001b[0m \u001b[0;32min\u001b[0m \u001b[0msnv_data\u001b[0m\u001b[0;34m.\u001b[0m\u001b[0mcolumns\u001b[0m \u001b[0;32mif\u001b[0m \u001b[0mcol\u001b[0m\u001b[0;34m.\u001b[0m\u001b[0mstartswith\u001b[0m\u001b[0;34m(\u001b[0m\u001b[0;34m'Protein'\u001b[0m\u001b[0;34m)\u001b[0m\u001b[0;34m]\u001b[0m\u001b[0;34m,\u001b[0m\u001b[0;34m\u001b[0m\u001b[0;34m\u001b[0m\u001b[0m\n\u001b[1;32m      6\u001b[0m     \u001b[0;31m# Columns to drop based on redundancy, irrelevance, or potential data leakage\u001b[0m\u001b[0;34m\u001b[0m\u001b[0;34m\u001b[0m\u001b[0m\n",
            "\u001b[0;31mNameError\u001b[0m: name 'snv_data' is not defined"
          ]
        }
      ]
    },
    {
      "cell_type": "code",
      "source": [
        "# Additional columns to drop based on redundancy or irrelevance\n",
        "additional_columns_to_drop = [\n",
        "    'HG19_Start', 'HG19_End', 'HG18_Start', 'HG18_End',  # Genomic positions\n",
        "    'WAF1_Act', 'MDM2_Act', 'BAX_Act', '_14_3_3_s_Act', 'AIP_Act', 'GADD45_Act', 'NOXA_Act', 'p53R2_Act',  # Residual activities\n",
        "    'WAF1_percent', 'MDM2_percent', 'BAX_percent', '14_3_3_s_percent', 'AIP_percent', 'GADD45_percent', 'NOXA_percent', 'p53R2_percent',  # Percent activities\n",
        "    'Sift_Score', 'Polyphen-2_HumDiv', 'Mutassessor_prediction', 'Mutassessor_score', 'Provean_Score', 'Condel_Score',  # Computational predictions\n",
        "    'MutPred_Splice_General_Score', 'MutPred_Splice_Prediction_Label', 'MutPred_Splice_Confident_Hypotheses',  # Splice predictions\n",
        "    'Final comment',  # Textual comment\n",
        "    'Records_Number'\n",
        "]\n",
        "\n",
        "# Drop additional unnecessary columns\n",
        "snv_data_cleaned = snv_data_cleaned.drop(columns=additional_columns_to_drop, errors='ignore')\n",
        "\n",
        "# Display remaining columns after further cleaning\n",
        "print(\"\\nRemaining columns after additional cleaning:\")\n",
        "print(snv_data_cleaned.columns)\n"
      ],
      "metadata": {
        "colab": {
          "base_uri": "https://localhost:8080/"
        },
        "id": "G7JjDa4G2iqM",
        "outputId": "31b03aed-2b35-4f27-8350-47c6ddbc44ba"
      },
      "execution_count": null,
      "outputs": [
        {
          "output_type": "stream",
          "name": "stdout",
          "text": [
            "\n",
            "Remaining columns after additional cleaning:\n",
            "Index(['cDNA_variant', 'Codon', 'WT_Codon', 'Mutant_Codon', 'WT AA_1',\n",
            "       'WT AA_3', 'Mutant AA_1', 'Mutant AA_3', 'Substitution type', 'CpG',\n",
            "       'Mutational_event', 'Tandem_Class', 'Variant_Classification',\n",
            "       'Variant_Type', 'Mutation_Type', 'Domain', 'Structure', 'Tumor_Freq',\n",
            "       'Somatic_Freq 2', 'Germline_Freq 2', 'Pathogenicity'],\n",
            "      dtype='object')\n"
          ]
        }
      ]
    },
    {
      "cell_type": "markdown",
      "source": [
        "Rimozione di Colonne poco informative o contenenti data leakage"
      ],
      "metadata": {
        "id": "yO4r3qPvRSWk"
      }
    },
    {
      "cell_type": "code",
      "source": [
        "# Additional columns to drop based on redundancy or irrelevance\n",
        "additional_columns_to_drop = [\n",
        "    'CpG', 'Substitution type','Tumor_Freq','Somatic_Freq 2','Germline_Freq 2'\n",
        "]\n",
        "\n",
        "# Drop additional unnecessary columns\n",
        "snv_data_cleaned = snv_data_cleaned.drop(columns=additional_columns_to_drop, errors='ignore')\n",
        "\n",
        "# Display remaining columns after further cleaning\n",
        "print(\"\\nRemaining columns after additional cleaning:\")\n",
        "print(snv_data_cleaned.columns)"
      ],
      "metadata": {
        "colab": {
          "base_uri": "https://localhost:8080/"
        },
        "id": "gjNE4XbcRZ_6",
        "outputId": "acde3e63-81e3-4086-83b1-1afc77a70250"
      },
      "execution_count": null,
      "outputs": [
        {
          "output_type": "stream",
          "name": "stdout",
          "text": [
            "\n",
            "Remaining columns after additional cleaning:\n",
            "Index(['cDNA_variant', 'Codon', 'WT_Codon', 'Mutant_Codon', 'WT AA_1',\n",
            "       'WT AA_3', 'Mutant AA_1', 'Mutant AA_3', 'Mutational_event',\n",
            "       'Tandem_Class', 'Variant_Classification', 'Variant_Type',\n",
            "       'Mutation_Type', 'Domain', 'Structure', 'Pathogenicity'],\n",
            "      dtype='object')\n"
          ]
        }
      ]
    },
    {
      "cell_type": "markdown",
      "source": [
        "Valuta altri elementi vuoti e rimuovi righe con Patogenicità vuota"
      ],
      "metadata": {
        "id": "QCEkRMSV5gsK"
      }
    },
    {
      "cell_type": "code",
      "source": [
        "# Drop rows with missing Pathogenicity\n",
        "snv_data_cleaned = snv_data_cleaned.dropna(subset=['Pathogenicity'])\n",
        "\n",
        "# Check for missing values\n",
        "missing_values = snv_data_cleaned.isnull().sum()\n",
        "print(\"\\nMissing values in each column:\")\n",
        "print(missing_values[missing_values > 0])"
      ],
      "metadata": {
        "colab": {
          "base_uri": "https://localhost:8080/"
        },
        "id": "vSMwYcAY5f7M",
        "outputId": "e415f4e2-a510-4863-b8f5-3c2fc4e8d223"
      },
      "execution_count": null,
      "outputs": [
        {
          "output_type": "stream",
          "name": "stdout",
          "text": [
            "\n",
            "Missing values in each column:\n",
            "Tandem_Class    2592\n",
            "Domain           370\n",
            "Structure       1427\n",
            "dtype: int64\n"
          ]
        }
      ]
    },
    {
      "cell_type": "markdown",
      "source": [
        "Rimozione Colonne con valori mancanti"
      ],
      "metadata": {
        "id": "dYnSUVkl-2x6"
      }
    },
    {
      "cell_type": "code",
      "source": [
        "# Drop 'Tandem_Class' and 'Structure' columns\n",
        "columns_to_drop = ['Tandem_Class', 'Structure']\n",
        "snv_data_cleaned = snv_data_cleaned.drop(columns=columns_to_drop)"
      ],
      "metadata": {
        "id": "p_aPlwhn-2ZL"
      },
      "execution_count": null,
      "outputs": []
    },
    {
      "cell_type": "markdown",
      "source": [
        "## Trattamento Dati"
      ],
      "metadata": {
        "id": "b46rTBy8S9jg"
      }
    },
    {
      "cell_type": "markdown",
      "source": [
        "**Operations Made:**  \n",
        "- **Handling Outliers:** Identified and either capped, removed, or replaced extreme values that could distort model training.  \n",
        "- **Standardizing Formats:** Corrected inconsistent data formats (e.g., dates, categorical labels).  \n",
        "\n",
        "**Motivation:**  \n",
        "By addressing anomalies and inconsistencies, the data becomes more reliable and interpretable, which helps the model learn robust patterns."
      ],
      "metadata": {
        "id": "Qtd1-tBOeAyA"
      }
    },
    {
      "cell_type": "markdown",
      "source": [
        "Trattamento righe 'Codon' particolari"
      ],
      "metadata": {
        "id": "DSZOaVXb0I61"
      }
    },
    {
      "cell_type": "code",
      "source": [
        "# Clean 'Codon' column by removing everything after and including the dash ('-')\n",
        "snv_data_cleaned['Codon'] = snv_data_cleaned['Codon'].str.replace(r'-.*', '', regex=True)\n",
        "\n",
        "# Verify the result\n",
        "print(\"\\nCleaned 'Codon' column:\")\n",
        "print(snv_data_cleaned['Codon'].unique())  # Print unique values to verify changes\n",
        "\n",
        "##-------------------------------#\n",
        "# Replace values in 'Codon' containing 'ter' or 'Ter' with 0\n",
        "snv_data_cleaned.loc[snv_data_cleaned['Codon'].str.contains(r'ter', case=False, na=False), 'Codon'] = 0\n",
        "\n",
        "# Verify the result\n",
        "print(\"\\nUpdated 'Codon' column (ter replaced with 0):\")\n",
        "print(snv_data_cleaned['Codon'].unique())\n",
        "\n",
        "\n",
        "##------------------------------#\n",
        "# Replace non-numeric values in 'Codon' with -1\n",
        "snv_data_cleaned['Codon'] = snv_data_cleaned['Codon'].apply(lambda x: -1 if not str(x).isdigit() else int(x))\n",
        "\n",
        "# Verify the result\n",
        "print(\"\\nUpdated 'Codon' column (non-numeric replaced with -1):\")\n",
        "print(snv_data_cleaned['Codon'].unique())"
      ],
      "metadata": {
        "colab": {
          "base_uri": "https://localhost:8080/",
          "height": 211
        },
        "id": "3nwo-Z040ceS",
        "outputId": "a8f7f782-0ad3-4255-d233-b12b506f341f"
      },
      "execution_count": null,
      "outputs": [
        {
          "output_type": "error",
          "ename": "NameError",
          "evalue": "name 'snv_data_cleaned' is not defined",
          "traceback": [
            "\u001b[0;31m---------------------------------------------------------------------------\u001b[0m",
            "\u001b[0;31mNameError\u001b[0m                                 Traceback (most recent call last)",
            "\u001b[0;32m<ipython-input-3-596fc3af0b46>\u001b[0m in \u001b[0;36m<cell line: 2>\u001b[0;34m()\u001b[0m\n\u001b[1;32m      1\u001b[0m \u001b[0;31m# Clean 'Codon' column by removing everything after and including the dash ('-')\u001b[0m\u001b[0;34m\u001b[0m\u001b[0;34m\u001b[0m\u001b[0m\n\u001b[0;32m----> 2\u001b[0;31m \u001b[0msnv_data_cleaned\u001b[0m\u001b[0;34m[\u001b[0m\u001b[0;34m'Codon'\u001b[0m\u001b[0;34m]\u001b[0m \u001b[0;34m=\u001b[0m \u001b[0msnv_data_cleaned\u001b[0m\u001b[0;34m[\u001b[0m\u001b[0;34m'Codon'\u001b[0m\u001b[0;34m]\u001b[0m\u001b[0;34m.\u001b[0m\u001b[0mstr\u001b[0m\u001b[0;34m.\u001b[0m\u001b[0mreplace\u001b[0m\u001b[0;34m(\u001b[0m\u001b[0;34mr'-.*'\u001b[0m\u001b[0;34m,\u001b[0m \u001b[0;34m''\u001b[0m\u001b[0;34m,\u001b[0m \u001b[0mregex\u001b[0m\u001b[0;34m=\u001b[0m\u001b[0;32mTrue\u001b[0m\u001b[0;34m)\u001b[0m\u001b[0;34m\u001b[0m\u001b[0;34m\u001b[0m\u001b[0m\n\u001b[0m\u001b[1;32m      3\u001b[0m \u001b[0;34m\u001b[0m\u001b[0m\n\u001b[1;32m      4\u001b[0m \u001b[0;31m# Verify the result\u001b[0m\u001b[0;34m\u001b[0m\u001b[0;34m\u001b[0m\u001b[0m\n\u001b[1;32m      5\u001b[0m \u001b[0mprint\u001b[0m\u001b[0;34m(\u001b[0m\u001b[0;34m\"\\nCleaned 'Codon' column:\"\u001b[0m\u001b[0;34m)\u001b[0m\u001b[0;34m\u001b[0m\u001b[0;34m\u001b[0m\u001b[0m\n",
            "\u001b[0;31mNameError\u001b[0m: name 'snv_data_cleaned' is not defined"
          ]
        }
      ]
    },
    {
      "cell_type": "markdown",
      "source": [
        "Trattamento WT_Codon e Mutant_Codon righe particolari"
      ],
      "metadata": {
        "id": "kGZOsOei3RMu"
      }
    },
    {
      "cell_type": "code",
      "source": [
        "# Standardize WT_Codon and Mutant_Codon by replacing non-standard strings with 'III'\n",
        "columns_to_update = ['WT_Codon', 'Mutant_Codon']\n",
        "\n",
        "for col in columns_to_update:\n",
        "    snv_data_cleaned[col] = snv_data_cleaned[col].apply(\n",
        "        lambda x: 'III' if not isinstance(x, str) or not x.isalpha() or len(x) != 3 else x.upper()\n",
        "    )\n",
        "\n",
        "# Verify the result\n",
        "print(\"\\nUpdated columns (non-standard replaced with 'III'):\")\n",
        "for col in columns_to_update:\n",
        "    print(f\"\\nUnique values in {col}:\")\n",
        "    print(snv_data_cleaned[col].unique())"
      ],
      "metadata": {
        "colab": {
          "base_uri": "https://localhost:8080/"
        },
        "id": "AUC-Q49j3Vk_",
        "outputId": "cc619f1e-d23c-4d3d-d633-9fba53095318"
      },
      "execution_count": null,
      "outputs": [
        {
          "output_type": "stream",
          "name": "stdout",
          "text": [
            "\n",
            "Updated columns (non-standard replaced with 'III'):\n",
            "\n",
            "Unique values in WT_Codon:\n",
            "['CGC' 'CGG' 'CGT' 'TAT' 'CGA' 'GGC' 'AGG' 'GTC' 'CAT' 'GAG' 'TAC' 'TGC'\n",
            " 'TCC' 'ATC' 'ATG' 'GTG' 'CAG' 'CCT' 'GAA' 'TGT' 'AGA' 'CCG' 'CCC' 'CTT'\n",
            " 'GGA' 'AAG' 'GCC' 'GTT' 'TGG' 'AAC' 'CAA' 'III' 'TCA' 'GAC' 'GGG' 'AGT'\n",
            " 'ACC' 'GGT' 'CAC' 'ACG' 'CTC' 'TTT' 'ACT' 'CTG' 'GAT' 'TTC' 'AGC' 'ACA'\n",
            " 'TTG' 'TCT' 'AAA' 'CCA' 'CTA' 'AAT' 'GCA' 'GCG' 'GCT' 'ATT' 'TTA' 'TCG'\n",
            " 'TGA' 'TAA']\n",
            "\n",
            "Unique values in Mutant_Codon:\n",
            "['CAC' 'CAG' 'CAT' 'TGT' 'TGG' 'TGA' 'AGC' 'AGT' 'TTC' 'CGT' 'AAG' 'TGC'\n",
            " 'GAC' 'CTT' 'ACC' 'ATA' 'TAT' 'CTC' 'ATG' 'TAG' 'TCT' 'AAA' 'CTG' 'TAC'\n",
            " 'ACA' 'GTC' 'TCC' 'GAA' 'AGG' 'TTG' 'AGA' 'CAA' 'TTT' 'GTG' 'GTA' 'AAC'\n",
            " 'CCC' 'GGA' 'CTA' 'GGG' 'TAA' 'ATT' 'III' 'GAG' 'CCT' 'GGC' 'AAT' 'ACT'\n",
            " 'GCT' 'GTT' 'CCG' 'CGC' 'ACG' 'GGT' 'GAT' 'CCA' 'GCC' 'ATC' 'TCG' 'GCG'\n",
            " 'CGA' 'CGG' 'TTA' 'GCA' 'TCA']\n"
          ]
        }
      ]
    },
    {
      "cell_type": "markdown",
      "source": [
        "## Data Imputation"
      ],
      "metadata": {
        "id": "wwAzxyviTH2u"
      }
    },
    {
      "cell_type": "markdown",
      "source": [
        "**Operations Made:**  \n",
        "- **Domain Imputation**: Some data have null domain: impute domain by proximity\n",
        "- **Motivation**: Domain data is important and give useful info for malignancy prediction, it is worth impute data. Proximity and Intron evaluation is a valid method"
      ],
      "metadata": {
        "id": "CLCTnIHVeOc0"
      }
    },
    {
      "cell_type": "markdown",
      "source": [
        "Fill empty Domain values"
      ],
      "metadata": {
        "id": "CCWSj65vCnlA"
      }
    },
    {
      "cell_type": "code",
      "source": [
        "# Step 1: Split dataset into rows with and without 'Domain'\n",
        "domain_missing = snv_data_cleaned[snv_data_cleaned['Domain'].isnull()]\n",
        "domain_known = snv_data_cleaned[~snv_data_cleaned['Domain'].isnull()]\n",
        "\n",
        "# Function to find the closest domain or return 'Intron' for missing codons\n",
        "def find_closest_or_default_domain(codon, known_data):\n",
        "    try:\n",
        "        # Convert Codon to integer for numeric comparison\n",
        "        codon = int(codon)\n",
        "        # Calculate distances to known codons and find the closest\n",
        "        known_data = known_data.copy()  # Avoid SettingWithCopyWarning\n",
        "        known_data['Codon_Distance'] = abs(known_data['Codon'].astype(int) - codon)\n",
        "        closest_row = known_data.loc[known_data['Codon_Distance'].idxmin()]\n",
        "        return closest_row['Domain']\n",
        "    except (ValueError, TypeError):\n",
        "        # If codon is not a valid number, assume it's an intron\n",
        "        return 'Intron'\n",
        "\n",
        "# Apply the function to impute missing 'Domain' values\n",
        "imputed_domains = []\n",
        "for index, row in domain_missing.iterrows():\n",
        "    closest_domain = find_closest_or_default_domain(row['Codon'], domain_known)\n",
        "    imputed_domains.append(closest_domain)\n",
        "\n",
        "# Assign the imputed domains back to the missing rows\n",
        "snv_data_cleaned.loc[domain_missing.index, 'Domain'] = imputed_domains\n",
        "\n",
        "# Verify the result\n",
        "print(\"\\nUpdated 'Domain' distribution:\")\n",
        "print(snv_data_cleaned['Domain'].value_counts())"
      ],
      "metadata": {
        "colab": {
          "base_uri": "https://localhost:8080/",
          "height": 211
        },
        "id": "Ecs58RpgCqdp",
        "outputId": "9a8042bf-3be1-4c04-b8f4-059017a2cb38"
      },
      "execution_count": null,
      "outputs": [
        {
          "output_type": "error",
          "ename": "NameError",
          "evalue": "name 'snv_data_cleaned' is not defined",
          "traceback": [
            "\u001b[0;31m---------------------------------------------------------------------------\u001b[0m",
            "\u001b[0;31mNameError\u001b[0m                                 Traceback (most recent call last)",
            "\u001b[0;32m<ipython-input-2-3b932287622d>\u001b[0m in \u001b[0;36m<cell line: 4>\u001b[0;34m()\u001b[0m\n\u001b[1;32m      2\u001b[0m \u001b[0;34m\u001b[0m\u001b[0m\n\u001b[1;32m      3\u001b[0m \u001b[0;31m# Step 1: Split dataset into rows with and without 'Domain'\u001b[0m\u001b[0;34m\u001b[0m\u001b[0;34m\u001b[0m\u001b[0m\n\u001b[0;32m----> 4\u001b[0;31m \u001b[0mdomain_missing\u001b[0m \u001b[0;34m=\u001b[0m \u001b[0msnv_data_cleaned\u001b[0m\u001b[0;34m[\u001b[0m\u001b[0msnv_data_cleaned\u001b[0m\u001b[0;34m[\u001b[0m\u001b[0;34m'Domain'\u001b[0m\u001b[0;34m]\u001b[0m\u001b[0;34m.\u001b[0m\u001b[0misnull\u001b[0m\u001b[0;34m(\u001b[0m\u001b[0;34m)\u001b[0m\u001b[0;34m]\u001b[0m\u001b[0;34m\u001b[0m\u001b[0;34m\u001b[0m\u001b[0m\n\u001b[0m\u001b[1;32m      5\u001b[0m \u001b[0mdomain_known\u001b[0m \u001b[0;34m=\u001b[0m \u001b[0msnv_data_cleaned\u001b[0m\u001b[0;34m[\u001b[0m\u001b[0;34m~\u001b[0m\u001b[0msnv_data_cleaned\u001b[0m\u001b[0;34m[\u001b[0m\u001b[0;34m'Domain'\u001b[0m\u001b[0;34m]\u001b[0m\u001b[0;34m.\u001b[0m\u001b[0misnull\u001b[0m\u001b[0;34m(\u001b[0m\u001b[0;34m)\u001b[0m\u001b[0;34m]\u001b[0m\u001b[0;34m\u001b[0m\u001b[0;34m\u001b[0m\u001b[0m\n\u001b[1;32m      6\u001b[0m \u001b[0;34m\u001b[0m\u001b[0m\n",
            "\u001b[0;31mNameError\u001b[0m: name 'snv_data_cleaned' is not defined"
          ]
        }
      ]
    },
    {
      "cell_type": "markdown",
      "source": [
        "## Derivazione delle Feature"
      ],
      "metadata": {
        "id": "7L2rQwrBFjJu"
      }
    },
    {
      "cell_type": "markdown",
      "source": [
        "**Operations Made:**  \n",
        "* Separated WT and Mutant Codon in 3 different column each (1 for each nucleotide)\n",
        "* From mutation code: extracted position, WT nucleotide, Mutated nucleotide\n",
        "\n",
        "\n",
        "**Motivation:**  \n",
        "* Codon info gives inception to position of mutation inside the codon and the WT and Mutant AA\n",
        "* Position gives reference for protein Domain but also mRNA and DNA position could be relevant\n"
      ],
      "metadata": {
        "id": "mu0-FxGnfZ-8"
      }
    },
    {
      "cell_type": "markdown",
      "source": [
        "Divisione Codone WildType e Mutato in Nucleotide1 - Nucleotide2 - Nucleotide3\n",
        "\n",
        "---\n",
        "\n"
      ],
      "metadata": {
        "id": "JdUB1mr0Fgc5"
      }
    },
    {
      "cell_type": "code",
      "source": [
        "# Separate WT_Codon into its three nucleotides\n",
        "snv_data_cleaned['WT_Codon_First'] = snv_data_cleaned['WT_Codon'].str[0]\n",
        "snv_data_cleaned['WT_Codon_Second'] = snv_data_cleaned['WT_Codon'].str[1]\n",
        "snv_data_cleaned['WT_Codon_Third'] = snv_data_cleaned['WT_Codon'].str[2]\n",
        "\n",
        "# Separate Mutant_Codon into its three nucleotides\n",
        "snv_data_cleaned['Mutant_Codon_First'] = snv_data_cleaned['Mutant_Codon'].str[0]\n",
        "snv_data_cleaned['Mutant_Codon_Second'] = snv_data_cleaned['Mutant_Codon'].str[1]\n",
        "snv_data_cleaned['Mutant_Codon_Third'] = snv_data_cleaned['Mutant_Codon'].str[2]"
      ],
      "metadata": {
        "id": "6lJ3VP-3Fh4j",
        "colab": {
          "base_uri": "https://localhost:8080/",
          "height": 211
        },
        "outputId": "0c688b19-9377-4d89-a972-b5da881985fb"
      },
      "execution_count": null,
      "outputs": [
        {
          "output_type": "error",
          "ename": "NameError",
          "evalue": "name 'snv_data_cleaned' is not defined",
          "traceback": [
            "\u001b[0;31m---------------------------------------------------------------------------\u001b[0m",
            "\u001b[0;31mNameError\u001b[0m                                 Traceback (most recent call last)",
            "\u001b[0;32m<ipython-input-4-2a9b611498d0>\u001b[0m in \u001b[0;36m<cell line: 2>\u001b[0;34m()\u001b[0m\n\u001b[1;32m      1\u001b[0m \u001b[0;31m# Separate WT_Codon into its three nucleotides\u001b[0m\u001b[0;34m\u001b[0m\u001b[0;34m\u001b[0m\u001b[0m\n\u001b[0;32m----> 2\u001b[0;31m \u001b[0msnv_data_cleaned\u001b[0m\u001b[0;34m[\u001b[0m\u001b[0;34m'WT_Codon_First'\u001b[0m\u001b[0;34m]\u001b[0m \u001b[0;34m=\u001b[0m \u001b[0msnv_data_cleaned\u001b[0m\u001b[0;34m[\u001b[0m\u001b[0;34m'WT_Codon'\u001b[0m\u001b[0;34m]\u001b[0m\u001b[0;34m.\u001b[0m\u001b[0mstr\u001b[0m\u001b[0;34m[\u001b[0m\u001b[0;36m0\u001b[0m\u001b[0;34m]\u001b[0m\u001b[0;34m\u001b[0m\u001b[0;34m\u001b[0m\u001b[0m\n\u001b[0m\u001b[1;32m      3\u001b[0m \u001b[0msnv_data_cleaned\u001b[0m\u001b[0;34m[\u001b[0m\u001b[0;34m'WT_Codon_Second'\u001b[0m\u001b[0;34m]\u001b[0m \u001b[0;34m=\u001b[0m \u001b[0msnv_data_cleaned\u001b[0m\u001b[0;34m[\u001b[0m\u001b[0;34m'WT_Codon'\u001b[0m\u001b[0;34m]\u001b[0m\u001b[0;34m.\u001b[0m\u001b[0mstr\u001b[0m\u001b[0;34m[\u001b[0m\u001b[0;36m1\u001b[0m\u001b[0;34m]\u001b[0m\u001b[0;34m\u001b[0m\u001b[0;34m\u001b[0m\u001b[0m\n\u001b[1;32m      4\u001b[0m \u001b[0msnv_data_cleaned\u001b[0m\u001b[0;34m[\u001b[0m\u001b[0;34m'WT_Codon_Third'\u001b[0m\u001b[0;34m]\u001b[0m \u001b[0;34m=\u001b[0m \u001b[0msnv_data_cleaned\u001b[0m\u001b[0;34m[\u001b[0m\u001b[0;34m'WT_Codon'\u001b[0m\u001b[0;34m]\u001b[0m\u001b[0;34m.\u001b[0m\u001b[0mstr\u001b[0m\u001b[0;34m[\u001b[0m\u001b[0;36m2\u001b[0m\u001b[0;34m]\u001b[0m\u001b[0;34m\u001b[0m\u001b[0;34m\u001b[0m\u001b[0m\n\u001b[1;32m      5\u001b[0m \u001b[0;34m\u001b[0m\u001b[0m\n",
            "\u001b[0;31mNameError\u001b[0m: name 'snv_data_cleaned' is not defined"
          ]
        }
      ]
    },
    {
      "cell_type": "markdown",
      "source": [
        "Estrazione da cDNA_variant e gestione valori particolari"
      ],
      "metadata": {
        "id": "ceyCYsow-3pW"
      }
    },
    {
      "cell_type": "code",
      "source": [
        "import numpy as np\n",
        "import re  # Import regular expressions\n",
        "# Function to calculate absolute position from cDNA_variant\n",
        "def calculate_position(variant):\n",
        "    try:\n",
        "        # Remove nucleotide change (e.g., G>A, T>C)\n",
        "        variant_cleaned = re.sub(r'[A-Z]>[A-Z]', '', variant)\n",
        "        variant_cleaned = re.sub(r'c.', '', variant_cleaned)\n",
        "\n",
        "        # Handle 3' UTR positions like \"c.*5325\"\n",
        "        if variant_cleaned.startswith('*'):\n",
        "            return int(variant_cleaned[1:])\n",
        "\n",
        "        # Handle downstream intronic positions like \"c.-29+1002\" or \"c.30+200\"\n",
        "        if '+' in variant_cleaned:\n",
        "            parts = variant_cleaned.split('+')\n",
        "            if len(parts) == 2:\n",
        "                base, offset = parts\n",
        "                return int(base) + int(offset)\n",
        "\n",
        "        # Handle upstream intronic positions like \"c.-28-1001\"\n",
        "        if '-' in variant_cleaned:\n",
        "            parts = variant_cleaned.split('-')\n",
        "            if len(parts) == 2:\n",
        "                base, offset = parts\n",
        "                if base == '':\n",
        "                  base = '0'\n",
        "                return int(base) - int(offset)\n",
        "            if len(parts) == 3:\n",
        "                empty, base, offset = parts\n",
        "                return - int(base) - int(offset)\n",
        "\n",
        "        # Handle simple numeric positions like \"c.742\"\n",
        "        if re.match(r'\\d+$', variant_cleaned):\n",
        "            return int(re.search(r'(\\d+)', variant_cleaned).group(1))\n",
        "\n",
        "        # Return NaN for unhandled cases\n",
        "        print(f\"No error but -1: {variant}\")\n",
        "        return -1\n",
        "    except Exception as e:\n",
        "        print(f\"Error processing variant {variant}: {e}\")\n",
        "        return np.nan\n",
        "\n",
        "# Apply the function to cDNA_variant\n",
        "snv_data_cleaned['cDNA_Position'] = snv_data_cleaned['cDNA_variant'].apply(calculate_position)\n",
        "\n",
        "# Verify the results\n",
        "print(\"\\nUpdated cDNA_Position values:\")\n",
        "print(snv_data_cleaned[['cDNA_variant', 'cDNA_Position']].head(20))"
      ],
      "metadata": {
        "colab": {
          "base_uri": "https://localhost:8080/"
        },
        "id": "a9Ynj3AQ-7Vi",
        "outputId": "f127a1ac-9aad-44d7-ebf5-4d277f57934c"
      },
      "execution_count": null,
      "outputs": [
        {
          "output_type": "stream",
          "name": "stdout",
          "text": [
            "\n",
            "Updated cDNA_Position values:\n",
            "   cDNA_variant  cDNA_Position\n",
            "0      c.524G>A            524\n",
            "1      c.743G>A            743\n",
            "2      c.818G>A            818\n",
            "3      c.817C>T            817\n",
            "4      c.742C>T            742\n",
            "5      c.844C>T            844\n",
            "6      c.659A>G            659\n",
            "7      c.637C>T            637\n",
            "8      c.733G>A            733\n",
            "9      c.747G>T            747\n",
            "10     c.586C>T            586\n",
            "11    c.1024C>T           1024\n",
            "12     c.916C>T            916\n",
            "13     c.469G>T            469\n",
            "14     c.536A>G            536\n",
            "15     c.853G>A            853\n",
            "16     c.488A>G            488\n",
            "17     c.734G>A            734\n",
            "18     c.527G>T            527\n",
            "19     c.818G>T            818\n"
          ]
        }
      ]
    },
    {
      "cell_type": "markdown",
      "source": [
        "Estrazione cDNA_variant colonne Ref e Mut"
      ],
      "metadata": {
        "id": "4u5G5AoG_-cf"
      }
    },
    {
      "cell_type": "code",
      "source": [
        "import numpy as np\n",
        "\n",
        "# Extract wild-type and mutant nucleotides\n",
        "snv_data_cleaned['cDNA_Ref'] = snv_data_cleaned['cDNA_variant'].str.extract(r'c\\.[\\d*+-]+([A-Z])>', expand=False)\n",
        "snv_data_cleaned['cDNA_Mut'] = snv_data_cleaned['cDNA_variant'].str.extract(r'c\\.[\\d*+-]+[A-Z]>([A-Z])', expand=False)\n",
        "\n",
        "# Verify results\n",
        "print(\"\\nExamples of extracted values from 'cDNA_variant':\")\n",
        "print(snv_data_cleaned[['cDNA_variant', 'cDNA_Position', 'cDNA_Ref', 'cDNA_Mut']].head())\n",
        "\n",
        "\n",
        "# Remove cDNA_variant column\n",
        "snv_data_cleaned = snv_data_cleaned.drop(columns=['cDNA_variant'])"
      ],
      "metadata": {
        "colab": {
          "base_uri": "https://localhost:8080/"
        },
        "id": "zTD09W-R_9hA",
        "outputId": "a5db4f28-a32f-4384-a9ac-f63b7661fb36"
      },
      "execution_count": null,
      "outputs": [
        {
          "output_type": "stream",
          "name": "stdout",
          "text": [
            "\n",
            "Examples of extracted values from 'cDNA_variant':\n",
            "  cDNA_variant  cDNA_Position cDNA_Ref cDNA_Mut\n",
            "0     c.524G>A            524        G        A\n",
            "1     c.743G>A            743        G        A\n",
            "2     c.818G>A            818        G        A\n",
            "3     c.817C>T            817        C        T\n",
            "4     c.742C>T            742        C        T\n"
          ]
        }
      ]
    },
    {
      "cell_type": "markdown",
      "source": [
        "## Encoding"
      ],
      "metadata": {
        "id": "6JxbZMUeT0gj"
      }
    },
    {
      "cell_type": "markdown",
      "source": [
        "**Operations Made:**  \n",
        "- The code inspects unique values and their counts for specific columns (`'cDNA_Ref'`, `'cDNA_Mut'`, `'WT AA_1'`, and `'WT_Codon_First'`), which are likely categorical features.  \n",
        "- It prints both the unique values and the frequency distribution of these columns to assess their data quality and potential relevance.\n",
        "- `OneHotEncoding` used for aminoacids and nucleotides based columns using all possible values for enconding to ensure uniform inputs\n",
        ". `Get Dummies` for Domain column\n",
        "\n",
        "**Motivation:**  \n",
        "Understanding the distribution of categorical features is crucial for selecting the appropriate encoding method, such as one-hot encoding or label encoding. This step helps ensure the data is properly represented for machine learning models by encoding it."
      ],
      "metadata": {
        "id": "7AjBqnpNgb2t"
      }
    },
    {
      "cell_type": "code",
      "source": [
        "print_list = ['cDNA_Ref', 'cDNA_Mut', 'WT AA_1', 'WT_Codon_First']\n",
        "print_list2 = ['cDNA_Position', 'WT AA_1']\n",
        "\n",
        "for p in print_list:\n",
        "  print(f\"Valori unici in {p}:\")\n",
        "  print(snv_data_cleaned[p].unique())\n",
        "\n",
        "  print(f\"\\nConteggio dei valori unici in '{p}':\")\n",
        "  print(snv_data_cleaned[p].value_counts())\n",
        "\n",
        "  print(snv_data_cleaned[p].value_counts().sum())"
      ],
      "metadata": {
        "colab": {
          "base_uri": "https://localhost:8080/",
          "height": 228
        },
        "id": "vmeFrO6of58i",
        "outputId": "f3f2c72d-8fb5-405d-d90c-e265ea4791f0"
      },
      "execution_count": null,
      "outputs": [
        {
          "output_type": "stream",
          "name": "stdout",
          "text": [
            "Valori unici in cDNA_Ref:\n"
          ]
        },
        {
          "output_type": "error",
          "ename": "NameError",
          "evalue": "name 'snv_data_cleaned' is not defined",
          "traceback": [
            "\u001b[0;31m---------------------------------------------------------------------------\u001b[0m",
            "\u001b[0;31mNameError\u001b[0m                                 Traceback (most recent call last)",
            "\u001b[0;32m<ipython-input-1-23ceddd5e129>\u001b[0m in \u001b[0;36m<cell line: 4>\u001b[0;34m()\u001b[0m\n\u001b[1;32m      4\u001b[0m \u001b[0;32mfor\u001b[0m \u001b[0mp\u001b[0m \u001b[0;32min\u001b[0m \u001b[0mprint_list\u001b[0m\u001b[0;34m:\u001b[0m\u001b[0;34m\u001b[0m\u001b[0;34m\u001b[0m\u001b[0m\n\u001b[1;32m      5\u001b[0m   \u001b[0mprint\u001b[0m\u001b[0;34m(\u001b[0m\u001b[0;34mf\"Valori unici in {p}:\"\u001b[0m\u001b[0;34m)\u001b[0m\u001b[0;34m\u001b[0m\u001b[0;34m\u001b[0m\u001b[0m\n\u001b[0;32m----> 6\u001b[0;31m   \u001b[0mprint\u001b[0m\u001b[0;34m(\u001b[0m\u001b[0msnv_data_cleaned\u001b[0m\u001b[0;34m[\u001b[0m\u001b[0mp\u001b[0m\u001b[0;34m]\u001b[0m\u001b[0;34m.\u001b[0m\u001b[0munique\u001b[0m\u001b[0;34m(\u001b[0m\u001b[0;34m)\u001b[0m\u001b[0;34m)\u001b[0m\u001b[0;34m\u001b[0m\u001b[0;34m\u001b[0m\u001b[0m\n\u001b[0m\u001b[1;32m      7\u001b[0m \u001b[0;34m\u001b[0m\u001b[0m\n\u001b[1;32m      8\u001b[0m   \u001b[0mprint\u001b[0m\u001b[0;34m(\u001b[0m\u001b[0;34mf\"\\nConteggio dei valori unici in '{p}':\"\u001b[0m\u001b[0;34m)\u001b[0m\u001b[0;34m\u001b[0m\u001b[0;34m\u001b[0m\u001b[0m\n",
            "\u001b[0;31mNameError\u001b[0m: name 'snv_data_cleaned' is not defined"
          ]
        }
      ]
    },
    {
      "cell_type": "markdown",
      "source": [
        "Encoding di WT_Codon_X e Mutant_Codon_X"
      ],
      "metadata": {
        "id": "eiGXoBPUT2H2"
      }
    },
    {
      "cell_type": "code",
      "source": [
        "from sklearn.preprocessing import OneHotEncoder\n",
        "import pandas as pd\n",
        "import numpy as np\n",
        "\n",
        "# Define valid categories\n",
        "nucleotide_categories = ['A', 'T', 'C', 'G', 'I'] # 'I' is for Intronic Sequences modified to output III in some rows\n",
        "\n",
        "# Columns to Encoda\n",
        "columns_to_encode = ['WT_Codon_First', 'WT_Codon_Second', 'WT_Codon_Third',\n",
        "                     'Mutant_Codon_First', 'Mutant_Codon_Second', 'Mutant_Codon_Third']\n",
        "\n",
        "# Specify valid categories for each column - One Hot Encoding\n",
        "encoder = OneHotEncoder(categories=[nucleotide_categories] * len(columns_to_encode),\n",
        "                        sparse_output=False,  # Sparse representation if True\n",
        "                        handle_unknown='ignore')  # Ignore unknown values\n",
        "\n",
        "# Fit-transform of selected Columns\n",
        "encoded_matrix = encoder.fit_transform(snv_data_cleaned[columns_to_encode])\n",
        "\n",
        "# Verify Matrix Shape\n",
        "print(\"\\nShape of one-hot encoded matrix:\")\n",
        "print(encoded_matrix.shape)\n",
        "\n",
        "# Replace original columns with matrix\n",
        "snv_data_cleaned_2 = snv_data_cleaned.drop(columns=columns_to_encode)\n",
        "#snv_data_cleaned_sparse = pd.concat([snv_data_cleaned_sparse, pd.DataFrame.sparse.from_spmatrix(encoded_sparse_matrix)], axis=1) # If sparse_output=True\n",
        "\n",
        "# Convert matrix to DataFrame\n",
        "encoded_dense_matrix = pd.DataFrame(\n",
        "    encoded_matrix,  # Matrix (numpy.ndarray)\n",
        "    index=snv_data_cleaned.index,\n",
        "    columns=encoder.get_feature_names_out(columns_to_encode)\n",
        ")\n",
        "# Drop original columns and concatenate encoded columns\n",
        "snv_data_cleaned_2 = snv_data_cleaned.drop(columns=columns_to_encode)\n",
        "snv_data_cleaned_2 = pd.concat([snv_data_cleaned_2, encoded_dense_matrix], axis=1)\n",
        "\n",
        "print(\"\\nDataset after encoding:\")\n",
        "print(snv_data_cleaned_2.head())\n",
        "\n",
        "\n",
        "# Drop unnecessary columns\n",
        "columns_to_drop = [\n",
        "    'Codon', 'WT_Codon', 'Mutant_Codon', 'WT AA_3',\n",
        "    'Mutant AA_3', 'Mutational_event', 'Variant_Classification',\n",
        "    'Variant_Type', 'Mutation_Type'\n",
        "]\n",
        "snv_data_cleaned = snv_data_cleaned_2.drop(columns=columns_to_drop)"
      ],
      "metadata": {
        "id": "wkilRsncT34I",
        "colab": {
          "base_uri": "https://localhost:8080/",
          "height": 211
        },
        "outputId": "8dbab2e8-f2ea-4048-f1ae-28e78e728d59"
      },
      "execution_count": null,
      "outputs": [
        {
          "output_type": "error",
          "ename": "NameError",
          "evalue": "name 'snv_data_cleaned' is not defined",
          "traceback": [
            "\u001b[0;31m---------------------------------------------------------------------------\u001b[0m",
            "\u001b[0;31mNameError\u001b[0m                                 Traceback (most recent call last)",
            "\u001b[0;32m<ipython-input-2-baf0be8e9036>\u001b[0m in \u001b[0;36m<cell line: 18>\u001b[0;34m()\u001b[0m\n\u001b[1;32m     16\u001b[0m \u001b[0;34m\u001b[0m\u001b[0m\n\u001b[1;32m     17\u001b[0m \u001b[0;31m# Fit-transform delle colonne selezionate\u001b[0m\u001b[0;34m\u001b[0m\u001b[0;34m\u001b[0m\u001b[0m\n\u001b[0;32m---> 18\u001b[0;31m \u001b[0mencoded_sparse_matrix\u001b[0m \u001b[0;34m=\u001b[0m \u001b[0mencoder\u001b[0m\u001b[0;34m.\u001b[0m\u001b[0mfit_transform\u001b[0m\u001b[0;34m(\u001b[0m\u001b[0msnv_data_cleaned\u001b[0m\u001b[0;34m[\u001b[0m\u001b[0mcolumns_to_encode\u001b[0m\u001b[0;34m]\u001b[0m\u001b[0;34m)\u001b[0m\u001b[0;34m\u001b[0m\u001b[0;34m\u001b[0m\u001b[0m\n\u001b[0m\u001b[1;32m     19\u001b[0m \u001b[0;34m\u001b[0m\u001b[0m\n\u001b[1;32m     20\u001b[0m \u001b[0;31m# Verifica la forma della matrice sparsa\u001b[0m\u001b[0;34m\u001b[0m\u001b[0;34m\u001b[0m\u001b[0m\n",
            "\u001b[0;31mNameError\u001b[0m: name 'snv_data_cleaned' is not defined"
          ]
        }
      ]
    },
    {
      "cell_type": "markdown",
      "source": [
        "Encoding di cDNA_Ref e _Mut"
      ],
      "metadata": {
        "id": "2fvMDNn4T5NF"
      }
    },
    {
      "cell_type": "code",
      "source": [
        "nucleotide_categories = ['A', 'T', 'C', 'G']\n",
        "# Columns to encode\n",
        "columns_to_encode = ['cDNA_Ref', 'cDNA_Mut']\n",
        "\n",
        "# Apply one-hot encoding to cDNA_Ref and cDNA_Mut\n",
        "encoder = OneHotEncoder(categories=[nucleotide_categories] * len(columns_to_encode),\n",
        "                        sparse_output=False,\n",
        "                        handle_unknown='ignore')\n",
        "\n",
        "# Fit-transform of selected columns\n",
        "encoded_matrix = encoder.fit_transform(snv_data_cleaned[columns_to_encode])\n",
        "\n",
        "# Verify Matrix shape\n",
        "print(\"\\nShape of one-hot encoded matrix:\")\n",
        "print(encoded_matrix.shape)\n",
        "\n",
        "# Replace original columns with matrix\n",
        "snv_data_cleaned_2 = snv_data_cleaned.drop(columns=columns_to_encode)\n",
        "\n",
        "# Convert matrix to DataFrame\n",
        "pd_encoded_matrix = pd.DataFrame(\n",
        "    encoded_matrix,\n",
        "    index=snv_data_cleaned.index,\n",
        "    columns=encoder.get_feature_names_out(columns_to_encode)\n",
        ")\n",
        "\n",
        "snv_data_cleaned_2 = pd.concat([snv_data_cleaned_2, pd_encoded_matrix], axis=1)\n",
        "\n",
        "print(\"\\nDataset after encoding:\")\n",
        "print(snv_data_cleaned_2.head())\n",
        "\n",
        "snv_data_cleaned = snv_data_cleaned_2"
      ],
      "metadata": {
        "colab": {
          "base_uri": "https://localhost:8080/",
          "height": 211
        },
        "id": "Na4rGcadGMx8",
        "outputId": "b88531a4-f495-4cec-d653-4a3f649848d0"
      },
      "execution_count": null,
      "outputs": [
        {
          "output_type": "error",
          "ename": "NameError",
          "evalue": "name 'OneHotEncoder' is not defined",
          "traceback": [
            "\u001b[0;31m---------------------------------------------------------------------------\u001b[0m",
            "\u001b[0;31mNameError\u001b[0m                                 Traceback (most recent call last)",
            "\u001b[0;32m<ipython-input-5-74e6f02b9e82>\u001b[0m in \u001b[0;36m<cell line: 6>\u001b[0;34m()\u001b[0m\n\u001b[1;32m      4\u001b[0m \u001b[0;34m\u001b[0m\u001b[0m\n\u001b[1;32m      5\u001b[0m \u001b[0;31m# Apply one-hot encoding to cDNA_Ref and cDNA_Mut\u001b[0m\u001b[0;34m\u001b[0m\u001b[0;34m\u001b[0m\u001b[0m\n\u001b[0;32m----> 6\u001b[0;31m encoder = OneHotEncoder(categories=[nucleotide_categories] * len(columns_to_encode),\n\u001b[0m\u001b[1;32m      7\u001b[0m                         \u001b[0msparse_output\u001b[0m\u001b[0;34m=\u001b[0m\u001b[0;32mFalse\u001b[0m\u001b[0;34m,\u001b[0m  \u001b[0;31m# Rappresentazione sparsa\u001b[0m\u001b[0;34m\u001b[0m\u001b[0;34m\u001b[0m\u001b[0m\n\u001b[1;32m      8\u001b[0m                         handle_unknown='ignore')  # Ignora valori non noti\n",
            "\u001b[0;31mNameError\u001b[0m: name 'OneHotEncoder' is not defined"
          ]
        }
      ]
    },
    {
      "cell_type": "markdown",
      "source": [
        "Encoding degli Aminoacidi"
      ],
      "metadata": {
        "id": "Iv6mLs4FWbv6"
      }
    },
    {
      "cell_type": "code",
      "source": [
        "aa_categories = ['G','A','V','L','I','T','S','M','C','P','F','Y','W','H','K','R','D','E','N','Q','0']\n",
        "\n",
        "# Combine columns to encode\n",
        "columns_to_encode = ['WT AA_1','Mutant AA_1']\n",
        "\n",
        "import re\n",
        "\n",
        "def clean_amino_acids_introns(variant):\n",
        "  if variant == '*':\n",
        "     return '0'\n",
        "  if re.match(r'^\\w$', variant):\n",
        "    return variant\n",
        "  else:\n",
        "    return '0'\n",
        "\n",
        "for v in columns_to_encode:\n",
        "  snv_data_cleaned[v] = snv_data_cleaned[v].apply(clean_amino_acids_introns)\n",
        "\n",
        "# Apply one-hot encoding\n",
        "encoder = OneHotEncoder(categories=[aa_categories] * len(columns_to_encode),\n",
        "                        sparse_output=False,\n",
        "                        handle_unknown='ignore')\n",
        "\n",
        "# Fit-transform\n",
        "encoded_matrix = encoder.fit_transform(snv_data_cleaned[columns_to_encode])\n",
        "\n",
        "# Verify matrix shape\n",
        "print(\"\\nShape of one-hot encoded matrix:\")\n",
        "print(encoded_matrix.shape)\n",
        "\n",
        "# Replace original column in matrix\n",
        "snv_data_cleaned_2 = snv_data_cleaned.drop(columns=columns_to_encode)\n",
        "\n",
        "# Convert matrix to DataFrame\n",
        "pd_encoded_matrix = pd.DataFrame(\n",
        "    encoded_matrix,\n",
        "    index=snv_data_cleaned.index,\n",
        "    columns=encoder.get_feature_names_out(columns_to_encode)\n",
        ")\n",
        "\n",
        "snv_data_cleaned_2 = pd.concat([snv_data_cleaned_2, pd_encoded_matrix], axis=1)\n",
        "\n",
        "print(\"\\nDataset after encoding:\")\n",
        "print(snv_data_cleaned_2.head())\n",
        "\n",
        "snv_data_cleaned = snv_data_cleaned_2"
      ],
      "metadata": {
        "id": "z65zCafWWeoZ",
        "colab": {
          "base_uri": "https://localhost:8080/",
          "height": 211
        },
        "outputId": "6f96523e-052d-42fb-e6c0-d5235ba17d6c"
      },
      "execution_count": null,
      "outputs": [
        {
          "output_type": "error",
          "ename": "NameError",
          "evalue": "name 'snv_data_cleaned' is not defined",
          "traceback": [
            "\u001b[0;31m---------------------------------------------------------------------------\u001b[0m",
            "\u001b[0;31mNameError\u001b[0m                                 Traceback (most recent call last)",
            "\u001b[0;32m<ipython-input-6-23d53daa69dc>\u001b[0m in \u001b[0;36m<cell line: 16>\u001b[0;34m()\u001b[0m\n\u001b[1;32m     15\u001b[0m \u001b[0;34m\u001b[0m\u001b[0m\n\u001b[1;32m     16\u001b[0m \u001b[0;32mfor\u001b[0m \u001b[0mv\u001b[0m \u001b[0;32min\u001b[0m \u001b[0mcolumns_to_encode\u001b[0m\u001b[0;34m:\u001b[0m\u001b[0;34m\u001b[0m\u001b[0;34m\u001b[0m\u001b[0m\n\u001b[0;32m---> 17\u001b[0;31m   \u001b[0msnv_data_cleaned\u001b[0m\u001b[0;34m[\u001b[0m\u001b[0mv\u001b[0m\u001b[0;34m]\u001b[0m \u001b[0;34m=\u001b[0m \u001b[0msnv_data_cleaned\u001b[0m\u001b[0;34m[\u001b[0m\u001b[0mv\u001b[0m\u001b[0;34m]\u001b[0m\u001b[0;34m.\u001b[0m\u001b[0mapply\u001b[0m\u001b[0;34m(\u001b[0m\u001b[0mclean_amino_acids_introns\u001b[0m\u001b[0;34m)\u001b[0m\u001b[0;34m\u001b[0m\u001b[0;34m\u001b[0m\u001b[0m\n\u001b[0m\u001b[1;32m     18\u001b[0m \u001b[0;34m\u001b[0m\u001b[0m\n\u001b[1;32m     19\u001b[0m \u001b[0;31m# Apply one-hot encoding\u001b[0m\u001b[0;34m\u001b[0m\u001b[0;34m\u001b[0m\u001b[0m\n",
            "\u001b[0;31mNameError\u001b[0m: name 'snv_data_cleaned' is not defined"
          ]
        }
      ]
    },
    {
      "cell_type": "markdown",
      "source": [
        "Valuta tipi di colonne e trova i non numerici"
      ],
      "metadata": {
        "id": "TRbCMiKLKRcj"
      }
    },
    {
      "cell_type": "code",
      "source": [
        "# Check the data types of the features\n",
        "print(\"\\nFeature types in Dataset:\")\n",
        "print(snv_data_cleaned.dtypes)\n",
        "\n",
        "# Identify non-numeric columns\n",
        "non_numeric_columns = snv_data_cleaned.select_dtypes(include=['object']).columns\n",
        "print(\"\\nNon-numeric columns in Dataset:\")\n",
        "print(non_numeric_columns)"
      ],
      "metadata": {
        "colab": {
          "base_uri": "https://localhost:8080/"
        },
        "id": "K7JFecw_KUu1",
        "outputId": "9e46bc18-7fcb-45a3-8fc7-0e0b00bff230"
      },
      "execution_count": null,
      "outputs": [
        {
          "output_type": "stream",
          "name": "stdout",
          "text": [
            "\n",
            "Feature types in Dataset:\n",
            "Domain                    object\n",
            "Pathogenicity             object\n",
            "cDNA_Position              int64\n",
            "WT_Codon_First_A         float64\n",
            "WT_Codon_First_T         float64\n",
            "WT_Codon_First_C         float64\n",
            "WT_Codon_First_G         float64\n",
            "WT_Codon_First_I         float64\n",
            "WT_Codon_Second_A        float64\n",
            "WT_Codon_Second_T        float64\n",
            "WT_Codon_Second_C        float64\n",
            "WT_Codon_Second_G        float64\n",
            "WT_Codon_Second_I        float64\n",
            "WT_Codon_Third_A         float64\n",
            "WT_Codon_Third_T         float64\n",
            "WT_Codon_Third_C         float64\n",
            "WT_Codon_Third_G         float64\n",
            "WT_Codon_Third_I         float64\n",
            "Mutant_Codon_First_A     float64\n",
            "Mutant_Codon_First_T     float64\n",
            "Mutant_Codon_First_C     float64\n",
            "Mutant_Codon_First_G     float64\n",
            "Mutant_Codon_First_I     float64\n",
            "Mutant_Codon_Second_A    float64\n",
            "Mutant_Codon_Second_T    float64\n",
            "Mutant_Codon_Second_C    float64\n",
            "Mutant_Codon_Second_G    float64\n",
            "Mutant_Codon_Second_I    float64\n",
            "Mutant_Codon_Third_A     float64\n",
            "Mutant_Codon_Third_T     float64\n",
            "Mutant_Codon_Third_C     float64\n",
            "Mutant_Codon_Third_G     float64\n",
            "Mutant_Codon_Third_I     float64\n",
            "cDNA_Ref_A               float64\n",
            "cDNA_Ref_T               float64\n",
            "cDNA_Ref_C               float64\n",
            "cDNA_Ref_G               float64\n",
            "cDNA_Mut_A               float64\n",
            "cDNA_Mut_T               float64\n",
            "cDNA_Mut_C               float64\n",
            "cDNA_Mut_G               float64\n",
            "WT AA_1_A                float64\n",
            "WT AA_1_T                float64\n",
            "WT AA_1_C                float64\n",
            "WT AA_1_G                float64\n",
            "Mutant AA_1_A            float64\n",
            "Mutant AA_1_T            float64\n",
            "Mutant AA_1_C            float64\n",
            "Mutant AA_1_G            float64\n",
            "dtype: object\n",
            "\n",
            "Non-numeric columns in Dataset:\n",
            "Index(['Domain', 'Pathogenicity'], dtype='object')\n"
          ]
        }
      ]
    },
    {
      "cell_type": "markdown",
      "source": [
        "Encoding di 'Domain'"
      ],
      "metadata": {
        "id": "8XtgbBM0Sp1r"
      }
    },
    {
      "cell_type": "code",
      "source": [
        "# Encoding for remaining categorical columns\n",
        "categorical_columns = ['Domain']\n",
        "snv_data_cleaned = pd.get_dummies(snv_data_cleaned, columns=categorical_columns)\n",
        "\n",
        "# Verify the dataset after cleaning and encoding\n",
        "print(\"\\nDataset X after cleaning and encoding:\")\n",
        "print(snv_data_cleaned.head())\n"
      ],
      "metadata": {
        "colab": {
          "base_uri": "https://localhost:8080/",
          "height": 211
        },
        "id": "4VNe1_wpKiVb",
        "outputId": "58ff0a68-e709-490f-f6a4-f8dabe961296"
      },
      "execution_count": null,
      "outputs": [
        {
          "output_type": "error",
          "ename": "NameError",
          "evalue": "name 'snv_data_cleaned' is not defined",
          "traceback": [
            "\u001b[0;31m---------------------------------------------------------------------------\u001b[0m",
            "\u001b[0;31mNameError\u001b[0m                                 Traceback (most recent call last)",
            "\u001b[0;32m<ipython-input-3-b8b382a8ecab>\u001b[0m in \u001b[0;36m<cell line: 3>\u001b[0;34m()\u001b[0m\n\u001b[1;32m      1\u001b[0m \u001b[0;31m# One-hot encoding for remaining categorical columns\u001b[0m\u001b[0;34m\u001b[0m\u001b[0;34m\u001b[0m\u001b[0m\n\u001b[1;32m      2\u001b[0m \u001b[0mcategorical_columns\u001b[0m \u001b[0;34m=\u001b[0m \u001b[0;34m[\u001b[0m\u001b[0;34m'Domain'\u001b[0m\u001b[0;34m]\u001b[0m\u001b[0;34m\u001b[0m\u001b[0;34m\u001b[0m\u001b[0m\n\u001b[0;32m----> 3\u001b[0;31m \u001b[0msnv_data_cleaned\u001b[0m \u001b[0;34m=\u001b[0m \u001b[0mpd\u001b[0m\u001b[0;34m.\u001b[0m\u001b[0mget_dummies\u001b[0m\u001b[0;34m(\u001b[0m\u001b[0msnv_data_cleaned\u001b[0m\u001b[0;34m,\u001b[0m \u001b[0mcolumns\u001b[0m\u001b[0;34m=\u001b[0m\u001b[0mcategorical_columns\u001b[0m\u001b[0;34m)\u001b[0m\u001b[0;34m\u001b[0m\u001b[0;34m\u001b[0m\u001b[0m\n\u001b[0m\u001b[1;32m      4\u001b[0m \u001b[0;34m\u001b[0m\u001b[0m\n\u001b[1;32m      5\u001b[0m \u001b[0;31m# Verify the dataset after cleaning and encoding\u001b[0m\u001b[0;34m\u001b[0m\u001b[0;34m\u001b[0m\u001b[0m\n",
            "\u001b[0;31mNameError\u001b[0m: name 'snv_data_cleaned' is not defined"
          ]
        }
      ]
    },
    {
      "cell_type": "markdown",
      "source": [
        "# Feature Scaling"
      ],
      "metadata": {
        "id": "cYQs9-TkGtGH"
      }
    },
    {
      "cell_type": "markdown",
      "source": [
        "**Operations Made:**\n",
        "\n",
        "  * Used MinMaxScaler from sklearn.preprocessing to normalize the numerical column 'cDNA_Position'.\n",
        "  * Transformed the values of this column to a range between 0 and 1.\n",
        "  * Verified the scaled data by printing the first few rows of the normalized dataset.\n",
        "\n",
        "**Motivation:**\n",
        "* Normalization ensures that all features have a consistent scale, preventing features with larger ranges from dominating the learning process.\n",
        "* This step improves the stability and convergence speed of machine learning models."
      ],
      "metadata": {
        "id": "A4Sg1Unjhlay"
      }
    },
    {
      "cell_type": "markdown",
      "source": [
        "## Normalization"
      ],
      "metadata": {
        "id": "TraL2XRrGwPN"
      }
    },
    {
      "cell_type": "markdown",
      "source": [],
      "metadata": {
        "id": "X-LikFQohGXe"
      }
    },
    {
      "cell_type": "code",
      "source": [
        "from sklearn.preprocessing import MinMaxScaler\n",
        "\n",
        "# List of numerical columns to normalize\n",
        "numerical_columns = ['cDNA_Position']\n",
        "\n",
        "# Apply MinMaxScaler\n",
        "scaler = MinMaxScaler()\n",
        "snv_data_cleaned[numerical_columns] = scaler.fit_transform(snv_data_cleaned[numerical_columns])\n",
        "\n",
        "# Verify the normalized dataset\n",
        "print(\"\\nDataset after normalizing numerical columns:\")\n",
        "print(snv_data_cleaned[numerical_columns].head())\n"
      ],
      "metadata": {
        "colab": {
          "base_uri": "https://localhost:8080/",
          "height": 211
        },
        "id": "Afwn4brHGyLk",
        "outputId": "0b18cd05-f816-4a19-c3b9-77bbdf7602c9"
      },
      "execution_count": null,
      "outputs": [
        {
          "output_type": "error",
          "ename": "NameError",
          "evalue": "name 'snv_data_cleaned' is not defined",
          "traceback": [
            "\u001b[0;31m---------------------------------------------------------------------------\u001b[0m",
            "\u001b[0;31mNameError\u001b[0m                                 Traceback (most recent call last)",
            "\u001b[0;32m<ipython-input-1-e0d2db4d2eef>\u001b[0m in \u001b[0;36m<cell line: 8>\u001b[0;34m()\u001b[0m\n\u001b[1;32m      6\u001b[0m \u001b[0;31m# Apply MinMaxScaler\u001b[0m\u001b[0;34m\u001b[0m\u001b[0;34m\u001b[0m\u001b[0m\n\u001b[1;32m      7\u001b[0m \u001b[0mscaler\u001b[0m \u001b[0;34m=\u001b[0m \u001b[0mMinMaxScaler\u001b[0m\u001b[0;34m(\u001b[0m\u001b[0;34m)\u001b[0m\u001b[0;34m\u001b[0m\u001b[0;34m\u001b[0m\u001b[0m\n\u001b[0;32m----> 8\u001b[0;31m \u001b[0msnv_data_cleaned\u001b[0m\u001b[0;34m[\u001b[0m\u001b[0mnumerical_columns\u001b[0m\u001b[0;34m]\u001b[0m \u001b[0;34m=\u001b[0m \u001b[0mscaler\u001b[0m\u001b[0;34m.\u001b[0m\u001b[0mfit_transform\u001b[0m\u001b[0;34m(\u001b[0m\u001b[0msnv_data_cleaned\u001b[0m\u001b[0;34m[\u001b[0m\u001b[0mnumerical_columns\u001b[0m\u001b[0;34m]\u001b[0m\u001b[0;34m)\u001b[0m\u001b[0;34m\u001b[0m\u001b[0;34m\u001b[0m\u001b[0m\n\u001b[0m\u001b[1;32m      9\u001b[0m \u001b[0;34m\u001b[0m\u001b[0m\n\u001b[1;32m     10\u001b[0m \u001b[0;31m# Verify the normalized dataset\u001b[0m\u001b[0;34m\u001b[0m\u001b[0;34m\u001b[0m\u001b[0m\n",
            "\u001b[0;31mNameError\u001b[0m: name 'snv_data_cleaned' is not defined"
          ]
        }
      ]
    },
    {
      "cell_type": "code",
      "source": [
        "snv_data_cleaned.head()"
      ],
      "metadata": {
        "id": "FZUK4DjuBS3D",
        "colab": {
          "base_uri": "https://localhost:8080/",
          "height": 290
        },
        "outputId": "47ecd643-956f-4b6e-d083-a8f7474023ff"
      },
      "execution_count": null,
      "outputs": [
        {
          "output_type": "execute_result",
          "data": {
            "text/plain": [
              "  Pathogenicity  cDNA_Position  WT_Codon_First_A  WT_Codon_First_T  \\\n",
              "0    Pathogenic       0.376890               0.0               0.0   \n",
              "1    Pathogenic       0.392511               0.0               0.0   \n",
              "2    Pathogenic       0.397860               0.0               0.0   \n",
              "3    Pathogenic       0.397789               0.0               0.0   \n",
              "4    Pathogenic       0.392439               0.0               0.0   \n",
              "\n",
              "   WT_Codon_First_C  WT_Codon_First_G  WT_Codon_First_I  WT_Codon_Second_A  \\\n",
              "0               1.0               0.0               0.0                0.0   \n",
              "1               1.0               0.0               0.0                0.0   \n",
              "2               1.0               0.0               0.0                0.0   \n",
              "3               1.0               0.0               0.0                0.0   \n",
              "4               1.0               0.0               0.0                0.0   \n",
              "\n",
              "   WT_Codon_Second_T  WT_Codon_Second_C  ...  \\\n",
              "0                0.0                0.0  ...   \n",
              "1                0.0                0.0  ...   \n",
              "2                0.0                0.0  ...   \n",
              "3                0.0                0.0  ...   \n",
              "4                0.0                0.0  ...   \n",
              "\n",
              "   Domain_NES - Transactivation TAD1  Domain_NES - Transactivation TAD2  \\\n",
              "0                              False                              False   \n",
              "1                              False                              False   \n",
              "2                              False                              False   \n",
              "3                              False                              False   \n",
              "4                              False                              False   \n",
              "\n",
              "   Domain_NLS  Domain_NLS - Negative regulation  Domain_Negative regulation  \\\n",
              "0       False                             False                       False   \n",
              "1       False                             False                       False   \n",
              "2       False                             False                       False   \n",
              "3       False                             False                       False   \n",
              "4       False                             False                       False   \n",
              "\n",
              "   Domain_Oligomerization  Domain_Proline Rich  Domain_Transactivation TAD1  \\\n",
              "0                   False                False                        False   \n",
              "1                   False                False                        False   \n",
              "2                   False                False                        False   \n",
              "3                   False                False                        False   \n",
              "4                   False                False                        False   \n",
              "\n",
              "   Domain_Transactivation TAD2  Domain_Transactivation TAD2 - Proline Rich  \n",
              "0                        False                                       False  \n",
              "1                        False                                       False  \n",
              "2                        False                                       False  \n",
              "3                        False                                       False  \n",
              "4                        False                                       False  \n",
              "\n",
              "[5 rows x 65 columns]"
            ],
            "text/html": [
              "\n",
              "  <div id=\"df-97f11659-fb4c-4d83-b9c3-b948c49c30d5\" class=\"colab-df-container\">\n",
              "    <div>\n",
              "<style scoped>\n",
              "    .dataframe tbody tr th:only-of-type {\n",
              "        vertical-align: middle;\n",
              "    }\n",
              "\n",
              "    .dataframe tbody tr th {\n",
              "        vertical-align: top;\n",
              "    }\n",
              "\n",
              "    .dataframe thead th {\n",
              "        text-align: right;\n",
              "    }\n",
              "</style>\n",
              "<table border=\"1\" class=\"dataframe\">\n",
              "  <thead>\n",
              "    <tr style=\"text-align: right;\">\n",
              "      <th></th>\n",
              "      <th>Pathogenicity</th>\n",
              "      <th>cDNA_Position</th>\n",
              "      <th>WT_Codon_First_A</th>\n",
              "      <th>WT_Codon_First_T</th>\n",
              "      <th>WT_Codon_First_C</th>\n",
              "      <th>WT_Codon_First_G</th>\n",
              "      <th>WT_Codon_First_I</th>\n",
              "      <th>WT_Codon_Second_A</th>\n",
              "      <th>WT_Codon_Second_T</th>\n",
              "      <th>WT_Codon_Second_C</th>\n",
              "      <th>...</th>\n",
              "      <th>Domain_NES - Transactivation TAD1</th>\n",
              "      <th>Domain_NES - Transactivation TAD2</th>\n",
              "      <th>Domain_NLS</th>\n",
              "      <th>Domain_NLS - Negative regulation</th>\n",
              "      <th>Domain_Negative regulation</th>\n",
              "      <th>Domain_Oligomerization</th>\n",
              "      <th>Domain_Proline Rich</th>\n",
              "      <th>Domain_Transactivation TAD1</th>\n",
              "      <th>Domain_Transactivation TAD2</th>\n",
              "      <th>Domain_Transactivation TAD2 - Proline Rich</th>\n",
              "    </tr>\n",
              "  </thead>\n",
              "  <tbody>\n",
              "    <tr>\n",
              "      <th>0</th>\n",
              "      <td>Pathogenic</td>\n",
              "      <td>0.376890</td>\n",
              "      <td>0.0</td>\n",
              "      <td>0.0</td>\n",
              "      <td>1.0</td>\n",
              "      <td>0.0</td>\n",
              "      <td>0.0</td>\n",
              "      <td>0.0</td>\n",
              "      <td>0.0</td>\n",
              "      <td>0.0</td>\n",
              "      <td>...</td>\n",
              "      <td>False</td>\n",
              "      <td>False</td>\n",
              "      <td>False</td>\n",
              "      <td>False</td>\n",
              "      <td>False</td>\n",
              "      <td>False</td>\n",
              "      <td>False</td>\n",
              "      <td>False</td>\n",
              "      <td>False</td>\n",
              "      <td>False</td>\n",
              "    </tr>\n",
              "    <tr>\n",
              "      <th>1</th>\n",
              "      <td>Pathogenic</td>\n",
              "      <td>0.392511</td>\n",
              "      <td>0.0</td>\n",
              "      <td>0.0</td>\n",
              "      <td>1.0</td>\n",
              "      <td>0.0</td>\n",
              "      <td>0.0</td>\n",
              "      <td>0.0</td>\n",
              "      <td>0.0</td>\n",
              "      <td>0.0</td>\n",
              "      <td>...</td>\n",
              "      <td>False</td>\n",
              "      <td>False</td>\n",
              "      <td>False</td>\n",
              "      <td>False</td>\n",
              "      <td>False</td>\n",
              "      <td>False</td>\n",
              "      <td>False</td>\n",
              "      <td>False</td>\n",
              "      <td>False</td>\n",
              "      <td>False</td>\n",
              "    </tr>\n",
              "    <tr>\n",
              "      <th>2</th>\n",
              "      <td>Pathogenic</td>\n",
              "      <td>0.397860</td>\n",
              "      <td>0.0</td>\n",
              "      <td>0.0</td>\n",
              "      <td>1.0</td>\n",
              "      <td>0.0</td>\n",
              "      <td>0.0</td>\n",
              "      <td>0.0</td>\n",
              "      <td>0.0</td>\n",
              "      <td>0.0</td>\n",
              "      <td>...</td>\n",
              "      <td>False</td>\n",
              "      <td>False</td>\n",
              "      <td>False</td>\n",
              "      <td>False</td>\n",
              "      <td>False</td>\n",
              "      <td>False</td>\n",
              "      <td>False</td>\n",
              "      <td>False</td>\n",
              "      <td>False</td>\n",
              "      <td>False</td>\n",
              "    </tr>\n",
              "    <tr>\n",
              "      <th>3</th>\n",
              "      <td>Pathogenic</td>\n",
              "      <td>0.397789</td>\n",
              "      <td>0.0</td>\n",
              "      <td>0.0</td>\n",
              "      <td>1.0</td>\n",
              "      <td>0.0</td>\n",
              "      <td>0.0</td>\n",
              "      <td>0.0</td>\n",
              "      <td>0.0</td>\n",
              "      <td>0.0</td>\n",
              "      <td>...</td>\n",
              "      <td>False</td>\n",
              "      <td>False</td>\n",
              "      <td>False</td>\n",
              "      <td>False</td>\n",
              "      <td>False</td>\n",
              "      <td>False</td>\n",
              "      <td>False</td>\n",
              "      <td>False</td>\n",
              "      <td>False</td>\n",
              "      <td>False</td>\n",
              "    </tr>\n",
              "    <tr>\n",
              "      <th>4</th>\n",
              "      <td>Pathogenic</td>\n",
              "      <td>0.392439</td>\n",
              "      <td>0.0</td>\n",
              "      <td>0.0</td>\n",
              "      <td>1.0</td>\n",
              "      <td>0.0</td>\n",
              "      <td>0.0</td>\n",
              "      <td>0.0</td>\n",
              "      <td>0.0</td>\n",
              "      <td>0.0</td>\n",
              "      <td>...</td>\n",
              "      <td>False</td>\n",
              "      <td>False</td>\n",
              "      <td>False</td>\n",
              "      <td>False</td>\n",
              "      <td>False</td>\n",
              "      <td>False</td>\n",
              "      <td>False</td>\n",
              "      <td>False</td>\n",
              "      <td>False</td>\n",
              "      <td>False</td>\n",
              "    </tr>\n",
              "  </tbody>\n",
              "</table>\n",
              "<p>5 rows × 65 columns</p>\n",
              "</div>\n",
              "    <div class=\"colab-df-buttons\">\n",
              "\n",
              "  <div class=\"colab-df-container\">\n",
              "    <button class=\"colab-df-convert\" onclick=\"convertToInteractive('df-97f11659-fb4c-4d83-b9c3-b948c49c30d5')\"\n",
              "            title=\"Convert this dataframe to an interactive table.\"\n",
              "            style=\"display:none;\">\n",
              "\n",
              "  <svg xmlns=\"http://www.w3.org/2000/svg\" height=\"24px\" viewBox=\"0 -960 960 960\">\n",
              "    <path d=\"M120-120v-720h720v720H120Zm60-500h600v-160H180v160Zm220 220h160v-160H400v160Zm0 220h160v-160H400v160ZM180-400h160v-160H180v160Zm440 0h160v-160H620v160ZM180-180h160v-160H180v160Zm440 0h160v-160H620v160Z\"/>\n",
              "  </svg>\n",
              "    </button>\n",
              "\n",
              "  <style>\n",
              "    .colab-df-container {\n",
              "      display:flex;\n",
              "      gap: 12px;\n",
              "    }\n",
              "\n",
              "    .colab-df-convert {\n",
              "      background-color: #E8F0FE;\n",
              "      border: none;\n",
              "      border-radius: 50%;\n",
              "      cursor: pointer;\n",
              "      display: none;\n",
              "      fill: #1967D2;\n",
              "      height: 32px;\n",
              "      padding: 0 0 0 0;\n",
              "      width: 32px;\n",
              "    }\n",
              "\n",
              "    .colab-df-convert:hover {\n",
              "      background-color: #E2EBFA;\n",
              "      box-shadow: 0px 1px 2px rgba(60, 64, 67, 0.3), 0px 1px 3px 1px rgba(60, 64, 67, 0.15);\n",
              "      fill: #174EA6;\n",
              "    }\n",
              "\n",
              "    .colab-df-buttons div {\n",
              "      margin-bottom: 4px;\n",
              "    }\n",
              "\n",
              "    [theme=dark] .colab-df-convert {\n",
              "      background-color: #3B4455;\n",
              "      fill: #D2E3FC;\n",
              "    }\n",
              "\n",
              "    [theme=dark] .colab-df-convert:hover {\n",
              "      background-color: #434B5C;\n",
              "      box-shadow: 0px 1px 3px 1px rgba(0, 0, 0, 0.15);\n",
              "      filter: drop-shadow(0px 1px 2px rgba(0, 0, 0, 0.3));\n",
              "      fill: #FFFFFF;\n",
              "    }\n",
              "  </style>\n",
              "\n",
              "    <script>\n",
              "      const buttonEl =\n",
              "        document.querySelector('#df-97f11659-fb4c-4d83-b9c3-b948c49c30d5 button.colab-df-convert');\n",
              "      buttonEl.style.display =\n",
              "        google.colab.kernel.accessAllowed ? 'block' : 'none';\n",
              "\n",
              "      async function convertToInteractive(key) {\n",
              "        const element = document.querySelector('#df-97f11659-fb4c-4d83-b9c3-b948c49c30d5');\n",
              "        const dataTable =\n",
              "          await google.colab.kernel.invokeFunction('convertToInteractive',\n",
              "                                                    [key], {});\n",
              "        if (!dataTable) return;\n",
              "\n",
              "        const docLinkHtml = 'Like what you see? Visit the ' +\n",
              "          '<a target=\"_blank\" href=https://colab.research.google.com/notebooks/data_table.ipynb>data table notebook</a>'\n",
              "          + ' to learn more about interactive tables.';\n",
              "        element.innerHTML = '';\n",
              "        dataTable['output_type'] = 'display_data';\n",
              "        await google.colab.output.renderOutput(dataTable, element);\n",
              "        const docLink = document.createElement('div');\n",
              "        docLink.innerHTML = docLinkHtml;\n",
              "        element.appendChild(docLink);\n",
              "      }\n",
              "    </script>\n",
              "  </div>\n",
              "\n",
              "\n",
              "<div id=\"df-08de65be-2865-4682-832f-d68cf55506c3\">\n",
              "  <button class=\"colab-df-quickchart\" onclick=\"quickchart('df-08de65be-2865-4682-832f-d68cf55506c3')\"\n",
              "            title=\"Suggest charts\"\n",
              "            style=\"display:none;\">\n",
              "\n",
              "<svg xmlns=\"http://www.w3.org/2000/svg\" height=\"24px\"viewBox=\"0 0 24 24\"\n",
              "     width=\"24px\">\n",
              "    <g>\n",
              "        <path d=\"M19 3H5c-1.1 0-2 .9-2 2v14c0 1.1.9 2 2 2h14c1.1 0 2-.9 2-2V5c0-1.1-.9-2-2-2zM9 17H7v-7h2v7zm4 0h-2V7h2v10zm4 0h-2v-4h2v4z\"/>\n",
              "    </g>\n",
              "</svg>\n",
              "  </button>\n",
              "\n",
              "<style>\n",
              "  .colab-df-quickchart {\n",
              "      --bg-color: #E8F0FE;\n",
              "      --fill-color: #1967D2;\n",
              "      --hover-bg-color: #E2EBFA;\n",
              "      --hover-fill-color: #174EA6;\n",
              "      --disabled-fill-color: #AAA;\n",
              "      --disabled-bg-color: #DDD;\n",
              "  }\n",
              "\n",
              "  [theme=dark] .colab-df-quickchart {\n",
              "      --bg-color: #3B4455;\n",
              "      --fill-color: #D2E3FC;\n",
              "      --hover-bg-color: #434B5C;\n",
              "      --hover-fill-color: #FFFFFF;\n",
              "      --disabled-bg-color: #3B4455;\n",
              "      --disabled-fill-color: #666;\n",
              "  }\n",
              "\n",
              "  .colab-df-quickchart {\n",
              "    background-color: var(--bg-color);\n",
              "    border: none;\n",
              "    border-radius: 50%;\n",
              "    cursor: pointer;\n",
              "    display: none;\n",
              "    fill: var(--fill-color);\n",
              "    height: 32px;\n",
              "    padding: 0;\n",
              "    width: 32px;\n",
              "  }\n",
              "\n",
              "  .colab-df-quickchart:hover {\n",
              "    background-color: var(--hover-bg-color);\n",
              "    box-shadow: 0 1px 2px rgba(60, 64, 67, 0.3), 0 1px 3px 1px rgba(60, 64, 67, 0.15);\n",
              "    fill: var(--button-hover-fill-color);\n",
              "  }\n",
              "\n",
              "  .colab-df-quickchart-complete:disabled,\n",
              "  .colab-df-quickchart-complete:disabled:hover {\n",
              "    background-color: var(--disabled-bg-color);\n",
              "    fill: var(--disabled-fill-color);\n",
              "    box-shadow: none;\n",
              "  }\n",
              "\n",
              "  .colab-df-spinner {\n",
              "    border: 2px solid var(--fill-color);\n",
              "    border-color: transparent;\n",
              "    border-bottom-color: var(--fill-color);\n",
              "    animation:\n",
              "      spin 1s steps(1) infinite;\n",
              "  }\n",
              "\n",
              "  @keyframes spin {\n",
              "    0% {\n",
              "      border-color: transparent;\n",
              "      border-bottom-color: var(--fill-color);\n",
              "      border-left-color: var(--fill-color);\n",
              "    }\n",
              "    20% {\n",
              "      border-color: transparent;\n",
              "      border-left-color: var(--fill-color);\n",
              "      border-top-color: var(--fill-color);\n",
              "    }\n",
              "    30% {\n",
              "      border-color: transparent;\n",
              "      border-left-color: var(--fill-color);\n",
              "      border-top-color: var(--fill-color);\n",
              "      border-right-color: var(--fill-color);\n",
              "    }\n",
              "    40% {\n",
              "      border-color: transparent;\n",
              "      border-right-color: var(--fill-color);\n",
              "      border-top-color: var(--fill-color);\n",
              "    }\n",
              "    60% {\n",
              "      border-color: transparent;\n",
              "      border-right-color: var(--fill-color);\n",
              "    }\n",
              "    80% {\n",
              "      border-color: transparent;\n",
              "      border-right-color: var(--fill-color);\n",
              "      border-bottom-color: var(--fill-color);\n",
              "    }\n",
              "    90% {\n",
              "      border-color: transparent;\n",
              "      border-bottom-color: var(--fill-color);\n",
              "    }\n",
              "  }\n",
              "</style>\n",
              "\n",
              "  <script>\n",
              "    async function quickchart(key) {\n",
              "      const quickchartButtonEl =\n",
              "        document.querySelector('#' + key + ' button');\n",
              "      quickchartButtonEl.disabled = true;  // To prevent multiple clicks.\n",
              "      quickchartButtonEl.classList.add('colab-df-spinner');\n",
              "      try {\n",
              "        const charts = await google.colab.kernel.invokeFunction(\n",
              "            'suggestCharts', [key], {});\n",
              "      } catch (error) {\n",
              "        console.error('Error during call to suggestCharts:', error);\n",
              "      }\n",
              "      quickchartButtonEl.classList.remove('colab-df-spinner');\n",
              "      quickchartButtonEl.classList.add('colab-df-quickchart-complete');\n",
              "    }\n",
              "    (() => {\n",
              "      let quickchartButtonEl =\n",
              "        document.querySelector('#df-08de65be-2865-4682-832f-d68cf55506c3 button');\n",
              "      quickchartButtonEl.style.display =\n",
              "        google.colab.kernel.accessAllowed ? 'block' : 'none';\n",
              "    })();\n",
              "  </script>\n",
              "</div>\n",
              "\n",
              "    </div>\n",
              "  </div>\n"
            ],
            "application/vnd.google.colaboratory.intrinsic+json": {
              "type": "dataframe",
              "variable_name": "snv_data_cleaned"
            }
          },
          "metadata": {},
          "execution_count": 99
        }
      ]
    },
    {
      "cell_type": "markdown",
      "source": [
        "Encoding Pathogenicity"
      ],
      "metadata": {
        "id": "7zM606e9Bswr"
      }
    },
    {
      "cell_type": "code",
      "source": [
        "from imblearn.over_sampling import SMOTE\n",
        "from sklearn.model_selection import train_test_split\n",
        "\n",
        "# Map all unique values in 'Pathogenicity' to numeric classes\n",
        "snv_data_cleaned['Pathogenicity'] = snv_data_cleaned['Pathogenicity'].map({\n",
        "    'Benign': 0,\n",
        "    'Pathogenic': 1,\n",
        "    'Likely Pathogenic': 1,\n",
        "    'VUS': 2,\n",
        "    'Possibly pathogenic': 2,\n",
        "    'Possibly Pathogenic': 2  # Adjust capitalization if needed\n",
        "})\n",
        "\n",
        "# Check for NaN values after mapping\n",
        "if snv_data_cleaned['Pathogenicity'].isnull().any():\n",
        "    print(\"\\nRows with NaN in 'Pathogenicity':\")\n",
        "    print(snv_data_cleaned[snv_data_cleaned['Pathogenicity'].isnull()])\n",
        "    # Drop rows with NaN in 'Pathogenicity' (or handle as appropriate)\n",
        "    snv_data_cleaned = snv_data_cleaned.dropna(subset=['Pathogenicity'])\n",
        "\n",
        "# Verify class distribution after cleaning\n",
        "print(\"\\nUpdated class distribution in 'Pathogenicity':\")\n",
        "print(snv_data_cleaned['Pathogenicity'].value_counts())"
      ],
      "metadata": {
        "colab": {
          "base_uri": "https://localhost:8080/"
        },
        "id": "tPIYBzLEBrya",
        "outputId": "4e1119d5-9116-4557-d63b-91a07615cf02"
      },
      "execution_count": null,
      "outputs": [
        {
          "output_type": "stream",
          "name": "stdout",
          "text": [
            "\n",
            "Updated class distribution in 'Pathogenicity':\n",
            "Pathogenicity\n",
            "2    1594\n",
            "0     598\n",
            "1     400\n",
            "Name: count, dtype: int64\n"
          ]
        }
      ]
    },
    {
      "cell_type": "markdown",
      "source": [
        "Rimozione Campi Codificati in altre colonne"
      ],
      "metadata": {
        "id": "mUsD5pkHB22Q"
      }
    },
    {
      "cell_type": "code",
      "source": [
        "# List of split codon columns to drop\n",
        "columns_to_drop = [\n",
        "    'WT_Codon_First', 'WT_Codon_Second', 'WT_Codon_Third',\n",
        "    'Mutant_Codon_First', 'Mutant_Codon_Second', 'Mutant_Codon_Third'\n",
        "]\n",
        "\n",
        "# Drop the columns\n",
        "snv_data_cleaned = snv_data_cleaned.drop(columns=columns_to_drop, errors='ignore')\n",
        "\n",
        "# Verify remaining columns\n",
        "print(\"\\nDataset after dropping split codon columns:\")\n",
        "print(snv_data_cleaned.dtypes)\n"
      ],
      "metadata": {
        "colab": {
          "base_uri": "https://localhost:8080/"
        },
        "id": "uaB0oF37B6XT",
        "outputId": "722f44de-c6cd-40b6-9964-9b76adca9d15"
      },
      "execution_count": null,
      "outputs": [
        {
          "output_type": "stream",
          "name": "stdout",
          "text": [
            "\n",
            "Dataset after dropping split codon columns:\n",
            "Pathogenicity                                   int64\n",
            "cDNA_Position                                 float64\n",
            "WT_Codon_First_A                              float64\n",
            "WT_Codon_First_T                              float64\n",
            "WT_Codon_First_C                              float64\n",
            "                                               ...   \n",
            "Domain_Oligomerization                           bool\n",
            "Domain_Proline Rich                              bool\n",
            "Domain_Transactivation TAD1                      bool\n",
            "Domain_Transactivation TAD2                      bool\n",
            "Domain_Transactivation TAD2 - Proline Rich       bool\n",
            "Length: 65, dtype: object\n"
          ]
        }
      ]
    },
    {
      "cell_type": "code",
      "source": [
        "# Check if splitting leaves data with NaN values\n",
        "X = snv_data_cleaned.drop(columns=['Pathogenicity'])\n",
        "y = snv_data_cleaned['Pathogenicity']\n",
        "\n",
        "\n",
        "# Check for NaN values in the entire dataset\n",
        "print(\"\\nColumns with NaN values in X:\")\n",
        "print(X.isnull().sum()[X.isnull().sum() > 0])\n",
        "\n",
        "# Find rows with NaN values\n",
        "print(\"\\nRows with NaN values in X:\")\n",
        "print(X[X.isnull().any(axis=1)])\n",
        "\n",
        "# Count total rows with NaN\n",
        "total_nan_rows = X.isnull().any(axis=1).sum()\n",
        "print(f\"\\nTotal rows with NaN values in X: {total_nan_rows}\")\n"
      ],
      "metadata": {
        "id": "Ode8RHkuCrKe",
        "colab": {
          "base_uri": "https://localhost:8080/",
          "height": 211
        },
        "outputId": "88cf7af1-aaa7-4c0a-c885-b52226dd2b5e"
      },
      "execution_count": null,
      "outputs": [
        {
          "output_type": "error",
          "ename": "NameError",
          "evalue": "name 'snv_data_cleaned' is not defined",
          "traceback": [
            "\u001b[0;31m---------------------------------------------------------------------------\u001b[0m",
            "\u001b[0;31mNameError\u001b[0m                                 Traceback (most recent call last)",
            "\u001b[0;32m<ipython-input-2-53ea08640746>\u001b[0m in \u001b[0;36m<cell line: 2>\u001b[0;34m()\u001b[0m\n\u001b[1;32m      1\u001b[0m \u001b[0;31m# Proceed with SMOTE\u001b[0m\u001b[0;34m\u001b[0m\u001b[0;34m\u001b[0m\u001b[0m\n\u001b[0;32m----> 2\u001b[0;31m \u001b[0mX\u001b[0m \u001b[0;34m=\u001b[0m \u001b[0msnv_data_cleaned\u001b[0m\u001b[0;34m.\u001b[0m\u001b[0mdrop\u001b[0m\u001b[0;34m(\u001b[0m\u001b[0mcolumns\u001b[0m\u001b[0;34m=\u001b[0m\u001b[0;34m[\u001b[0m\u001b[0;34m'Pathogenicity'\u001b[0m\u001b[0;34m]\u001b[0m\u001b[0;34m)\u001b[0m\u001b[0;34m\u001b[0m\u001b[0;34m\u001b[0m\u001b[0m\n\u001b[0m\u001b[1;32m      3\u001b[0m \u001b[0my\u001b[0m \u001b[0;34m=\u001b[0m \u001b[0msnv_data_cleaned\u001b[0m\u001b[0;34m[\u001b[0m\u001b[0;34m'Pathogenicity'\u001b[0m\u001b[0;34m]\u001b[0m\u001b[0;34m\u001b[0m\u001b[0;34m\u001b[0m\u001b[0m\n\u001b[1;32m      4\u001b[0m \u001b[0;34m\u001b[0m\u001b[0m\n\u001b[1;32m      5\u001b[0m \u001b[0;34m\u001b[0m\u001b[0m\n",
            "\u001b[0;31mNameError\u001b[0m: name 'snv_data_cleaned' is not defined"
          ]
        }
      ]
    },
    {
      "cell_type": "code",
      "source": [
        "print(X.head(10))"
      ],
      "metadata": {
        "colab": {
          "base_uri": "https://localhost:8080/"
        },
        "id": "IRh_LRUA6WGx",
        "outputId": "37584dfc-0abc-4492-f172-ddaad1ccf670"
      },
      "execution_count": null,
      "outputs": [
        {
          "output_type": "stream",
          "name": "stdout",
          "text": [
            "   cDNA_Position  WT_Codon_First_A  WT_Codon_First_T  WT_Codon_First_C  \\\n",
            "0       0.376890               0.0               0.0               1.0   \n",
            "1       0.392511               0.0               0.0               1.0   \n",
            "2       0.397860               0.0               0.0               1.0   \n",
            "3       0.397789               0.0               0.0               1.0   \n",
            "4       0.392439               0.0               0.0               1.0   \n",
            "5       0.399715               0.0               0.0               1.0   \n",
            "6       0.386519               0.0               1.0               0.0   \n",
            "7       0.384950               0.0               0.0               1.0   \n",
            "8       0.391797               0.0               0.0               0.0   \n",
            "9       0.392796               1.0               0.0               0.0   \n",
            "\n",
            "   WT_Codon_First_G  WT_Codon_First_I  WT_Codon_Second_A  WT_Codon_Second_T  \\\n",
            "0               0.0               0.0                0.0                0.0   \n",
            "1               0.0               0.0                0.0                0.0   \n",
            "2               0.0               0.0                0.0                0.0   \n",
            "3               0.0               0.0                0.0                0.0   \n",
            "4               0.0               0.0                0.0                0.0   \n",
            "5               0.0               0.0                0.0                0.0   \n",
            "6               0.0               0.0                1.0                0.0   \n",
            "7               0.0               0.0                0.0                0.0   \n",
            "8               1.0               0.0                0.0                0.0   \n",
            "9               0.0               0.0                0.0                0.0   \n",
            "\n",
            "   WT_Codon_Second_C  WT_Codon_Second_G  ...  \\\n",
            "0                0.0                1.0  ...   \n",
            "1                0.0                1.0  ...   \n",
            "2                0.0                1.0  ...   \n",
            "3                0.0                1.0  ...   \n",
            "4                0.0                1.0  ...   \n",
            "5                0.0                1.0  ...   \n",
            "6                0.0                0.0  ...   \n",
            "7                0.0                1.0  ...   \n",
            "8                0.0                1.0  ...   \n",
            "9                0.0                1.0  ...   \n",
            "\n",
            "   Domain_NES - Transactivation TAD1  Domain_NES - Transactivation TAD2  \\\n",
            "0                              False                              False   \n",
            "1                              False                              False   \n",
            "2                              False                              False   \n",
            "3                              False                              False   \n",
            "4                              False                              False   \n",
            "5                              False                              False   \n",
            "6                              False                              False   \n",
            "7                              False                              False   \n",
            "8                              False                              False   \n",
            "9                              False                              False   \n",
            "\n",
            "   Domain_NLS  Domain_NLS - Negative regulation  Domain_Negative regulation  \\\n",
            "0       False                             False                       False   \n",
            "1       False                             False                       False   \n",
            "2       False                             False                       False   \n",
            "3       False                             False                       False   \n",
            "4       False                             False                       False   \n",
            "5       False                             False                       False   \n",
            "6       False                             False                       False   \n",
            "7       False                             False                       False   \n",
            "8       False                             False                       False   \n",
            "9       False                             False                       False   \n",
            "\n",
            "   Domain_Oligomerization  Domain_Proline Rich  Domain_Transactivation TAD1  \\\n",
            "0                   False                False                        False   \n",
            "1                   False                False                        False   \n",
            "2                   False                False                        False   \n",
            "3                   False                False                        False   \n",
            "4                   False                False                        False   \n",
            "5                   False                False                        False   \n",
            "6                   False                False                        False   \n",
            "7                   False                False                        False   \n",
            "8                   False                False                        False   \n",
            "9                   False                False                        False   \n",
            "\n",
            "   Domain_Transactivation TAD2  Domain_Transactivation TAD2 - Proline Rich  \n",
            "0                        False                                       False  \n",
            "1                        False                                       False  \n",
            "2                        False                                       False  \n",
            "3                        False                                       False  \n",
            "4                        False                                       False  \n",
            "5                        False                                       False  \n",
            "6                        False                                       False  \n",
            "7                        False                                       False  \n",
            "8                        False                                       False  \n",
            "9                        False                                       False  \n",
            "\n",
            "[10 rows x 64 columns]\n"
          ]
        }
      ]
    },
    {
      "cell_type": "markdown",
      "source": [
        "# Data Balancing"
      ],
      "metadata": {
        "id": "L8leUY1KIhyh"
      }
    },
    {
      "cell_type": "markdown",
      "source": [
        "**Operations Made:**\n",
        "  * Balance data: pathogenic > incert > benign: unbalanced data could deteriorate ML performance. Used `SMOTE` for balance data.\n",
        "  * Split the balanced dataset (after resampling) into training and test sets using `train_test_split` from `sklearn.model_selection.`\n",
        "  * Used an `80-20 split` for training and testing, ensuring a sufficient amount of data for training while retaining a portion for model evaluation.\n",
        "  * Printed the sizes of X_train and X_test to verify the split.\n",
        "\n",
        "**Motivation:**\n",
        "* Properly splitting the data ensures that the model can be evaluated on unseen data, providing an accurate measure of its generalization performance."
      ],
      "metadata": {
        "id": "aV3ak1Wth3x5"
      }
    },
    {
      "cell_type": "code",
      "source": [
        "# Proceed with SMOTE\n",
        "X = snv_data_cleaned.drop(columns=['Pathogenicity'])\n",
        "y = snv_data_cleaned['Pathogenicity']\n",
        "\n",
        "smote = SMOTE(random_state=42)\n",
        "X_resampled, y_resampled = smote.fit_resample(X, y)\n",
        "\n",
        "# Verify class distribution after SMOTE\n",
        "print(\"\\nClass distribution after SMOTE:\")\n",
        "print(pd.Series(y_resampled).value_counts())\n"
      ],
      "metadata": {
        "id": "36OBvPh5JMr5",
        "colab": {
          "base_uri": "https://localhost:8080/",
          "height": 211
        },
        "outputId": "61cb3ade-7bb5-4bee-e322-f04d5624de0d"
      },
      "execution_count": null,
      "outputs": [
        {
          "output_type": "error",
          "ename": "NameError",
          "evalue": "name 'snv_data_cleaned' is not defined",
          "traceback": [
            "\u001b[0;31m---------------------------------------------------------------------------\u001b[0m",
            "\u001b[0;31mNameError\u001b[0m                                 Traceback (most recent call last)",
            "\u001b[0;32m<ipython-input-4-7a3118b55fd5>\u001b[0m in \u001b[0;36m<cell line: 2>\u001b[0;34m()\u001b[0m\n\u001b[1;32m      1\u001b[0m \u001b[0;31m# Proceed with SMOTE\u001b[0m\u001b[0;34m\u001b[0m\u001b[0;34m\u001b[0m\u001b[0m\n\u001b[0;32m----> 2\u001b[0;31m \u001b[0mX\u001b[0m \u001b[0;34m=\u001b[0m \u001b[0msnv_data_cleaned\u001b[0m\u001b[0;34m.\u001b[0m\u001b[0mdrop\u001b[0m\u001b[0;34m(\u001b[0m\u001b[0mcolumns\u001b[0m\u001b[0;34m=\u001b[0m\u001b[0;34m[\u001b[0m\u001b[0;34m'Pathogenicity'\u001b[0m\u001b[0;34m]\u001b[0m\u001b[0;34m)\u001b[0m\u001b[0;34m\u001b[0m\u001b[0;34m\u001b[0m\u001b[0m\n\u001b[0m\u001b[1;32m      3\u001b[0m \u001b[0my\u001b[0m \u001b[0;34m=\u001b[0m \u001b[0msnv_data_cleaned\u001b[0m\u001b[0;34m[\u001b[0m\u001b[0;34m'Pathogenicity'\u001b[0m\u001b[0;34m]\u001b[0m\u001b[0;34m\u001b[0m\u001b[0;34m\u001b[0m\u001b[0m\n\u001b[1;32m      4\u001b[0m \u001b[0;34m\u001b[0m\u001b[0m\n\u001b[1;32m      5\u001b[0m \u001b[0msmote\u001b[0m \u001b[0;34m=\u001b[0m \u001b[0mSMOTE\u001b[0m\u001b[0;34m(\u001b[0m\u001b[0mrandom_state\u001b[0m\u001b[0;34m=\u001b[0m\u001b[0;36m42\u001b[0m\u001b[0;34m)\u001b[0m\u001b[0;34m\u001b[0m\u001b[0;34m\u001b[0m\u001b[0m\n",
            "\u001b[0;31mNameError\u001b[0m: name 'snv_data_cleaned' is not defined"
          ]
        }
      ]
    },
    {
      "cell_type": "markdown",
      "source": [
        "## Divisione in Train e Test Set"
      ],
      "metadata": {
        "id": "8IGiRaTIIsAZ"
      }
    },
    {
      "cell_type": "code",
      "source": [
        "# Split into training and test sets\n",
        "X_train, X_test, y_train, y_test = train_test_split(X_resampled, y_resampled, test_size=0.2, random_state=42)\n",
        "\n",
        "print(\"\\nTraining and test set sizes:\")\n",
        "print(f\"X_train: {X_train.shape}, X_test: {X_test.shape}\")"
      ],
      "metadata": {
        "id": "x4sOipmYIwZm",
        "colab": {
          "base_uri": "https://localhost:8080/"
        },
        "outputId": "f02aa5da-6d5f-44d8-cef1-ef1be6f5a169"
      },
      "execution_count": null,
      "outputs": [
        {
          "output_type": "stream",
          "name": "stdout",
          "text": [
            "\n",
            "Training and test set sizes:\n",
            "X_train: (3825, 64), X_test: (957, 64)\n"
          ]
        }
      ]
    },
    {
      "cell_type": "code",
      "source": [
        "X_train"
      ],
      "metadata": {
        "colab": {
          "base_uri": "https://localhost:8080/",
          "height": 479
        },
        "id": "PPL8h5ke7QOw",
        "outputId": "620a829a-b2cc-458e-fe1f-bf10688b6058"
      },
      "execution_count": null,
      "outputs": [
        {
          "output_type": "execute_result",
          "data": {
            "text/plain": [
              "      cDNA_Position  WT_Codon_First_A  WT_Codon_First_T  WT_Codon_First_C  \\\n",
              "3290       0.382518          1.000000               0.0          0.000000   \n",
              "3322       0.349800          0.000000               1.0          0.000000   \n",
              "4084       0.377687          0.000000               0.0          1.000000   \n",
              "2971       0.364770          0.000000               0.0          0.908301   \n",
              "3626       0.388195          0.320898               0.0          0.000000   \n",
              "...             ...               ...               ...               ...   \n",
              "4426       0.400077          0.000000               0.0          1.000000   \n",
              "466        0.382596          0.000000               0.0          1.000000   \n",
              "3092       0.392884          0.000000               0.0          0.000000   \n",
              "3772       0.386729          0.000000               0.0          0.000000   \n",
              "860        0.345221          0.000000               0.0          1.000000   \n",
              "\n",
              "      WT_Codon_First_G  WT_Codon_First_I  WT_Codon_Second_A  \\\n",
              "3290          0.000000               0.0           0.000000   \n",
              "3322          0.000000               0.0           0.000000   \n",
              "4084          0.000000               0.0           1.000000   \n",
              "2971          0.091699               0.0           1.000000   \n",
              "3626          0.679102               0.0           1.000000   \n",
              "...                ...               ...                ...   \n",
              "4426          0.000000               0.0           0.000000   \n",
              "466           0.000000               0.0           0.000000   \n",
              "3092          1.000000               0.0           0.246301   \n",
              "3772          1.000000               0.0           1.000000   \n",
              "860           0.000000               0.0           0.000000   \n",
              "\n",
              "      WT_Codon_Second_T  WT_Codon_Second_C  WT_Codon_Second_G  ...  \\\n",
              "3290                0.0                1.0           0.000000  ...   \n",
              "3322                0.0                1.0           0.000000  ...   \n",
              "4084                0.0                0.0           0.000000  ...   \n",
              "2971                0.0                0.0           0.000000  ...   \n",
              "3626                0.0                0.0           0.000000  ...   \n",
              "...                 ...                ...                ...  ...   \n",
              "4426                0.0                0.0           1.000000  ...   \n",
              "466                 0.0                0.0           1.000000  ...   \n",
              "3092                0.0                0.0           0.753699  ...   \n",
              "3772                0.0                0.0           0.000000  ...   \n",
              "860                 0.0                1.0           0.000000  ...   \n",
              "\n",
              "      Domain_NES - Transactivation TAD1  Domain_NES - Transactivation TAD2  \\\n",
              "3290                              False                              False   \n",
              "3322                              False                              False   \n",
              "4084                              False                              False   \n",
              "2971                              False                              False   \n",
              "3626                              False                              False   \n",
              "...                                 ...                                ...   \n",
              "4426                              False                              False   \n",
              "466                               False                              False   \n",
              "3092                              False                              False   \n",
              "3772                              False                              False   \n",
              "860                                True                              False   \n",
              "\n",
              "      Domain_NLS  Domain_NLS - Negative regulation  \\\n",
              "3290       False                             False   \n",
              "3322       False                             False   \n",
              "4084       False                             False   \n",
              "2971       False                             False   \n",
              "3626       False                             False   \n",
              "...          ...                               ...   \n",
              "4426       False                             False   \n",
              "466        False                             False   \n",
              "3092       False                             False   \n",
              "3772       False                             False   \n",
              "860        False                             False   \n",
              "\n",
              "      Domain_Negative regulation  Domain_Oligomerization  Domain_Proline Rich  \\\n",
              "3290                       False                   False                False   \n",
              "3322                       False                   False                False   \n",
              "4084                       False                   False                False   \n",
              "2971                       False                   False                False   \n",
              "3626                       False                   False                False   \n",
              "...                          ...                     ...                  ...   \n",
              "4426                       False                    True                False   \n",
              "466                        False                   False                False   \n",
              "3092                       False                    True                False   \n",
              "3772                       False                   False                False   \n",
              "860                        False                   False                False   \n",
              "\n",
              "      Domain_Transactivation TAD1  Domain_Transactivation TAD2  \\\n",
              "3290                        False                        False   \n",
              "3322                         True                        False   \n",
              "4084                        False                        False   \n",
              "2971                        False                        False   \n",
              "3626                        False                        False   \n",
              "...                           ...                          ...   \n",
              "4426                        False                        False   \n",
              "466                         False                        False   \n",
              "3092                        False                        False   \n",
              "3772                        False                        False   \n",
              "860                         False                        False   \n",
              "\n",
              "      Domain_Transactivation TAD2 - Proline Rich  \n",
              "3290                                       False  \n",
              "3322                                       False  \n",
              "4084                                       False  \n",
              "2971                                       False  \n",
              "3626                                       False  \n",
              "...                                          ...  \n",
              "4426                                       False  \n",
              "466                                        False  \n",
              "3092                                       False  \n",
              "3772                                       False  \n",
              "860                                        False  \n",
              "\n",
              "[3825 rows x 64 columns]"
            ],
            "text/html": [
              "\n",
              "  <div id=\"df-4140be78-ecf7-43c0-acf8-accfa323fba7\" class=\"colab-df-container\">\n",
              "    <div>\n",
              "<style scoped>\n",
              "    .dataframe tbody tr th:only-of-type {\n",
              "        vertical-align: middle;\n",
              "    }\n",
              "\n",
              "    .dataframe tbody tr th {\n",
              "        vertical-align: top;\n",
              "    }\n",
              "\n",
              "    .dataframe thead th {\n",
              "        text-align: right;\n",
              "    }\n",
              "</style>\n",
              "<table border=\"1\" class=\"dataframe\">\n",
              "  <thead>\n",
              "    <tr style=\"text-align: right;\">\n",
              "      <th></th>\n",
              "      <th>cDNA_Position</th>\n",
              "      <th>WT_Codon_First_A</th>\n",
              "      <th>WT_Codon_First_T</th>\n",
              "      <th>WT_Codon_First_C</th>\n",
              "      <th>WT_Codon_First_G</th>\n",
              "      <th>WT_Codon_First_I</th>\n",
              "      <th>WT_Codon_Second_A</th>\n",
              "      <th>WT_Codon_Second_T</th>\n",
              "      <th>WT_Codon_Second_C</th>\n",
              "      <th>WT_Codon_Second_G</th>\n",
              "      <th>...</th>\n",
              "      <th>Domain_NES - Transactivation TAD1</th>\n",
              "      <th>Domain_NES - Transactivation TAD2</th>\n",
              "      <th>Domain_NLS</th>\n",
              "      <th>Domain_NLS - Negative regulation</th>\n",
              "      <th>Domain_Negative regulation</th>\n",
              "      <th>Domain_Oligomerization</th>\n",
              "      <th>Domain_Proline Rich</th>\n",
              "      <th>Domain_Transactivation TAD1</th>\n",
              "      <th>Domain_Transactivation TAD2</th>\n",
              "      <th>Domain_Transactivation TAD2 - Proline Rich</th>\n",
              "    </tr>\n",
              "  </thead>\n",
              "  <tbody>\n",
              "    <tr>\n",
              "      <th>3290</th>\n",
              "      <td>0.382518</td>\n",
              "      <td>1.000000</td>\n",
              "      <td>0.0</td>\n",
              "      <td>0.000000</td>\n",
              "      <td>0.000000</td>\n",
              "      <td>0.0</td>\n",
              "      <td>0.000000</td>\n",
              "      <td>0.0</td>\n",
              "      <td>1.0</td>\n",
              "      <td>0.000000</td>\n",
              "      <td>...</td>\n",
              "      <td>False</td>\n",
              "      <td>False</td>\n",
              "      <td>False</td>\n",
              "      <td>False</td>\n",
              "      <td>False</td>\n",
              "      <td>False</td>\n",
              "      <td>False</td>\n",
              "      <td>False</td>\n",
              "      <td>False</td>\n",
              "      <td>False</td>\n",
              "    </tr>\n",
              "    <tr>\n",
              "      <th>3322</th>\n",
              "      <td>0.349800</td>\n",
              "      <td>0.000000</td>\n",
              "      <td>1.0</td>\n",
              "      <td>0.000000</td>\n",
              "      <td>0.000000</td>\n",
              "      <td>0.0</td>\n",
              "      <td>0.000000</td>\n",
              "      <td>0.0</td>\n",
              "      <td>1.0</td>\n",
              "      <td>0.000000</td>\n",
              "      <td>...</td>\n",
              "      <td>False</td>\n",
              "      <td>False</td>\n",
              "      <td>False</td>\n",
              "      <td>False</td>\n",
              "      <td>False</td>\n",
              "      <td>False</td>\n",
              "      <td>False</td>\n",
              "      <td>True</td>\n",
              "      <td>False</td>\n",
              "      <td>False</td>\n",
              "    </tr>\n",
              "    <tr>\n",
              "      <th>4084</th>\n",
              "      <td>0.377687</td>\n",
              "      <td>0.000000</td>\n",
              "      <td>0.0</td>\n",
              "      <td>1.000000</td>\n",
              "      <td>0.000000</td>\n",
              "      <td>0.0</td>\n",
              "      <td>1.000000</td>\n",
              "      <td>0.0</td>\n",
              "      <td>0.0</td>\n",
              "      <td>0.000000</td>\n",
              "      <td>...</td>\n",
              "      <td>False</td>\n",
              "      <td>False</td>\n",
              "      <td>False</td>\n",
              "      <td>False</td>\n",
              "      <td>False</td>\n",
              "      <td>False</td>\n",
              "      <td>False</td>\n",
              "      <td>False</td>\n",
              "      <td>False</td>\n",
              "      <td>False</td>\n",
              "    </tr>\n",
              "    <tr>\n",
              "      <th>2971</th>\n",
              "      <td>0.364770</td>\n",
              "      <td>0.000000</td>\n",
              "      <td>0.0</td>\n",
              "      <td>0.908301</td>\n",
              "      <td>0.091699</td>\n",
              "      <td>0.0</td>\n",
              "      <td>1.000000</td>\n",
              "      <td>0.0</td>\n",
              "      <td>0.0</td>\n",
              "      <td>0.000000</td>\n",
              "      <td>...</td>\n",
              "      <td>False</td>\n",
              "      <td>False</td>\n",
              "      <td>False</td>\n",
              "      <td>False</td>\n",
              "      <td>False</td>\n",
              "      <td>False</td>\n",
              "      <td>False</td>\n",
              "      <td>False</td>\n",
              "      <td>False</td>\n",
              "      <td>False</td>\n",
              "    </tr>\n",
              "    <tr>\n",
              "      <th>3626</th>\n",
              "      <td>0.388195</td>\n",
              "      <td>0.320898</td>\n",
              "      <td>0.0</td>\n",
              "      <td>0.000000</td>\n",
              "      <td>0.679102</td>\n",
              "      <td>0.0</td>\n",
              "      <td>1.000000</td>\n",
              "      <td>0.0</td>\n",
              "      <td>0.0</td>\n",
              "      <td>0.000000</td>\n",
              "      <td>...</td>\n",
              "      <td>False</td>\n",
              "      <td>False</td>\n",
              "      <td>False</td>\n",
              "      <td>False</td>\n",
              "      <td>False</td>\n",
              "      <td>False</td>\n",
              "      <td>False</td>\n",
              "      <td>False</td>\n",
              "      <td>False</td>\n",
              "      <td>False</td>\n",
              "    </tr>\n",
              "    <tr>\n",
              "      <th>...</th>\n",
              "      <td>...</td>\n",
              "      <td>...</td>\n",
              "      <td>...</td>\n",
              "      <td>...</td>\n",
              "      <td>...</td>\n",
              "      <td>...</td>\n",
              "      <td>...</td>\n",
              "      <td>...</td>\n",
              "      <td>...</td>\n",
              "      <td>...</td>\n",
              "      <td>...</td>\n",
              "      <td>...</td>\n",
              "      <td>...</td>\n",
              "      <td>...</td>\n",
              "      <td>...</td>\n",
              "      <td>...</td>\n",
              "      <td>...</td>\n",
              "      <td>...</td>\n",
              "      <td>...</td>\n",
              "      <td>...</td>\n",
              "      <td>...</td>\n",
              "    </tr>\n",
              "    <tr>\n",
              "      <th>4426</th>\n",
              "      <td>0.400077</td>\n",
              "      <td>0.000000</td>\n",
              "      <td>0.0</td>\n",
              "      <td>1.000000</td>\n",
              "      <td>0.000000</td>\n",
              "      <td>0.0</td>\n",
              "      <td>0.000000</td>\n",
              "      <td>0.0</td>\n",
              "      <td>0.0</td>\n",
              "      <td>1.000000</td>\n",
              "      <td>...</td>\n",
              "      <td>False</td>\n",
              "      <td>False</td>\n",
              "      <td>False</td>\n",
              "      <td>False</td>\n",
              "      <td>False</td>\n",
              "      <td>True</td>\n",
              "      <td>False</td>\n",
              "      <td>False</td>\n",
              "      <td>False</td>\n",
              "      <td>False</td>\n",
              "    </tr>\n",
              "    <tr>\n",
              "      <th>466</th>\n",
              "      <td>0.382596</td>\n",
              "      <td>0.000000</td>\n",
              "      <td>0.0</td>\n",
              "      <td>1.000000</td>\n",
              "      <td>0.000000</td>\n",
              "      <td>0.0</td>\n",
              "      <td>0.000000</td>\n",
              "      <td>0.0</td>\n",
              "      <td>0.0</td>\n",
              "      <td>1.000000</td>\n",
              "      <td>...</td>\n",
              "      <td>False</td>\n",
              "      <td>False</td>\n",
              "      <td>False</td>\n",
              "      <td>False</td>\n",
              "      <td>False</td>\n",
              "      <td>False</td>\n",
              "      <td>False</td>\n",
              "      <td>False</td>\n",
              "      <td>False</td>\n",
              "      <td>False</td>\n",
              "    </tr>\n",
              "    <tr>\n",
              "      <th>3092</th>\n",
              "      <td>0.392884</td>\n",
              "      <td>0.000000</td>\n",
              "      <td>0.0</td>\n",
              "      <td>0.000000</td>\n",
              "      <td>1.000000</td>\n",
              "      <td>0.0</td>\n",
              "      <td>0.246301</td>\n",
              "      <td>0.0</td>\n",
              "      <td>0.0</td>\n",
              "      <td>0.753699</td>\n",
              "      <td>...</td>\n",
              "      <td>False</td>\n",
              "      <td>False</td>\n",
              "      <td>False</td>\n",
              "      <td>False</td>\n",
              "      <td>False</td>\n",
              "      <td>True</td>\n",
              "      <td>False</td>\n",
              "      <td>False</td>\n",
              "      <td>False</td>\n",
              "      <td>False</td>\n",
              "    </tr>\n",
              "    <tr>\n",
              "      <th>3772</th>\n",
              "      <td>0.386729</td>\n",
              "      <td>0.000000</td>\n",
              "      <td>0.0</td>\n",
              "      <td>0.000000</td>\n",
              "      <td>1.000000</td>\n",
              "      <td>0.0</td>\n",
              "      <td>1.000000</td>\n",
              "      <td>0.0</td>\n",
              "      <td>0.0</td>\n",
              "      <td>0.000000</td>\n",
              "      <td>...</td>\n",
              "      <td>False</td>\n",
              "      <td>False</td>\n",
              "      <td>False</td>\n",
              "      <td>False</td>\n",
              "      <td>False</td>\n",
              "      <td>False</td>\n",
              "      <td>False</td>\n",
              "      <td>False</td>\n",
              "      <td>False</td>\n",
              "      <td>False</td>\n",
              "    </tr>\n",
              "    <tr>\n",
              "      <th>860</th>\n",
              "      <td>0.345221</td>\n",
              "      <td>0.000000</td>\n",
              "      <td>0.0</td>\n",
              "      <td>1.000000</td>\n",
              "      <td>0.000000</td>\n",
              "      <td>0.0</td>\n",
              "      <td>0.000000</td>\n",
              "      <td>0.0</td>\n",
              "      <td>1.0</td>\n",
              "      <td>0.000000</td>\n",
              "      <td>...</td>\n",
              "      <td>True</td>\n",
              "      <td>False</td>\n",
              "      <td>False</td>\n",
              "      <td>False</td>\n",
              "      <td>False</td>\n",
              "      <td>False</td>\n",
              "      <td>False</td>\n",
              "      <td>False</td>\n",
              "      <td>False</td>\n",
              "      <td>False</td>\n",
              "    </tr>\n",
              "  </tbody>\n",
              "</table>\n",
              "<p>3825 rows × 64 columns</p>\n",
              "</div>\n",
              "    <div class=\"colab-df-buttons\">\n",
              "\n",
              "  <div class=\"colab-df-container\">\n",
              "    <button class=\"colab-df-convert\" onclick=\"convertToInteractive('df-4140be78-ecf7-43c0-acf8-accfa323fba7')\"\n",
              "            title=\"Convert this dataframe to an interactive table.\"\n",
              "            style=\"display:none;\">\n",
              "\n",
              "  <svg xmlns=\"http://www.w3.org/2000/svg\" height=\"24px\" viewBox=\"0 -960 960 960\">\n",
              "    <path d=\"M120-120v-720h720v720H120Zm60-500h600v-160H180v160Zm220 220h160v-160H400v160Zm0 220h160v-160H400v160ZM180-400h160v-160H180v160Zm440 0h160v-160H620v160ZM180-180h160v-160H180v160Zm440 0h160v-160H620v160Z\"/>\n",
              "  </svg>\n",
              "    </button>\n",
              "\n",
              "  <style>\n",
              "    .colab-df-container {\n",
              "      display:flex;\n",
              "      gap: 12px;\n",
              "    }\n",
              "\n",
              "    .colab-df-convert {\n",
              "      background-color: #E8F0FE;\n",
              "      border: none;\n",
              "      border-radius: 50%;\n",
              "      cursor: pointer;\n",
              "      display: none;\n",
              "      fill: #1967D2;\n",
              "      height: 32px;\n",
              "      padding: 0 0 0 0;\n",
              "      width: 32px;\n",
              "    }\n",
              "\n",
              "    .colab-df-convert:hover {\n",
              "      background-color: #E2EBFA;\n",
              "      box-shadow: 0px 1px 2px rgba(60, 64, 67, 0.3), 0px 1px 3px 1px rgba(60, 64, 67, 0.15);\n",
              "      fill: #174EA6;\n",
              "    }\n",
              "\n",
              "    .colab-df-buttons div {\n",
              "      margin-bottom: 4px;\n",
              "    }\n",
              "\n",
              "    [theme=dark] .colab-df-convert {\n",
              "      background-color: #3B4455;\n",
              "      fill: #D2E3FC;\n",
              "    }\n",
              "\n",
              "    [theme=dark] .colab-df-convert:hover {\n",
              "      background-color: #434B5C;\n",
              "      box-shadow: 0px 1px 3px 1px rgba(0, 0, 0, 0.15);\n",
              "      filter: drop-shadow(0px 1px 2px rgba(0, 0, 0, 0.3));\n",
              "      fill: #FFFFFF;\n",
              "    }\n",
              "  </style>\n",
              "\n",
              "    <script>\n",
              "      const buttonEl =\n",
              "        document.querySelector('#df-4140be78-ecf7-43c0-acf8-accfa323fba7 button.colab-df-convert');\n",
              "      buttonEl.style.display =\n",
              "        google.colab.kernel.accessAllowed ? 'block' : 'none';\n",
              "\n",
              "      async function convertToInteractive(key) {\n",
              "        const element = document.querySelector('#df-4140be78-ecf7-43c0-acf8-accfa323fba7');\n",
              "        const dataTable =\n",
              "          await google.colab.kernel.invokeFunction('convertToInteractive',\n",
              "                                                    [key], {});\n",
              "        if (!dataTable) return;\n",
              "\n",
              "        const docLinkHtml = 'Like what you see? Visit the ' +\n",
              "          '<a target=\"_blank\" href=https://colab.research.google.com/notebooks/data_table.ipynb>data table notebook</a>'\n",
              "          + ' to learn more about interactive tables.';\n",
              "        element.innerHTML = '';\n",
              "        dataTable['output_type'] = 'display_data';\n",
              "        await google.colab.output.renderOutput(dataTable, element);\n",
              "        const docLink = document.createElement('div');\n",
              "        docLink.innerHTML = docLinkHtml;\n",
              "        element.appendChild(docLink);\n",
              "      }\n",
              "    </script>\n",
              "  </div>\n",
              "\n",
              "\n",
              "<div id=\"df-8564f50f-f424-4e26-92ac-a9366f6018bb\">\n",
              "  <button class=\"colab-df-quickchart\" onclick=\"quickchart('df-8564f50f-f424-4e26-92ac-a9366f6018bb')\"\n",
              "            title=\"Suggest charts\"\n",
              "            style=\"display:none;\">\n",
              "\n",
              "<svg xmlns=\"http://www.w3.org/2000/svg\" height=\"24px\"viewBox=\"0 0 24 24\"\n",
              "     width=\"24px\">\n",
              "    <g>\n",
              "        <path d=\"M19 3H5c-1.1 0-2 .9-2 2v14c0 1.1.9 2 2 2h14c1.1 0 2-.9 2-2V5c0-1.1-.9-2-2-2zM9 17H7v-7h2v7zm4 0h-2V7h2v10zm4 0h-2v-4h2v4z\"/>\n",
              "    </g>\n",
              "</svg>\n",
              "  </button>\n",
              "\n",
              "<style>\n",
              "  .colab-df-quickchart {\n",
              "      --bg-color: #E8F0FE;\n",
              "      --fill-color: #1967D2;\n",
              "      --hover-bg-color: #E2EBFA;\n",
              "      --hover-fill-color: #174EA6;\n",
              "      --disabled-fill-color: #AAA;\n",
              "      --disabled-bg-color: #DDD;\n",
              "  }\n",
              "\n",
              "  [theme=dark] .colab-df-quickchart {\n",
              "      --bg-color: #3B4455;\n",
              "      --fill-color: #D2E3FC;\n",
              "      --hover-bg-color: #434B5C;\n",
              "      --hover-fill-color: #FFFFFF;\n",
              "      --disabled-bg-color: #3B4455;\n",
              "      --disabled-fill-color: #666;\n",
              "  }\n",
              "\n",
              "  .colab-df-quickchart {\n",
              "    background-color: var(--bg-color);\n",
              "    border: none;\n",
              "    border-radius: 50%;\n",
              "    cursor: pointer;\n",
              "    display: none;\n",
              "    fill: var(--fill-color);\n",
              "    height: 32px;\n",
              "    padding: 0;\n",
              "    width: 32px;\n",
              "  }\n",
              "\n",
              "  .colab-df-quickchart:hover {\n",
              "    background-color: var(--hover-bg-color);\n",
              "    box-shadow: 0 1px 2px rgba(60, 64, 67, 0.3), 0 1px 3px 1px rgba(60, 64, 67, 0.15);\n",
              "    fill: var(--button-hover-fill-color);\n",
              "  }\n",
              "\n",
              "  .colab-df-quickchart-complete:disabled,\n",
              "  .colab-df-quickchart-complete:disabled:hover {\n",
              "    background-color: var(--disabled-bg-color);\n",
              "    fill: var(--disabled-fill-color);\n",
              "    box-shadow: none;\n",
              "  }\n",
              "\n",
              "  .colab-df-spinner {\n",
              "    border: 2px solid var(--fill-color);\n",
              "    border-color: transparent;\n",
              "    border-bottom-color: var(--fill-color);\n",
              "    animation:\n",
              "      spin 1s steps(1) infinite;\n",
              "  }\n",
              "\n",
              "  @keyframes spin {\n",
              "    0% {\n",
              "      border-color: transparent;\n",
              "      border-bottom-color: var(--fill-color);\n",
              "      border-left-color: var(--fill-color);\n",
              "    }\n",
              "    20% {\n",
              "      border-color: transparent;\n",
              "      border-left-color: var(--fill-color);\n",
              "      border-top-color: var(--fill-color);\n",
              "    }\n",
              "    30% {\n",
              "      border-color: transparent;\n",
              "      border-left-color: var(--fill-color);\n",
              "      border-top-color: var(--fill-color);\n",
              "      border-right-color: var(--fill-color);\n",
              "    }\n",
              "    40% {\n",
              "      border-color: transparent;\n",
              "      border-right-color: var(--fill-color);\n",
              "      border-top-color: var(--fill-color);\n",
              "    }\n",
              "    60% {\n",
              "      border-color: transparent;\n",
              "      border-right-color: var(--fill-color);\n",
              "    }\n",
              "    80% {\n",
              "      border-color: transparent;\n",
              "      border-right-color: var(--fill-color);\n",
              "      border-bottom-color: var(--fill-color);\n",
              "    }\n",
              "    90% {\n",
              "      border-color: transparent;\n",
              "      border-bottom-color: var(--fill-color);\n",
              "    }\n",
              "  }\n",
              "</style>\n",
              "\n",
              "  <script>\n",
              "    async function quickchart(key) {\n",
              "      const quickchartButtonEl =\n",
              "        document.querySelector('#' + key + ' button');\n",
              "      quickchartButtonEl.disabled = true;  // To prevent multiple clicks.\n",
              "      quickchartButtonEl.classList.add('colab-df-spinner');\n",
              "      try {\n",
              "        const charts = await google.colab.kernel.invokeFunction(\n",
              "            'suggestCharts', [key], {});\n",
              "      } catch (error) {\n",
              "        console.error('Error during call to suggestCharts:', error);\n",
              "      }\n",
              "      quickchartButtonEl.classList.remove('colab-df-spinner');\n",
              "      quickchartButtonEl.classList.add('colab-df-quickchart-complete');\n",
              "    }\n",
              "    (() => {\n",
              "      let quickchartButtonEl =\n",
              "        document.querySelector('#df-8564f50f-f424-4e26-92ac-a9366f6018bb button');\n",
              "      quickchartButtonEl.style.display =\n",
              "        google.colab.kernel.accessAllowed ? 'block' : 'none';\n",
              "    })();\n",
              "  </script>\n",
              "</div>\n",
              "\n",
              "  <div id=\"id_40873523-6c71-49ae-9828-42d60449ba95\">\n",
              "    <style>\n",
              "      .colab-df-generate {\n",
              "        background-color: #E8F0FE;\n",
              "        border: none;\n",
              "        border-radius: 50%;\n",
              "        cursor: pointer;\n",
              "        display: none;\n",
              "        fill: #1967D2;\n",
              "        height: 32px;\n",
              "        padding: 0 0 0 0;\n",
              "        width: 32px;\n",
              "      }\n",
              "\n",
              "      .colab-df-generate:hover {\n",
              "        background-color: #E2EBFA;\n",
              "        box-shadow: 0px 1px 2px rgba(60, 64, 67, 0.3), 0px 1px 3px 1px rgba(60, 64, 67, 0.15);\n",
              "        fill: #174EA6;\n",
              "      }\n",
              "\n",
              "      [theme=dark] .colab-df-generate {\n",
              "        background-color: #3B4455;\n",
              "        fill: #D2E3FC;\n",
              "      }\n",
              "\n",
              "      [theme=dark] .colab-df-generate:hover {\n",
              "        background-color: #434B5C;\n",
              "        box-shadow: 0px 1px 3px 1px rgba(0, 0, 0, 0.15);\n",
              "        filter: drop-shadow(0px 1px 2px rgba(0, 0, 0, 0.3));\n",
              "        fill: #FFFFFF;\n",
              "      }\n",
              "    </style>\n",
              "    <button class=\"colab-df-generate\" onclick=\"generateWithVariable('X_train')\"\n",
              "            title=\"Generate code using this dataframe.\"\n",
              "            style=\"display:none;\">\n",
              "\n",
              "  <svg xmlns=\"http://www.w3.org/2000/svg\" height=\"24px\"viewBox=\"0 0 24 24\"\n",
              "       width=\"24px\">\n",
              "    <path d=\"M7,19H8.4L18.45,9,17,7.55,7,17.6ZM5,21V16.75L18.45,3.32a2,2,0,0,1,2.83,0l1.4,1.43a1.91,1.91,0,0,1,.58,1.4,1.91,1.91,0,0,1-.58,1.4L9.25,21ZM18.45,9,17,7.55Zm-12,3A5.31,5.31,0,0,0,4.9,8.1,5.31,5.31,0,0,0,1,6.5,5.31,5.31,0,0,0,4.9,4.9,5.31,5.31,0,0,0,6.5,1,5.31,5.31,0,0,0,8.1,4.9,5.31,5.31,0,0,0,12,6.5,5.46,5.46,0,0,0,6.5,12Z\"/>\n",
              "  </svg>\n",
              "    </button>\n",
              "    <script>\n",
              "      (() => {\n",
              "      const buttonEl =\n",
              "        document.querySelector('#id_40873523-6c71-49ae-9828-42d60449ba95 button.colab-df-generate');\n",
              "      buttonEl.style.display =\n",
              "        google.colab.kernel.accessAllowed ? 'block' : 'none';\n",
              "\n",
              "      buttonEl.onclick = () => {\n",
              "        google.colab.notebook.generateWithVariable('X_train');\n",
              "      }\n",
              "      })();\n",
              "    </script>\n",
              "  </div>\n",
              "\n",
              "    </div>\n",
              "  </div>\n"
            ],
            "application/vnd.google.colaboratory.intrinsic+json": {
              "type": "dataframe",
              "variable_name": "X_train"
            }
          },
          "metadata": {},
          "execution_count": 106
        }
      ]
    },
    {
      "cell_type": "markdown",
      "source": [
        "# Architettura Rete e Train"
      ],
      "metadata": {
        "id": "vbGdbkjtCB1N"
      }
    },
    {
      "cell_type": "markdown",
      "source": [
        "**Architecture:**  \n",
        "Defined a Sequential neural network using TensorFlow and Keras, with the following architecture:  \n",
        "  * Input Layer: A dense layer with 128 neurons and ReLU activation, designed to process input features.\n",
        "  * Dropout Layer (0.3): Added to prevent overfitting by randomly deactivating 30% of neurons.\n",
        "  * Hidden Layer: A second dense layer with 64 neurons and ReLU activation.\n",
        "  * Dropout Layer (0.3): Another dropout layer to improve generalization.    \n",
        "  * Output Layer: A dense layer with 3 neurons and softmax activation for multiclass classification.\n",
        "\n",
        "\n",
        "**Compiled** the model using the Adam optimizer and categorical crossentropy loss, appropriate for multiclass problems.\n",
        "\n",
        "**Trained** the model for 50 epochs with a batch size of 32, while validating on the test set during training.\n",
        "\n",
        "**Evaluated** the model on the test set to measure its performance.\n",
        "\n",
        "**Motivation:**\n",
        "* The chosen architecture balances model complexity and regularization, enabling it to capture meaningful patterns while avoiding overfitting.\n",
        "* The use of dropout layers and ReLU activation ensures efficient learning and generalization.\n",
        "* Training and validation provide feedback for fine-tuning the model."
      ],
      "metadata": {
        "id": "HWySF-QHimtV"
      }
    },
    {
      "cell_type": "code",
      "source": [
        "import tensorflow as tf\n",
        "from tensorflow.keras.models import Sequential\n",
        "from tensorflow.keras.layers import Dense, Dropout\n",
        "\n",
        "# Define the neural network\n",
        "input_dim = X_train.shape[1]  # Number of features\n",
        "\n",
        "model = Sequential([\n",
        "    Dense(128, activation='relu', input_dim=input_dim),\n",
        "    Dropout(0.3),  # Prevent overfitting\n",
        "    Dense(64, activation='relu'),\n",
        "    Dropout(0.3),\n",
        "    Dense(3, activation='softmax')  # Adjust the output units for the number of classes\n",
        "])\n",
        "\n",
        "# Compile the model\n",
        "model.compile(\n",
        "    optimizer='adam',\n",
        "    loss='categorical_crossentropy',  # For multiclass classification\n",
        "    metrics=['accuracy']\n",
        ")\n",
        "\n",
        "# Train the model\n",
        "history = model.fit(\n",
        "    X_train, tf.keras.utils.to_categorical(y_train),  # Convert labels to one-hot\n",
        "    validation_data=(X_test, tf.keras.utils.to_categorical(y_test)),\n",
        "    epochs=50,  # Adjust based on performance\n",
        "    batch_size=32,\n",
        "    verbose=1\n",
        ")\n",
        "\n",
        "# Evaluate the model\n",
        "print(\"\\nTest Evaluation:\")\n",
        "model.evaluate(X_test, tf.keras.utils.to_categorical(y_test))\n"
      ],
      "metadata": {
        "colab": {
          "base_uri": "https://localhost:8080/",
          "height": 211
        },
        "id": "lQVs3TUyCGNw",
        "outputId": "6fac64fb-51bf-4d68-81c1-6f9e72f1f6ba"
      },
      "execution_count": null,
      "outputs": [
        {
          "output_type": "error",
          "ename": "NameError",
          "evalue": "name 'X_train' is not defined",
          "traceback": [
            "\u001b[0;31m---------------------------------------------------------------------------\u001b[0m",
            "\u001b[0;31mNameError\u001b[0m                                 Traceback (most recent call last)",
            "\u001b[0;32m<ipython-input-5-1dd3b75de03a>\u001b[0m in \u001b[0;36m<cell line: 6>\u001b[0;34m()\u001b[0m\n\u001b[1;32m      4\u001b[0m \u001b[0;34m\u001b[0m\u001b[0m\n\u001b[1;32m      5\u001b[0m \u001b[0;31m# Define the neural network\u001b[0m\u001b[0;34m\u001b[0m\u001b[0;34m\u001b[0m\u001b[0m\n\u001b[0;32m----> 6\u001b[0;31m \u001b[0minput_dim\u001b[0m \u001b[0;34m=\u001b[0m \u001b[0mX_train\u001b[0m\u001b[0;34m.\u001b[0m\u001b[0mshape\u001b[0m\u001b[0;34m[\u001b[0m\u001b[0;36m1\u001b[0m\u001b[0;34m]\u001b[0m  \u001b[0;31m# Number of features\u001b[0m\u001b[0;34m\u001b[0m\u001b[0;34m\u001b[0m\u001b[0m\n\u001b[0m\u001b[1;32m      7\u001b[0m \u001b[0;34m\u001b[0m\u001b[0m\n\u001b[1;32m      8\u001b[0m model = Sequential([\n",
            "\u001b[0;31mNameError\u001b[0m: name 'X_train' is not defined"
          ]
        }
      ]
    },
    {
      "cell_type": "markdown",
      "source": [
        "# Evaluation"
      ],
      "metadata": {
        "id": "RxIOBsC0KIJD"
      }
    },
    {
      "cell_type": "markdown",
      "source": [
        "**Model Evaluation**"
      ],
      "metadata": {
        "id": "Mrp0EymWjMdh"
      }
    },
    {
      "cell_type": "markdown",
      "source": [
        "## Accuracy Plot"
      ],
      "metadata": {
        "id": "wJo7-Q54KsR-"
      }
    },
    {
      "cell_type": "code",
      "source": [
        "import matplotlib.pyplot as plt\n",
        "\n",
        "plt.plot(history.history['accuracy'], label='Accuracy')\n",
        "plt.plot(history.history['val_accuracy'], label='Validation Accuracy')\n",
        "plt.xlabel('Epoch')\n",
        "plt.ylabel('Accuracy')\n",
        "plt.legend()\n",
        "plt.show()\n"
      ],
      "metadata": {
        "colab": {
          "base_uri": "https://localhost:8080/",
          "height": 449
        },
        "id": "-tI5Dgb4KH66",
        "outputId": "e5a25472-1d60-4a53-a49b-e4f7a0314339"
      },
      "execution_count": null,
      "outputs": [
        {
          "output_type": "display_data",
          "data": {
            "text/plain": [
              "<Figure size 640x480 with 1 Axes>"
            ],
            "image/png": "[encoded data removed]"
          },
          "metadata": {}
        }
      ]
    },
    {
      "cell_type": "markdown",
      "source": [
        "Ottieni Predizioni"
      ],
      "metadata": {
        "id": "BHdICWGNMTkh"
      }
    },
    {
      "cell_type": "code",
      "source": [
        "from sklearn.metrics import classification_report, confusion_matrix, accuracy_score\n",
        "import numpy as np\n",
        "\n",
        "# Predizioni del modello\n",
        "y_pred_probs = model.predict(X_test)\n",
        "\n",
        "# Converti probabilità in classi previste\n",
        "if y_pred_probs.shape[1] > 1:  # Multiclasse\n",
        "    y_pred = y_pred_probs.argmax(axis=1)\n",
        "else:  # Binario\n",
        "    y_pred = (y_pred_probs > 0.5).astype(int)\n",
        "\n",
        "# Gestisci y_test_classes\n",
        "if len(y_test.shape) > 1 and y_test.shape[1] > 1:  # One-hot encoding\n",
        "    y_test_classes = y_test.argmax(axis=1)\n",
        "else:  # Già numerico\n",
        "    y_test_classes = y_test"
      ],
      "metadata": {
        "colab": {
          "base_uri": "https://localhost:8080/"
        },
        "id": "AcXtisE8MVmy",
        "outputId": "2217d5cb-0212-4ee2-df67-b2fafbf43657"
      },
      "execution_count": null,
      "outputs": [
        {
          "output_type": "stream",
          "name": "stdout",
          "text": [
            "\u001b[1m30/30\u001b[0m \u001b[32m━━━━━━━━━━━━━━━━━━━━\u001b[0m\u001b[37m\u001b[0m \u001b[1m0s\u001b[0m 3ms/step\n"
          ]
        }
      ]
    },
    {
      "cell_type": "markdown",
      "source": [
        "## Scores"
      ],
      "metadata": {
        "id": "CBB8CwnBKpmT"
      }
    },
    {
      "cell_type": "code",
      "source": [
        "from sklearn.metrics import classification_report, confusion_matrix, accuracy_score\n",
        "# X_train, X_test, y_train, y_test\n",
        "\n",
        "# Accuracy\n",
        "accuracy = accuracy_score(y_test_classes, y_pred)\n",
        "print(f\"\\nAccuracy: {accuracy:.2f}\")\n",
        "\n",
        "# Classification report (Precision, Recall, F1-Score)\n",
        "print(\"\\nClassification Report:\")\n",
        "print(classification_report(y_test_classes, y_pred))\n",
        "\n",
        "# Confusion Matrix\n",
        "conf_matrix = confusion_matrix(y_test_classes, y_pred)\n",
        "print(\"\\nConfusion Matrix:\")\n",
        "print(conf_matrix)\n"
      ],
      "metadata": {
        "colab": {
          "base_uri": "https://localhost:8080/"
        },
        "id": "iArwqR2XKpH2",
        "outputId": "82c3b239-de8e-461a-e5ea-fa4db9c837cf"
      },
      "execution_count": null,
      "outputs": [
        {
          "output_type": "stream",
          "name": "stdout",
          "text": [
            "\n",
            "Accuracy: 0.85\n",
            "\n",
            "Classification Report:\n",
            "              precision    recall  f1-score   support\n",
            "\n",
            "           0       0.83      0.89      0.86       276\n",
            "           1       0.85      0.81      0.83       362\n",
            "           2       0.88      0.87      0.87       319\n",
            "\n",
            "    accuracy                           0.85       957\n",
            "   macro avg       0.85      0.86      0.85       957\n",
            "weighted avg       0.85      0.85      0.85       957\n",
            "\n",
            "\n",
            "Confusion Matrix:\n",
            "[[247  23   6]\n",
            " [ 38 292  32]\n",
            " [ 12  30 277]]\n"
          ]
        }
      ]
    },
    {
      "cell_type": "markdown",
      "source": [
        "## AUC e ROC"
      ],
      "metadata": {
        "id": "8bux3SYELJa8"
      }
    },
    {
      "cell_type": "code",
      "source": [
        "from sklearn.metrics import roc_curve, roc_auc_score\n",
        "import numpy as np\n",
        "\n",
        "# Compute ROC Curve and AUC for each class\n",
        "fpr = {}\n",
        "tpr = {}\n",
        "roc_auc = {}\n",
        "\n",
        "for i in range(len(np.unique(y_test_classes))):  # Number of classes\n",
        "    fpr[i], tpr[i], _ = roc_curve(y_test_classes == i, y_pred_probs[:, i])\n",
        "    roc_auc[i] = roc_auc_score(y_test_classes == i, y_pred_probs[:, i])\n",
        "\n",
        "# Plot ROC curves\n",
        "plt.figure(figsize=(10, 8))\n",
        "for i in range(len(fpr)):\n",
        "    plt.plot(fpr[i], tpr[i], label=f\"Class {i} (AUC = {roc_auc[i]:.2f})\")\n",
        "plt.plot([0, 1], [0, 1], 'k--')  # Random classifier line\n",
        "plt.xlabel(\"False Positive Rate\")\n",
        "plt.ylabel(\"True Positive Rate\")\n",
        "plt.title(\"ROC Curve\")\n",
        "plt.legend(loc=\"lower right\")\n",
        "plt.show()\n"
      ],
      "metadata": {
        "colab": {
          "base_uri": "https://localhost:8080/",
          "height": 718
        },
        "id": "HODLia5PLLB6",
        "outputId": "a44a0bf6-bc22-462d-a8dd-7215251c7cff"
      },
      "execution_count": null,
      "outputs": [
        {
          "output_type": "display_data",
          "data": {
            "text/plain": [
              "<Figure size 1000x800 with 1 Axes>"
            ],
            "image/png": "[encoded data removed]"
          },
          "metadata": {}
        }
      ]
    },
    {
      "cell_type": "markdown",
      "source": [
        "# 10 times - 10 fold validation"
      ],
      "metadata": {
        "id": "_A9olG7oVj3n"
      }
    },
    {
      "cell_type": "code",
      "source": [
        "from sklearn.model_selection import KFold\n",
        "from sklearn.metrics import accuracy_score, precision_score, recall_score, f1_score\n",
        "import numpy as np\n",
        "\n",
        "# Numero di ripetizioni\n",
        "n_repeats = 10\n",
        "n_splits = 10\n",
        "\n",
        "# Metriche cumulative\n",
        "accuracy_scores = []\n",
        "precision_scores = []\n",
        "recall_scores = []\n",
        "f1_scores = []\n",
        "\n",
        "# KFold per 10-fold validation\n",
        "kf = KFold(n_splits=n_splits, shuffle=True, random_state=42)\n",
        "\n",
        "for repeat in range(n_repeats):\n",
        "    print(f\"\\nRepeat {repeat + 1}/{n_repeats}\")\n",
        "    for train_index, test_index in kf.split(X_resampled):\n",
        "        # Split dataset\n",
        "        X_train, X_test = X_resampled.iloc[train_index], X_resampled.iloc[test_index]\n",
        "        y_train, y_test = y_resampled.iloc[train_index], y_resampled.iloc[test_index]\n",
        "\n",
        "        # Convert labels to one-hot encoding for training\n",
        "        y_train_onehot = tf.keras.utils.to_categorical(y_train)\n",
        "        y_test_onehot = tf.keras.utils.to_categorical(y_test)\n",
        "\n",
        "        # Reinitialize and train the model for each fold\n",
        "        model = Sequential([\n",
        "            Dense(128, activation='relu', input_dim=X_train.shape[1]),\n",
        "            Dropout(0.3),\n",
        "            Dense(64, activation='relu'),\n",
        "            Dropout(0.3),\n",
        "            Dense(3, activation='softmax')  # Adjust number of classes\n",
        "        ])\n",
        "        model.compile(optimizer='adam', loss='categorical_crossentropy', metrics=['accuracy'])\n",
        "        model.fit(X_train, y_train_onehot, epochs=50, batch_size=32, verbose=0)\n",
        "\n",
        "        # Evaluate on the test set\n",
        "        y_pred_probs = model.predict(X_test)\n",
        "        y_pred = y_pred_probs.argmax(axis=1)\n",
        "\n",
        "        # Calculate metrics for this fold\n",
        "        accuracy_scores.append(accuracy_score(y_test, y_pred))\n",
        "        precision_scores.append(precision_score(y_test, y_pred, average='weighted'))\n",
        "        recall_scores.append(recall_score(y_test, y_pred, average='weighted'))\n",
        "        f1_scores.append(f1_score(y_test, y_pred, average='weighted'))\n",
        "\n",
        "# Final evaluation\n",
        "print(\"\\nFinal Evaluation over 10-times 10-fold:\")\n",
        "print(f\"Accuracy: {np.mean(accuracy_scores):.3f} ± {np.std(accuracy_scores):.3f}\")\n",
        "print(f\"Precision: {np.mean(precision_scores):.3f} ± {np.std(precision_scores):.3f}\")\n",
        "print(f\"Recall: {np.mean(recall_scores):.3f} ± {np.std(recall_scores):.3f}\")\n",
        "print(f\"F1-Score: {np.mean(f1_scores):.3f} ± {np.std(f1_scores):.3f}\")\n"
      ],
      "metadata": {
        "colab": {
          "base_uri": "https://localhost:8080/"
        },
        "id": "wD0qv3adVmeg",
        "outputId": "6b0f87a6-c704-4bfd-c80a-a3e5440dd7a4"
      },
      "execution_count": null,
      "outputs": [
        {
          "output_type": "stream",
          "name": "stdout",
          "text": [
            "\n",
            "Repeat 1/10\n"
          ]
        },
        {
          "output_type": "stream",
          "name": "stderr",
          "text": [
            "/usr/local/lib/python3.10/dist-packages/keras/src/layers/core/dense.py:87: UserWarning: Do not pass an `input_shape`/`input_dim` argument to a layer. When using Sequential models, prefer using an `Input(shape)` object as the first layer in the model instead.\n",
            "  super().__init__(activity_regularizer=activity_regularizer, **kwargs)\n"
          ]
        },
        {
          "output_type": "stream",
          "name": "stdout",
          "text": [
            "\u001b[1m15/15\u001b[0m \u001b[32m━━━━━━━━━━━━━━━━━━━━\u001b[0m\u001b[37m\u001b[0m \u001b[1m0s\u001b[0m 5ms/step\n"
          ]
        },
        {
          "output_type": "stream",
          "name": "stderr",
          "text": [
            "/usr/local/lib/python3.10/dist-packages/keras/src/layers/core/dense.py:87: UserWarning: Do not pass an `input_shape`/`input_dim` argument to a layer. When using Sequential models, prefer using an `Input(shape)` object as the first layer in the model instead.\n",
            "  super().__init__(activity_regularizer=activity_regularizer, **kwargs)\n"
          ]
        },
        {
          "output_type": "stream",
          "name": "stdout",
          "text": [
            "\u001b[1m15/15\u001b[0m \u001b[32m━━━━━━━━━━━━━━━━━━━━\u001b[0m\u001b[37m\u001b[0m \u001b[1m0s\u001b[0m 4ms/step\n"
          ]
        },
        {
          "output_type": "stream",
          "name": "stderr",
          "text": [
            "/usr/local/lib/python3.10/dist-packages/keras/src/layers/core/dense.py:87: UserWarning: Do not pass an `input_shape`/`input_dim` argument to a layer. When using Sequential models, prefer using an `Input(shape)` object as the first layer in the model instead.\n",
            "  super().__init__(activity_regularizer=activity_regularizer, **kwargs)\n"
          ]
        },
        {
          "output_type": "stream",
          "name": "stdout",
          "text": [
            "\u001b[1m15/15\u001b[0m \u001b[32m━━━━━━━━━━━━━━━━━━━━\u001b[0m\u001b[37m\u001b[0m \u001b[1m0s\u001b[0m 4ms/step\n"
          ]
        },
        {
          "output_type": "stream",
          "name": "stderr",
          "text": [
            "/usr/local/lib/python3.10/dist-packages/keras/src/layers/core/dense.py:87: UserWarning: Do not pass an `input_shape`/`input_dim` argument to a layer. When using Sequential models, prefer using an `Input(shape)` object as the first layer in the model instead.\n",
            "  super().__init__(activity_regularizer=activity_regularizer, **kwargs)\n"
          ]
        },
        {
          "output_type": "stream",
          "name": "stdout",
          "text": [
            "\u001b[1m15/15\u001b[0m \u001b[32m━━━━━━━━━━━━━━━━━━━━\u001b[0m\u001b[37m\u001b[0m \u001b[1m0s\u001b[0m 4ms/step\n"
          ]
        },
        {
          "output_type": "stream",
          "name": "stderr",
          "text": [
            "/usr/local/lib/python3.10/dist-packages/keras/src/layers/core/dense.py:87: UserWarning: Do not pass an `input_shape`/`input_dim` argument to a layer. When using Sequential models, prefer using an `Input(shape)` object as the first layer in the model instead.\n",
            "  super().__init__(activity_regularizer=activity_regularizer, **kwargs)\n"
          ]
        },
        {
          "output_type": "stream",
          "name": "stdout",
          "text": [
            "\u001b[1m15/15\u001b[0m \u001b[32m━━━━━━━━━━━━━━━━━━━━\u001b[0m\u001b[37m\u001b[0m \u001b[1m0s\u001b[0m 7ms/step\n"
          ]
        },
        {
          "output_type": "stream",
          "name": "stderr",
          "text": [
            "/usr/local/lib/python3.10/dist-packages/keras/src/layers/core/dense.py:87: UserWarning: Do not pass an `input_shape`/`input_dim` argument to a layer. When using Sequential models, prefer using an `Input(shape)` object as the first layer in the model instead.\n",
            "  super().__init__(activity_regularizer=activity_regularizer, **kwargs)\n"
          ]
        },
        {
          "output_type": "stream",
          "name": "stdout",
          "text": [
            "\u001b[1m15/15\u001b[0m \u001b[32m━━━━━━━━━━━━━━━━━━━━\u001b[0m\u001b[37m\u001b[0m \u001b[1m0s\u001b[0m 4ms/step\n"
          ]
        },
        {
          "output_type": "stream",
          "name": "stderr",
          "text": [
            "/usr/local/lib/python3.10/dist-packages/keras/src/layers/core/dense.py:87: UserWarning: Do not pass an `input_shape`/`input_dim` argument to a layer. When using Sequential models, prefer using an `Input(shape)` object as the first layer in the model instead.\n",
            "  super().__init__(activity_regularizer=activity_regularizer, **kwargs)\n"
          ]
        },
        {
          "output_type": "stream",
          "name": "stdout",
          "text": [
            "\u001b[1m15/15\u001b[0m \u001b[32m━━━━━━━━━━━━━━━━━━━━\u001b[0m\u001b[37m\u001b[0m \u001b[1m0s\u001b[0m 4ms/step\n"
          ]
        },
        {
          "output_type": "stream",
          "name": "stderr",
          "text": [
            "/usr/local/lib/python3.10/dist-packages/keras/src/layers/core/dense.py:87: UserWarning: Do not pass an `input_shape`/`input_dim` argument to a layer. When using Sequential models, prefer using an `Input(shape)` object as the first layer in the model instead.\n",
            "  super().__init__(activity_regularizer=activity_regularizer, **kwargs)\n"
          ]
        },
        {
          "output_type": "stream",
          "name": "stdout",
          "text": [
            "\u001b[1m15/15\u001b[0m \u001b[32m━━━━━━━━━━━━━━━━━━━━\u001b[0m\u001b[37m\u001b[0m \u001b[1m0s\u001b[0m 4ms/step\n"
          ]
        },
        {
          "output_type": "stream",
          "name": "stderr",
          "text": [
            "/usr/local/lib/python3.10/dist-packages/keras/src/layers/core/dense.py:87: UserWarning: Do not pass an `input_shape`/`input_dim` argument to a layer. When using Sequential models, prefer using an `Input(shape)` object as the first layer in the model instead.\n",
            "  super().__init__(activity_regularizer=activity_regularizer, **kwargs)\n"
          ]
        },
        {
          "output_type": "stream",
          "name": "stdout",
          "text": [
            "\u001b[1m15/15\u001b[0m \u001b[32m━━━━━━━━━━━━━━━━━━━━\u001b[0m\u001b[37m\u001b[0m \u001b[1m0s\u001b[0m 5ms/step\n"
          ]
        },
        {
          "output_type": "stream",
          "name": "stderr",
          "text": [
            "/usr/local/lib/python3.10/dist-packages/keras/src/layers/core/dense.py:87: UserWarning: Do not pass an `input_shape`/`input_dim` argument to a layer. When using Sequential models, prefer using an `Input(shape)` object as the first layer in the model instead.\n",
            "  super().__init__(activity_regularizer=activity_regularizer, **kwargs)\n"
          ]
        },
        {
          "output_type": "stream",
          "name": "stdout",
          "text": [
            "\u001b[1m15/15\u001b[0m \u001b[32m━━━━━━━━━━━━━━━━━━━━\u001b[0m\u001b[37m\u001b[0m \u001b[1m0s\u001b[0m 5ms/step\n",
            "\n",
            "Repeat 2/10\n"
          ]
        },
        {
          "output_type": "stream",
          "name": "stderr",
          "text": [
            "/usr/local/lib/python3.10/dist-packages/keras/src/layers/core/dense.py:87: UserWarning: Do not pass an `input_shape`/`input_dim` argument to a layer. When using Sequential models, prefer using an `Input(shape)` object as the first layer in the model instead.\n",
            "  super().__init__(activity_regularizer=activity_regularizer, **kwargs)\n"
          ]
        },
        {
          "output_type": "stream",
          "name": "stdout",
          "text": [
            "\u001b[1m15/15\u001b[0m \u001b[32m━━━━━━━━━━━━━━━━━━━━\u001b[0m\u001b[37m\u001b[0m \u001b[1m0s\u001b[0m 4ms/step\n"
          ]
        },
        {
          "output_type": "stream",
          "name": "stderr",
          "text": [
            "/usr/local/lib/python3.10/dist-packages/keras/src/layers/core/dense.py:87: UserWarning: Do not pass an `input_shape`/`input_dim` argument to a layer. When using Sequential models, prefer using an `Input(shape)` object as the first layer in the model instead.\n",
            "  super().__init__(activity_regularizer=activity_regularizer, **kwargs)\n"
          ]
        },
        {
          "output_type": "stream",
          "name": "stdout",
          "text": [
            "\u001b[1m15/15\u001b[0m \u001b[32m━━━━━━━━━━━━━━━━━━━━\u001b[0m\u001b[37m\u001b[0m \u001b[1m0s\u001b[0m 6ms/step\n"
          ]
        },
        {
          "output_type": "stream",
          "name": "stderr",
          "text": [
            "/usr/local/lib/python3.10/dist-packages/keras/src/layers/core/dense.py:87: UserWarning: Do not pass an `input_shape`/`input_dim` argument to a layer. When using Sequential models, prefer using an `Input(shape)` object as the first layer in the model instead.\n",
            "  super().__init__(activity_regularizer=activity_regularizer, **kwargs)\n"
          ]
        },
        {
          "output_type": "stream",
          "name": "stdout",
          "text": [
            "\u001b[1m15/15\u001b[0m \u001b[32m━━━━━━━━━━━━━━━━━━━━\u001b[0m\u001b[37m\u001b[0m \u001b[1m0s\u001b[0m 4ms/step\n"
          ]
        },
        {
          "output_type": "stream",
          "name": "stderr",
          "text": [
            "/usr/local/lib/python3.10/dist-packages/keras/src/layers/core/dense.py:87: UserWarning: Do not pass an `input_shape`/`input_dim` argument to a layer. When using Sequential models, prefer using an `Input(shape)` object as the first layer in the model instead.\n",
            "  super().__init__(activity_regularizer=activity_regularizer, **kwargs)\n"
          ]
        },
        {
          "output_type": "stream",
          "name": "stdout",
          "text": [
            "\u001b[1m15/15\u001b[0m \u001b[32m━━━━━━━━━━━━━━━━━━━━\u001b[0m\u001b[37m\u001b[0m \u001b[1m0s\u001b[0m 4ms/step\n"
          ]
        },
        {
          "output_type": "stream",
          "name": "stderr",
          "text": [
            "/usr/local/lib/python3.10/dist-packages/keras/src/layers/core/dense.py:87: UserWarning: Do not pass an `input_shape`/`input_dim` argument to a layer. When using Sequential models, prefer using an `Input(shape)` object as the first layer in the model instead.\n",
            "  super().__init__(activity_regularizer=activity_regularizer, **kwargs)\n"
          ]
        },
        {
          "output_type": "stream",
          "name": "stdout",
          "text": [
            "\u001b[1m15/15\u001b[0m \u001b[32m━━━━━━━━━━━━━━━━━━━━\u001b[0m\u001b[37m\u001b[0m \u001b[1m0s\u001b[0m 5ms/step\n"
          ]
        },
        {
          "output_type": "stream",
          "name": "stderr",
          "text": [
            "/usr/local/lib/python3.10/dist-packages/keras/src/layers/core/dense.py:87: UserWarning: Do not pass an `input_shape`/`input_dim` argument to a layer. When using Sequential models, prefer using an `Input(shape)` object as the first layer in the model instead.\n",
            "  super().__init__(activity_regularizer=activity_regularizer, **kwargs)\n"
          ]
        },
        {
          "output_type": "stream",
          "name": "stdout",
          "text": [
            "\u001b[1m15/15\u001b[0m \u001b[32m━━━━━━━━━━━━━━━━━━━━\u001b[0m\u001b[37m\u001b[0m \u001b[1m0s\u001b[0m 4ms/step\n"
          ]
        },
        {
          "output_type": "stream",
          "name": "stderr",
          "text": [
            "/usr/local/lib/python3.10/dist-packages/keras/src/layers/core/dense.py:87: UserWarning: Do not pass an `input_shape`/`input_dim` argument to a layer. When using Sequential models, prefer using an `Input(shape)` object as the first layer in the model instead.\n",
            "  super().__init__(activity_regularizer=activity_regularizer, **kwargs)\n"
          ]
        },
        {
          "output_type": "stream",
          "name": "stdout",
          "text": [
            "\u001b[1m15/15\u001b[0m \u001b[32m━━━━━━━━━━━━━━━━━━━━\u001b[0m\u001b[37m\u001b[0m \u001b[1m0s\u001b[0m 4ms/step\n"
          ]
        },
        {
          "output_type": "stream",
          "name": "stderr",
          "text": [
            "/usr/local/lib/python3.10/dist-packages/keras/src/layers/core/dense.py:87: UserWarning: Do not pass an `input_shape`/`input_dim` argument to a layer. When using Sequential models, prefer using an `Input(shape)` object as the first layer in the model instead.\n",
            "  super().__init__(activity_regularizer=activity_regularizer, **kwargs)\n"
          ]
        },
        {
          "output_type": "stream",
          "name": "stdout",
          "text": [
            "\u001b[1m15/15\u001b[0m \u001b[32m━━━━━━━━━━━━━━━━━━━━\u001b[0m\u001b[37m\u001b[0m \u001b[1m0s\u001b[0m 4ms/step\n"
          ]
        },
        {
          "output_type": "stream",
          "name": "stderr",
          "text": [
            "/usr/local/lib/python3.10/dist-packages/keras/src/layers/core/dense.py:87: UserWarning: Do not pass an `input_shape`/`input_dim` argument to a layer. When using Sequential models, prefer using an `Input(shape)` object as the first layer in the model instead.\n",
            "  super().__init__(activity_regularizer=activity_regularizer, **kwargs)\n"
          ]
        },
        {
          "output_type": "stream",
          "name": "stdout",
          "text": [
            "\u001b[1m15/15\u001b[0m \u001b[32m━━━━━━━━━━━━━━━━━━━━\u001b[0m\u001b[37m\u001b[0m \u001b[1m0s\u001b[0m 4ms/step\n"
          ]
        },
        {
          "output_type": "stream",
          "name": "stderr",
          "text": [
            "/usr/local/lib/python3.10/dist-packages/keras/src/layers/core/dense.py:87: UserWarning: Do not pass an `input_shape`/`input_dim` argument to a layer. When using Sequential models, prefer using an `Input(shape)` object as the first layer in the model instead.\n",
            "  super().__init__(activity_regularizer=activity_regularizer, **kwargs)\n"
          ]
        },
        {
          "output_type": "stream",
          "name": "stdout",
          "text": [
            "\u001b[1m15/15\u001b[0m \u001b[32m━━━━━━━━━━━━━━━━━━━━\u001b[0m\u001b[37m\u001b[0m \u001b[1m0s\u001b[0m 4ms/step\n",
            "\n",
            "Repeat 3/10\n"
          ]
        },
        {
          "output_type": "stream",
          "name": "stderr",
          "text": [
            "/usr/local/lib/python3.10/dist-packages/keras/src/layers/core/dense.py:87: UserWarning: Do not pass an `input_shape`/`input_dim` argument to a layer. When using Sequential models, prefer using an `Input(shape)` object as the first layer in the model instead.\n",
            "  super().__init__(activity_regularizer=activity_regularizer, **kwargs)\n"
          ]
        },
        {
          "output_type": "stream",
          "name": "stdout",
          "text": [
            "\u001b[1m15/15\u001b[0m \u001b[32m━━━━━━━━━━━━━━━━━━━━\u001b[0m\u001b[37m\u001b[0m \u001b[1m0s\u001b[0m 4ms/step\n"
          ]
        },
        {
          "output_type": "stream",
          "name": "stderr",
          "text": [
            "/usr/local/lib/python3.10/dist-packages/keras/src/layers/core/dense.py:87: UserWarning: Do not pass an `input_shape`/`input_dim` argument to a layer. When using Sequential models, prefer using an `Input(shape)` object as the first layer in the model instead.\n",
            "  super().__init__(activity_regularizer=activity_regularizer, **kwargs)\n"
          ]
        },
        {
          "output_type": "stream",
          "name": "stdout",
          "text": [
            "\u001b[1m15/15\u001b[0m \u001b[32m━━━━━━━━━━━━━━━━━━━━\u001b[0m\u001b[37m\u001b[0m \u001b[1m0s\u001b[0m 5ms/step\n"
          ]
        },
        {
          "output_type": "stream",
          "name": "stderr",
          "text": [
            "/usr/local/lib/python3.10/dist-packages/keras/src/layers/core/dense.py:87: UserWarning: Do not pass an `input_shape`/`input_dim` argument to a layer. When using Sequential models, prefer using an `Input(shape)` object as the first layer in the model instead.\n",
            "  super().__init__(activity_regularizer=activity_regularizer, **kwargs)\n"
          ]
        },
        {
          "output_type": "stream",
          "name": "stdout",
          "text": [
            "\u001b[1m15/15\u001b[0m \u001b[32m━━━━━━━━━━━━━━━━━━━━\u001b[0m\u001b[37m\u001b[0m \u001b[1m0s\u001b[0m 4ms/step\n"
          ]
        },
        {
          "output_type": "stream",
          "name": "stderr",
          "text": [
            "/usr/local/lib/python3.10/dist-packages/keras/src/layers/core/dense.py:87: UserWarning: Do not pass an `input_shape`/`input_dim` argument to a layer. When using Sequential models, prefer using an `Input(shape)` object as the first layer in the model instead.\n",
            "  super().__init__(activity_regularizer=activity_regularizer, **kwargs)\n"
          ]
        },
        {
          "output_type": "stream",
          "name": "stdout",
          "text": [
            "\u001b[1m15/15\u001b[0m \u001b[32m━━━━━━━━━━━━━━━━━━━━\u001b[0m\u001b[37m\u001b[0m \u001b[1m0s\u001b[0m 4ms/step\n"
          ]
        },
        {
          "output_type": "stream",
          "name": "stderr",
          "text": [
            "/usr/local/lib/python3.10/dist-packages/keras/src/layers/core/dense.py:87: UserWarning: Do not pass an `input_shape`/`input_dim` argument to a layer. When using Sequential models, prefer using an `Input(shape)` object as the first layer in the model instead.\n",
            "  super().__init__(activity_regularizer=activity_regularizer, **kwargs)\n"
          ]
        },
        {
          "output_type": "stream",
          "name": "stdout",
          "text": [
            "\u001b[1m15/15\u001b[0m \u001b[32m━━━━━━━━━━━━━━━━━━━━\u001b[0m\u001b[37m\u001b[0m \u001b[1m0s\u001b[0m 4ms/step\n"
          ]
        },
        {
          "output_type": "stream",
          "name": "stderr",
          "text": [
            "/usr/local/lib/python3.10/dist-packages/keras/src/layers/core/dense.py:87: UserWarning: Do not pass an `input_shape`/`input_dim` argument to a layer. When using Sequential models, prefer using an `Input(shape)` object as the first layer in the model instead.\n",
            "  super().__init__(activity_regularizer=activity_regularizer, **kwargs)\n"
          ]
        },
        {
          "output_type": "stream",
          "name": "stdout",
          "text": [
            "\u001b[1m15/15\u001b[0m \u001b[32m━━━━━━━━━━━━━━━━━━━━\u001b[0m\u001b[37m\u001b[0m \u001b[1m0s\u001b[0m 4ms/step\n"
          ]
        },
        {
          "output_type": "stream",
          "name": "stderr",
          "text": [
            "/usr/local/lib/python3.10/dist-packages/keras/src/layers/core/dense.py:87: UserWarning: Do not pass an `input_shape`/`input_dim` argument to a layer. When using Sequential models, prefer using an `Input(shape)` object as the first layer in the model instead.\n",
            "  super().__init__(activity_regularizer=activity_regularizer, **kwargs)\n"
          ]
        },
        {
          "output_type": "stream",
          "name": "stdout",
          "text": [
            "\u001b[1m15/15\u001b[0m \u001b[32m━━━━━━━━━━━━━━━━━━━━\u001b[0m\u001b[37m\u001b[0m \u001b[1m0s\u001b[0m 4ms/step\n"
          ]
        },
        {
          "output_type": "stream",
          "name": "stderr",
          "text": [
            "/usr/local/lib/python3.10/dist-packages/keras/src/layers/core/dense.py:87: UserWarning: Do not pass an `input_shape`/`input_dim` argument to a layer. When using Sequential models, prefer using an `Input(shape)` object as the first layer in the model instead.\n",
            "  super().__init__(activity_regularizer=activity_regularizer, **kwargs)\n"
          ]
        },
        {
          "output_type": "stream",
          "name": "stdout",
          "text": [
            "\u001b[1m15/15\u001b[0m \u001b[32m━━━━━━━━━━━━━━━━━━━━\u001b[0m\u001b[37m\u001b[0m \u001b[1m0s\u001b[0m 4ms/step\n"
          ]
        },
        {
          "output_type": "stream",
          "name": "stderr",
          "text": [
            "/usr/local/lib/python3.10/dist-packages/keras/src/layers/core/dense.py:87: UserWarning: Do not pass an `input_shape`/`input_dim` argument to a layer. When using Sequential models, prefer using an `Input(shape)` object as the first layer in the model instead.\n",
            "  super().__init__(activity_regularizer=activity_regularizer, **kwargs)\n"
          ]
        },
        {
          "output_type": "stream",
          "name": "stdout",
          "text": [
            "\u001b[1m15/15\u001b[0m \u001b[32m━━━━━━━━━━━━━━━━━━━━\u001b[0m\u001b[37m\u001b[0m \u001b[1m0s\u001b[0m 7ms/step\n"
          ]
        },
        {
          "output_type": "stream",
          "name": "stderr",
          "text": [
            "/usr/local/lib/python3.10/dist-packages/keras/src/layers/core/dense.py:87: UserWarning: Do not pass an `input_shape`/`input_dim` argument to a layer. When using Sequential models, prefer using an `Input(shape)` object as the first layer in the model instead.\n",
            "  super().__init__(activity_regularizer=activity_regularizer, **kwargs)\n"
          ]
        },
        {
          "output_type": "stream",
          "name": "stdout",
          "text": [
            "\u001b[1m15/15\u001b[0m \u001b[32m━━━━━━━━━━━━━━━━━━━━\u001b[0m\u001b[37m\u001b[0m \u001b[1m0s\u001b[0m 5ms/step\n",
            "\n",
            "Repeat 4/10\n"
          ]
        },
        {
          "output_type": "stream",
          "name": "stderr",
          "text": [
            "/usr/local/lib/python3.10/dist-packages/keras/src/layers/core/dense.py:87: UserWarning: Do not pass an `input_shape`/`input_dim` argument to a layer. When using Sequential models, prefer using an `Input(shape)` object as the first layer in the model instead.\n",
            "  super().__init__(activity_regularizer=activity_regularizer, **kwargs)\n"
          ]
        },
        {
          "output_type": "stream",
          "name": "stdout",
          "text": [
            "\u001b[1m15/15\u001b[0m \u001b[32m━━━━━━━━━━━━━━━━━━━━\u001b[0m\u001b[37m\u001b[0m \u001b[1m0s\u001b[0m 4ms/step\n"
          ]
        },
        {
          "output_type": "stream",
          "name": "stderr",
          "text": [
            "/usr/local/lib/python3.10/dist-packages/keras/src/layers/core/dense.py:87: UserWarning: Do not pass an `input_shape`/`input_dim` argument to a layer. When using Sequential models, prefer using an `Input(shape)` object as the first layer in the model instead.\n",
            "  super().__init__(activity_regularizer=activity_regularizer, **kwargs)\n"
          ]
        },
        {
          "output_type": "stream",
          "name": "stdout",
          "text": [
            "\u001b[1m15/15\u001b[0m \u001b[32m━━━━━━━━━━━━━━━━━━━━\u001b[0m\u001b[37m\u001b[0m \u001b[1m0s\u001b[0m 6ms/step\n"
          ]
        },
        {
          "output_type": "stream",
          "name": "stderr",
          "text": [
            "/usr/local/lib/python3.10/dist-packages/keras/src/layers/core/dense.py:87: UserWarning: Do not pass an `input_shape`/`input_dim` argument to a layer. When using Sequential models, prefer using an `Input(shape)` object as the first layer in the model instead.\n",
            "  super().__init__(activity_regularizer=activity_regularizer, **kwargs)\n"
          ]
        },
        {
          "output_type": "stream",
          "name": "stdout",
          "text": [
            "\u001b[1m15/15\u001b[0m \u001b[32m━━━━━━━━━━━━━━━━━━━━\u001b[0m\u001b[37m\u001b[0m \u001b[1m0s\u001b[0m 4ms/step\n"
          ]
        },
        {
          "output_type": "stream",
          "name": "stderr",
          "text": [
            "/usr/local/lib/python3.10/dist-packages/keras/src/layers/core/dense.py:87: UserWarning: Do not pass an `input_shape`/`input_dim` argument to a layer. When using Sequential models, prefer using an `Input(shape)` object as the first layer in the model instead.\n",
            "  super().__init__(activity_regularizer=activity_regularizer, **kwargs)\n"
          ]
        },
        {
          "output_type": "stream",
          "name": "stdout",
          "text": [
            "\u001b[1m15/15\u001b[0m \u001b[32m━━━━━━━━━━━━━━━━━━━━\u001b[0m\u001b[37m\u001b[0m \u001b[1m0s\u001b[0m 4ms/step\n"
          ]
        },
        {
          "output_type": "stream",
          "name": "stderr",
          "text": [
            "/usr/local/lib/python3.10/dist-packages/keras/src/layers/core/dense.py:87: UserWarning: Do not pass an `input_shape`/`input_dim` argument to a layer. When using Sequential models, prefer using an `Input(shape)` object as the first layer in the model instead.\n",
            "  super().__init__(activity_regularizer=activity_regularizer, **kwargs)\n"
          ]
        },
        {
          "output_type": "stream",
          "name": "stdout",
          "text": [
            "\u001b[1m15/15\u001b[0m \u001b[32m━━━━━━━━━━━━━━━━━━━━\u001b[0m\u001b[37m\u001b[0m \u001b[1m0s\u001b[0m 5ms/step\n"
          ]
        },
        {
          "output_type": "stream",
          "name": "stderr",
          "text": [
            "/usr/local/lib/python3.10/dist-packages/keras/src/layers/core/dense.py:87: UserWarning: Do not pass an `input_shape`/`input_dim` argument to a layer. When using Sequential models, prefer using an `Input(shape)` object as the first layer in the model instead.\n",
            "  super().__init__(activity_regularizer=activity_regularizer, **kwargs)\n"
          ]
        },
        {
          "output_type": "stream",
          "name": "stdout",
          "text": [
            "\u001b[1m15/15\u001b[0m \u001b[32m━━━━━━━━━━━━━━━━━━━━\u001b[0m\u001b[37m\u001b[0m \u001b[1m0s\u001b[0m 6ms/step\n"
          ]
        },
        {
          "output_type": "stream",
          "name": "stderr",
          "text": [
            "/usr/local/lib/python3.10/dist-packages/keras/src/layers/core/dense.py:87: UserWarning: Do not pass an `input_shape`/`input_dim` argument to a layer. When using Sequential models, prefer using an `Input(shape)` object as the first layer in the model instead.\n",
            "  super().__init__(activity_regularizer=activity_regularizer, **kwargs)\n"
          ]
        },
        {
          "output_type": "stream",
          "name": "stdout",
          "text": [
            "\u001b[1m15/15\u001b[0m \u001b[32m━━━━━━━━━━━━━━━━━━━━\u001b[0m\u001b[37m\u001b[0m \u001b[1m0s\u001b[0m 4ms/step\n"
          ]
        },
        {
          "output_type": "stream",
          "name": "stderr",
          "text": [
            "/usr/local/lib/python3.10/dist-packages/keras/src/layers/core/dense.py:87: UserWarning: Do not pass an `input_shape`/`input_dim` argument to a layer. When using Sequential models, prefer using an `Input(shape)` object as the first layer in the model instead.\n",
            "  super().__init__(activity_regularizer=activity_regularizer, **kwargs)\n"
          ]
        },
        {
          "output_type": "stream",
          "name": "stdout",
          "text": [
            "\u001b[1m15/15\u001b[0m \u001b[32m━━━━━━━━━━━━━━━━━━━━\u001b[0m\u001b[37m\u001b[0m \u001b[1m0s\u001b[0m 4ms/step\n"
          ]
        },
        {
          "output_type": "stream",
          "name": "stderr",
          "text": [
            "/usr/local/lib/python3.10/dist-packages/keras/src/layers/core/dense.py:87: UserWarning: Do not pass an `input_shape`/`input_dim` argument to a layer. When using Sequential models, prefer using an `Input(shape)` object as the first layer in the model instead.\n",
            "  super().__init__(activity_regularizer=activity_regularizer, **kwargs)\n"
          ]
        },
        {
          "output_type": "stream",
          "name": "stdout",
          "text": [
            "\u001b[1m15/15\u001b[0m \u001b[32m━━━━━━━━━━━━━━━━━━━━\u001b[0m\u001b[37m\u001b[0m \u001b[1m0s\u001b[0m 6ms/step\n"
          ]
        },
        {
          "output_type": "stream",
          "name": "stderr",
          "text": [
            "/usr/local/lib/python3.10/dist-packages/keras/src/layers/core/dense.py:87: UserWarning: Do not pass an `input_shape`/`input_dim` argument to a layer. When using Sequential models, prefer using an `Input(shape)` object as the first layer in the model instead.\n",
            "  super().__init__(activity_regularizer=activity_regularizer, **kwargs)\n"
          ]
        },
        {
          "output_type": "stream",
          "name": "stdout",
          "text": [
            "\u001b[1m15/15\u001b[0m \u001b[32m━━━━━━━━━━━━━━━━━━━━\u001b[0m\u001b[37m\u001b[0m \u001b[1m0s\u001b[0m 4ms/step\n",
            "\n",
            "Repeat 5/10\n"
          ]
        },
        {
          "output_type": "stream",
          "name": "stderr",
          "text": [
            "/usr/local/lib/python3.10/dist-packages/keras/src/layers/core/dense.py:87: UserWarning: Do not pass an `input_shape`/`input_dim` argument to a layer. When using Sequential models, prefer using an `Input(shape)` object as the first layer in the model instead.\n",
            "  super().__init__(activity_regularizer=activity_regularizer, **kwargs)\n"
          ]
        },
        {
          "output_type": "stream",
          "name": "stdout",
          "text": [
            "\u001b[1m15/15\u001b[0m \u001b[32m━━━━━━━━━━━━━━━━━━━━\u001b[0m\u001b[37m\u001b[0m \u001b[1m0s\u001b[0m 4ms/step\n"
          ]
        },
        {
          "output_type": "stream",
          "name": "stderr",
          "text": [
            "/usr/local/lib/python3.10/dist-packages/keras/src/layers/core/dense.py:87: UserWarning: Do not pass an `input_shape`/`input_dim` argument to a layer. When using Sequential models, prefer using an `Input(shape)` object as the first layer in the model instead.\n",
            "  super().__init__(activity_regularizer=activity_regularizer, **kwargs)\n"
          ]
        },
        {
          "output_type": "stream",
          "name": "stdout",
          "text": [
            "\u001b[1m15/15\u001b[0m \u001b[32m━━━━━━━━━━━━━━━━━━━━\u001b[0m\u001b[37m\u001b[0m \u001b[1m0s\u001b[0m 4ms/step\n"
          ]
        },
        {
          "output_type": "stream",
          "name": "stderr",
          "text": [
            "/usr/local/lib/python3.10/dist-packages/keras/src/layers/core/dense.py:87: UserWarning: Do not pass an `input_shape`/`input_dim` argument to a layer. When using Sequential models, prefer using an `Input(shape)` object as the first layer in the model instead.\n",
            "  super().__init__(activity_regularizer=activity_regularizer, **kwargs)\n"
          ]
        },
        {
          "output_type": "stream",
          "name": "stdout",
          "text": [
            "\u001b[1m15/15\u001b[0m \u001b[32m━━━━━━━━━━━━━━━━━━━━\u001b[0m\u001b[37m\u001b[0m \u001b[1m0s\u001b[0m 4ms/step\n"
          ]
        },
        {
          "output_type": "stream",
          "name": "stderr",
          "text": [
            "/usr/local/lib/python3.10/dist-packages/keras/src/layers/core/dense.py:87: UserWarning: Do not pass an `input_shape`/`input_dim` argument to a layer. When using Sequential models, prefer using an `Input(shape)` object as the first layer in the model instead.\n",
            "  super().__init__(activity_regularizer=activity_regularizer, **kwargs)\n"
          ]
        },
        {
          "output_type": "stream",
          "name": "stdout",
          "text": [
            "\u001b[1m15/15\u001b[0m \u001b[32m━━━━━━━━━━━━━━━━━━━━\u001b[0m\u001b[37m\u001b[0m \u001b[1m0s\u001b[0m 5ms/step\n"
          ]
        },
        {
          "output_type": "stream",
          "name": "stderr",
          "text": [
            "/usr/local/lib/python3.10/dist-packages/keras/src/layers/core/dense.py:87: UserWarning: Do not pass an `input_shape`/`input_dim` argument to a layer. When using Sequential models, prefer using an `Input(shape)` object as the first layer in the model instead.\n",
            "  super().__init__(activity_regularizer=activity_regularizer, **kwargs)\n"
          ]
        },
        {
          "output_type": "stream",
          "name": "stdout",
          "text": [
            "\u001b[1m15/15\u001b[0m \u001b[32m━━━━━━━━━━━━━━━━━━━━\u001b[0m\u001b[37m\u001b[0m \u001b[1m0s\u001b[0m 4ms/step\n"
          ]
        },
        {
          "output_type": "stream",
          "name": "stderr",
          "text": [
            "/usr/local/lib/python3.10/dist-packages/keras/src/layers/core/dense.py:87: UserWarning: Do not pass an `input_shape`/`input_dim` argument to a layer. When using Sequential models, prefer using an `Input(shape)` object as the first layer in the model instead.\n",
            "  super().__init__(activity_regularizer=activity_regularizer, **kwargs)\n"
          ]
        },
        {
          "output_type": "stream",
          "name": "stdout",
          "text": [
            "\u001b[1m15/15\u001b[0m \u001b[32m━━━━━━━━━━━━━━━━━━━━\u001b[0m\u001b[37m\u001b[0m \u001b[1m0s\u001b[0m 4ms/step\n"
          ]
        },
        {
          "output_type": "stream",
          "name": "stderr",
          "text": [
            "/usr/local/lib/python3.10/dist-packages/keras/src/layers/core/dense.py:87: UserWarning: Do not pass an `input_shape`/`input_dim` argument to a layer. When using Sequential models, prefer using an `Input(shape)` object as the first layer in the model instead.\n",
            "  super().__init__(activity_regularizer=activity_regularizer, **kwargs)\n"
          ]
        },
        {
          "output_type": "stream",
          "name": "stdout",
          "text": [
            "\u001b[1m15/15\u001b[0m \u001b[32m━━━━━━━━━━━━━━━━━━━━\u001b[0m\u001b[37m\u001b[0m \u001b[1m0s\u001b[0m 4ms/step\n"
          ]
        },
        {
          "output_type": "stream",
          "name": "stderr",
          "text": [
            "/usr/local/lib/python3.10/dist-packages/keras/src/layers/core/dense.py:87: UserWarning: Do not pass an `input_shape`/`input_dim` argument to a layer. When using Sequential models, prefer using an `Input(shape)` object as the first layer in the model instead.\n",
            "  super().__init__(activity_regularizer=activity_regularizer, **kwargs)\n"
          ]
        },
        {
          "output_type": "stream",
          "name": "stdout",
          "text": [
            "\u001b[1m15/15\u001b[0m \u001b[32m━━━━━━━━━━━━━━━━━━━━\u001b[0m\u001b[37m\u001b[0m \u001b[1m0s\u001b[0m 4ms/step\n"
          ]
        },
        {
          "output_type": "stream",
          "name": "stderr",
          "text": [
            "/usr/local/lib/python3.10/dist-packages/keras/src/layers/core/dense.py:87: UserWarning: Do not pass an `input_shape`/`input_dim` argument to a layer. When using Sequential models, prefer using an `Input(shape)` object as the first layer in the model instead.\n",
            "  super().__init__(activity_regularizer=activity_regularizer, **kwargs)\n"
          ]
        },
        {
          "output_type": "stream",
          "name": "stdout",
          "text": [
            "\u001b[1m15/15\u001b[0m \u001b[32m━━━━━━━━━━━━━━━━━━━━\u001b[0m\u001b[37m\u001b[0m \u001b[1m0s\u001b[0m 4ms/step\n"
          ]
        },
        {
          "output_type": "stream",
          "name": "stderr",
          "text": [
            "/usr/local/lib/python3.10/dist-packages/keras/src/layers/core/dense.py:87: UserWarning: Do not pass an `input_shape`/`input_dim` argument to a layer. When using Sequential models, prefer using an `Input(shape)` object as the first layer in the model instead.\n",
            "  super().__init__(activity_regularizer=activity_regularizer, **kwargs)\n"
          ]
        },
        {
          "output_type": "stream",
          "name": "stdout",
          "text": [
            "\u001b[1m15/15\u001b[0m \u001b[32m━━━━━━━━━━━━━━━━━━━━\u001b[0m\u001b[37m\u001b[0m \u001b[1m0s\u001b[0m 5ms/step\n",
            "\n",
            "Repeat 6/10\n"
          ]
        },
        {
          "output_type": "stream",
          "name": "stderr",
          "text": [
            "/usr/local/lib/python3.10/dist-packages/keras/src/layers/core/dense.py:87: UserWarning: Do not pass an `input_shape`/`input_dim` argument to a layer. When using Sequential models, prefer using an `Input(shape)` object as the first layer in the model instead.\n",
            "  super().__init__(activity_regularizer=activity_regularizer, **kwargs)\n"
          ]
        },
        {
          "output_type": "stream",
          "name": "stdout",
          "text": [
            "\u001b[1m15/15\u001b[0m \u001b[32m━━━━━━━━━━━━━━━━━━━━\u001b[0m\u001b[37m\u001b[0m \u001b[1m0s\u001b[0m 4ms/step\n"
          ]
        },
        {
          "output_type": "stream",
          "name": "stderr",
          "text": [
            "/usr/local/lib/python3.10/dist-packages/keras/src/layers/core/dense.py:87: UserWarning: Do not pass an `input_shape`/`input_dim` argument to a layer. When using Sequential models, prefer using an `Input(shape)` object as the first layer in the model instead.\n",
            "  super().__init__(activity_regularizer=activity_regularizer, **kwargs)\n"
          ]
        },
        {
          "output_type": "stream",
          "name": "stdout",
          "text": [
            "\u001b[1m15/15\u001b[0m \u001b[32m━━━━━━━━━━━━━━━━━━━━\u001b[0m\u001b[37m\u001b[0m \u001b[1m0s\u001b[0m 4ms/step\n"
          ]
        },
        {
          "output_type": "stream",
          "name": "stderr",
          "text": [
            "/usr/local/lib/python3.10/dist-packages/keras/src/layers/core/dense.py:87: UserWarning: Do not pass an `input_shape`/`input_dim` argument to a layer. When using Sequential models, prefer using an `Input(shape)` object as the first layer in the model instead.\n",
            "  super().__init__(activity_regularizer=activity_regularizer, **kwargs)\n"
          ]
        },
        {
          "output_type": "stream",
          "name": "stdout",
          "text": [
            "\u001b[1m15/15\u001b[0m \u001b[32m━━━━━━━━━━━━━━━━━━━━\u001b[0m\u001b[37m\u001b[0m \u001b[1m0s\u001b[0m 6ms/step\n"
          ]
        },
        {
          "output_type": "stream",
          "name": "stderr",
          "text": [
            "/usr/local/lib/python3.10/dist-packages/keras/src/layers/core/dense.py:87: UserWarning: Do not pass an `input_shape`/`input_dim` argument to a layer. When using Sequential models, prefer using an `Input(shape)` object as the first layer in the model instead.\n",
            "  super().__init__(activity_regularizer=activity_regularizer, **kwargs)\n"
          ]
        },
        {
          "output_type": "stream",
          "name": "stdout",
          "text": [
            "\u001b[1m15/15\u001b[0m \u001b[32m━━━━━━━━━━━━━━━━━━━━\u001b[0m\u001b[37m\u001b[0m \u001b[1m0s\u001b[0m 4ms/step\n"
          ]
        },
        {
          "output_type": "stream",
          "name": "stderr",
          "text": [
            "/usr/local/lib/python3.10/dist-packages/keras/src/layers/core/dense.py:87: UserWarning: Do not pass an `input_shape`/`input_dim` argument to a layer. When using Sequential models, prefer using an `Input(shape)` object as the first layer in the model instead.\n",
            "  super().__init__(activity_regularizer=activity_regularizer, **kwargs)\n"
          ]
        },
        {
          "output_type": "stream",
          "name": "stdout",
          "text": [
            "\u001b[1m15/15\u001b[0m \u001b[32m━━━━━━━━━━━━━━━━━━━━\u001b[0m\u001b[37m\u001b[0m \u001b[1m0s\u001b[0m 4ms/step\n"
          ]
        },
        {
          "output_type": "stream",
          "name": "stderr",
          "text": [
            "/usr/local/lib/python3.10/dist-packages/keras/src/layers/core/dense.py:87: UserWarning: Do not pass an `input_shape`/`input_dim` argument to a layer. When using Sequential models, prefer using an `Input(shape)` object as the first layer in the model instead.\n",
            "  super().__init__(activity_regularizer=activity_regularizer, **kwargs)\n"
          ]
        },
        {
          "output_type": "stream",
          "name": "stdout",
          "text": [
            "\u001b[1m15/15\u001b[0m \u001b[32m━━━━━━━━━━━━━━━━━━━━\u001b[0m\u001b[37m\u001b[0m \u001b[1m0s\u001b[0m 4ms/step\n"
          ]
        },
        {
          "output_type": "stream",
          "name": "stderr",
          "text": [
            "/usr/local/lib/python3.10/dist-packages/keras/src/layers/core/dense.py:87: UserWarning: Do not pass an `input_shape`/`input_dim` argument to a layer. When using Sequential models, prefer using an `Input(shape)` object as the first layer in the model instead.\n",
            "  super().__init__(activity_regularizer=activity_regularizer, **kwargs)\n"
          ]
        },
        {
          "output_type": "stream",
          "name": "stdout",
          "text": [
            "\u001b[1m15/15\u001b[0m \u001b[32m━━━━━━━━━━━━━━━━━━━━\u001b[0m\u001b[37m\u001b[0m \u001b[1m0s\u001b[0m 5ms/step\n"
          ]
        },
        {
          "output_type": "stream",
          "name": "stderr",
          "text": [
            "/usr/local/lib/python3.10/dist-packages/keras/src/layers/core/dense.py:87: UserWarning: Do not pass an `input_shape`/`input_dim` argument to a layer. When using Sequential models, prefer using an `Input(shape)` object as the first layer in the model instead.\n",
            "  super().__init__(activity_regularizer=activity_regularizer, **kwargs)\n"
          ]
        },
        {
          "output_type": "stream",
          "name": "stdout",
          "text": [
            "\u001b[1m15/15\u001b[0m \u001b[32m━━━━━━━━━━━━━━━━━━━━\u001b[0m\u001b[37m\u001b[0m \u001b[1m0s\u001b[0m 4ms/step\n"
          ]
        },
        {
          "output_type": "stream",
          "name": "stderr",
          "text": [
            "/usr/local/lib/python3.10/dist-packages/keras/src/layers/core/dense.py:87: UserWarning: Do not pass an `input_shape`/`input_dim` argument to a layer. When using Sequential models, prefer using an `Input(shape)` object as the first layer in the model instead.\n",
            "  super().__init__(activity_regularizer=activity_regularizer, **kwargs)\n"
          ]
        },
        {
          "output_type": "stream",
          "name": "stdout",
          "text": [
            "\u001b[1m15/15\u001b[0m \u001b[32m━━━━━━━━━━━━━━━━━━━━\u001b[0m\u001b[37m\u001b[0m \u001b[1m0s\u001b[0m 4ms/step\n"
          ]
        },
        {
          "output_type": "stream",
          "name": "stderr",
          "text": [
            "/usr/local/lib/python3.10/dist-packages/keras/src/layers/core/dense.py:87: UserWarning: Do not pass an `input_shape`/`input_dim` argument to a layer. When using Sequential models, prefer using an `Input(shape)` object as the first layer in the model instead.\n",
            "  super().__init__(activity_regularizer=activity_regularizer, **kwargs)\n"
          ]
        },
        {
          "output_type": "stream",
          "name": "stdout",
          "text": [
            "\u001b[1m15/15\u001b[0m \u001b[32m━━━━━━━━━━━━━━━━━━━━\u001b[0m\u001b[37m\u001b[0m \u001b[1m0s\u001b[0m 7ms/step\n",
            "\n",
            "Repeat 7/10\n"
          ]
        },
        {
          "output_type": "stream",
          "name": "stderr",
          "text": [
            "/usr/local/lib/python3.10/dist-packages/keras/src/layers/core/dense.py:87: UserWarning: Do not pass an `input_shape`/`input_dim` argument to a layer. When using Sequential models, prefer using an `Input(shape)` object as the first layer in the model instead.\n",
            "  super().__init__(activity_regularizer=activity_regularizer, **kwargs)\n"
          ]
        },
        {
          "output_type": "stream",
          "name": "stdout",
          "text": [
            "\u001b[1m15/15\u001b[0m \u001b[32m━━━━━━━━━━━━━━━━━━━━\u001b[0m\u001b[37m\u001b[0m \u001b[1m0s\u001b[0m 4ms/step\n"
          ]
        },
        {
          "output_type": "stream",
          "name": "stderr",
          "text": [
            "/usr/local/lib/python3.10/dist-packages/keras/src/layers/core/dense.py:87: UserWarning: Do not pass an `input_shape`/`input_dim` argument to a layer. When using Sequential models, prefer using an `Input(shape)` object as the first layer in the model instead.\n",
            "  super().__init__(activity_regularizer=activity_regularizer, **kwargs)\n"
          ]
        },
        {
          "output_type": "stream",
          "name": "stdout",
          "text": [
            "\u001b[1m15/15\u001b[0m \u001b[32m━━━━━━━━━━━━━━━━━━━━\u001b[0m\u001b[37m\u001b[0m \u001b[1m0s\u001b[0m 4ms/step\n"
          ]
        },
        {
          "output_type": "stream",
          "name": "stderr",
          "text": [
            "/usr/local/lib/python3.10/dist-packages/keras/src/layers/core/dense.py:87: UserWarning: Do not pass an `input_shape`/`input_dim` argument to a layer. When using Sequential models, prefer using an `Input(shape)` object as the first layer in the model instead.\n",
            "  super().__init__(activity_regularizer=activity_regularizer, **kwargs)\n"
          ]
        },
        {
          "output_type": "stream",
          "name": "stdout",
          "text": [
            "\u001b[1m15/15\u001b[0m \u001b[32m━━━━━━━━━━━━━━━━━━━━\u001b[0m\u001b[37m\u001b[0m \u001b[1m0s\u001b[0m 4ms/step\n"
          ]
        },
        {
          "output_type": "stream",
          "name": "stderr",
          "text": [
            "/usr/local/lib/python3.10/dist-packages/keras/src/layers/core/dense.py:87: UserWarning: Do not pass an `input_shape`/`input_dim` argument to a layer. When using Sequential models, prefer using an `Input(shape)` object as the first layer in the model instead.\n",
            "  super().__init__(activity_regularizer=activity_regularizer, **kwargs)\n"
          ]
        },
        {
          "output_type": "stream",
          "name": "stdout",
          "text": [
            "\u001b[1m15/15\u001b[0m \u001b[32m━━━━━━━━━━━━━━━━━━━━\u001b[0m\u001b[37m\u001b[0m \u001b[1m0s\u001b[0m 7ms/step\n"
          ]
        },
        {
          "output_type": "stream",
          "name": "stderr",
          "text": [
            "/usr/local/lib/python3.10/dist-packages/keras/src/layers/core/dense.py:87: UserWarning: Do not pass an `input_shape`/`input_dim` argument to a layer. When using Sequential models, prefer using an `Input(shape)` object as the first layer in the model instead.\n",
            "  super().__init__(activity_regularizer=activity_regularizer, **kwargs)\n"
          ]
        },
        {
          "output_type": "stream",
          "name": "stdout",
          "text": [
            "\u001b[1m15/15\u001b[0m \u001b[32m━━━━━━━━━━━━━━━━━━━━\u001b[0m\u001b[37m\u001b[0m \u001b[1m0s\u001b[0m 4ms/step\n"
          ]
        },
        {
          "output_type": "stream",
          "name": "stderr",
          "text": [
            "/usr/local/lib/python3.10/dist-packages/keras/src/layers/core/dense.py:87: UserWarning: Do not pass an `input_shape`/`input_dim` argument to a layer. When using Sequential models, prefer using an `Input(shape)` object as the first layer in the model instead.\n",
            "  super().__init__(activity_regularizer=activity_regularizer, **kwargs)\n"
          ]
        },
        {
          "output_type": "stream",
          "name": "stdout",
          "text": [
            "\u001b[1m15/15\u001b[0m \u001b[32m━━━━━━━━━━━━━━━━━━━━\u001b[0m\u001b[37m\u001b[0m \u001b[1m0s\u001b[0m 4ms/step\n"
          ]
        },
        {
          "output_type": "stream",
          "name": "stderr",
          "text": [
            "/usr/local/lib/python3.10/dist-packages/keras/src/layers/core/dense.py:87: UserWarning: Do not pass an `input_shape`/`input_dim` argument to a layer. When using Sequential models, prefer using an `Input(shape)` object as the first layer in the model instead.\n",
            "  super().__init__(activity_regularizer=activity_regularizer, **kwargs)\n"
          ]
        },
        {
          "output_type": "stream",
          "name": "stdout",
          "text": [
            "\u001b[1m15/15\u001b[0m \u001b[32m━━━━━━━━━━━━━━━━━━━━\u001b[0m\u001b[37m\u001b[0m \u001b[1m0s\u001b[0m 5ms/step\n"
          ]
        },
        {
          "output_type": "stream",
          "name": "stderr",
          "text": [
            "/usr/local/lib/python3.10/dist-packages/keras/src/layers/core/dense.py:87: UserWarning: Do not pass an `input_shape`/`input_dim` argument to a layer. When using Sequential models, prefer using an `Input(shape)` object as the first layer in the model instead.\n",
            "  super().__init__(activity_regularizer=activity_regularizer, **kwargs)\n"
          ]
        },
        {
          "output_type": "stream",
          "name": "stdout",
          "text": [
            "\u001b[1m15/15\u001b[0m \u001b[32m━━━━━━━━━━━━━━━━━━━━\u001b[0m\u001b[37m\u001b[0m \u001b[1m0s\u001b[0m 4ms/step\n"
          ]
        },
        {
          "output_type": "stream",
          "name": "stderr",
          "text": [
            "/usr/local/lib/python3.10/dist-packages/keras/src/layers/core/dense.py:87: UserWarning: Do not pass an `input_shape`/`input_dim` argument to a layer. When using Sequential models, prefer using an `Input(shape)` object as the first layer in the model instead.\n",
            "  super().__init__(activity_regularizer=activity_regularizer, **kwargs)\n"
          ]
        },
        {
          "output_type": "stream",
          "name": "stdout",
          "text": [
            "\u001b[1m15/15\u001b[0m \u001b[32m━━━━━━━━━━━━━━━━━━━━\u001b[0m\u001b[37m\u001b[0m \u001b[1m0s\u001b[0m 4ms/step\n"
          ]
        },
        {
          "output_type": "stream",
          "name": "stderr",
          "text": [
            "/usr/local/lib/python3.10/dist-packages/keras/src/layers/core/dense.py:87: UserWarning: Do not pass an `input_shape`/`input_dim` argument to a layer. When using Sequential models, prefer using an `Input(shape)` object as the first layer in the model instead.\n",
            "  super().__init__(activity_regularizer=activity_regularizer, **kwargs)\n"
          ]
        },
        {
          "output_type": "stream",
          "name": "stdout",
          "text": [
            "\u001b[1m15/15\u001b[0m \u001b[32m━━━━━━━━━━━━━━━━━━━━\u001b[0m\u001b[37m\u001b[0m \u001b[1m0s\u001b[0m 4ms/step\n",
            "\n",
            "Repeat 8/10\n"
          ]
        },
        {
          "output_type": "stream",
          "name": "stderr",
          "text": [
            "/usr/local/lib/python3.10/dist-packages/keras/src/layers/core/dense.py:87: UserWarning: Do not pass an `input_shape`/`input_dim` argument to a layer. When using Sequential models, prefer using an `Input(shape)` object as the first layer in the model instead.\n",
            "  super().__init__(activity_regularizer=activity_regularizer, **kwargs)\n"
          ]
        },
        {
          "output_type": "stream",
          "name": "stdout",
          "text": [
            "\u001b[1m15/15\u001b[0m \u001b[32m━━━━━━━━━━━━━━━━━━━━\u001b[0m\u001b[37m\u001b[0m \u001b[1m0s\u001b[0m 4ms/step\n"
          ]
        },
        {
          "output_type": "stream",
          "name": "stderr",
          "text": [
            "/usr/local/lib/python3.10/dist-packages/keras/src/layers/core/dense.py:87: UserWarning: Do not pass an `input_shape`/`input_dim` argument to a layer. When using Sequential models, prefer using an `Input(shape)` object as the first layer in the model instead.\n",
            "  super().__init__(activity_regularizer=activity_regularizer, **kwargs)\n"
          ]
        },
        {
          "output_type": "stream",
          "name": "stdout",
          "text": [
            "\u001b[1m15/15\u001b[0m \u001b[32m━━━━━━━━━━━━━━━━━━━━\u001b[0m\u001b[37m\u001b[0m \u001b[1m0s\u001b[0m 4ms/step\n"
          ]
        },
        {
          "output_type": "stream",
          "name": "stderr",
          "text": [
            "/usr/local/lib/python3.10/dist-packages/keras/src/layers/core/dense.py:87: UserWarning: Do not pass an `input_shape`/`input_dim` argument to a layer. When using Sequential models, prefer using an `Input(shape)` object as the first layer in the model instead.\n",
            "  super().__init__(activity_regularizer=activity_regularizer, **kwargs)\n"
          ]
        },
        {
          "output_type": "stream",
          "name": "stdout",
          "text": [
            "\u001b[1m15/15\u001b[0m \u001b[32m━━━━━━━━━━━━━━━━━━━━\u001b[0m\u001b[37m\u001b[0m \u001b[1m0s\u001b[0m 4ms/step\n"
          ]
        },
        {
          "output_type": "stream",
          "name": "stderr",
          "text": [
            "/usr/local/lib/python3.10/dist-packages/keras/src/layers/core/dense.py:87: UserWarning: Do not pass an `input_shape`/`input_dim` argument to a layer. When using Sequential models, prefer using an `Input(shape)` object as the first layer in the model instead.\n",
            "  super().__init__(activity_regularizer=activity_regularizer, **kwargs)\n"
          ]
        },
        {
          "output_type": "stream",
          "name": "stdout",
          "text": [
            "\u001b[1m15/15\u001b[0m \u001b[32m━━━━━━━━━━━━━━━━━━━━\u001b[0m\u001b[37m\u001b[0m \u001b[1m0s\u001b[0m 6ms/step\n"
          ]
        },
        {
          "output_type": "stream",
          "name": "stderr",
          "text": [
            "/usr/local/lib/python3.10/dist-packages/keras/src/layers/core/dense.py:87: UserWarning: Do not pass an `input_shape`/`input_dim` argument to a layer. When using Sequential models, prefer using an `Input(shape)` object as the first layer in the model instead.\n",
            "  super().__init__(activity_regularizer=activity_regularizer, **kwargs)\n"
          ]
        },
        {
          "output_type": "stream",
          "name": "stdout",
          "text": [
            "\u001b[1m15/15\u001b[0m \u001b[32m━━━━━━━━━━━━━━━━━━━━\u001b[0m\u001b[37m\u001b[0m \u001b[1m0s\u001b[0m 4ms/step\n"
          ]
        },
        {
          "output_type": "stream",
          "name": "stderr",
          "text": [
            "/usr/local/lib/python3.10/dist-packages/keras/src/layers/core/dense.py:87: UserWarning: Do not pass an `input_shape`/`input_dim` argument to a layer. When using Sequential models, prefer using an `Input(shape)` object as the first layer in the model instead.\n",
            "  super().__init__(activity_regularizer=activity_regularizer, **kwargs)\n"
          ]
        },
        {
          "output_type": "stream",
          "name": "stdout",
          "text": [
            "\u001b[1m15/15\u001b[0m \u001b[32m━━━━━━━━━━━━━━━━━━━━\u001b[0m\u001b[37m\u001b[0m \u001b[1m0s\u001b[0m 4ms/step\n"
          ]
        },
        {
          "output_type": "stream",
          "name": "stderr",
          "text": [
            "/usr/local/lib/python3.10/dist-packages/keras/src/layers/core/dense.py:87: UserWarning: Do not pass an `input_shape`/`input_dim` argument to a layer. When using Sequential models, prefer using an `Input(shape)` object as the first layer in the model instead.\n",
            "  super().__init__(activity_regularizer=activity_regularizer, **kwargs)\n"
          ]
        },
        {
          "output_type": "stream",
          "name": "stdout",
          "text": [
            "\u001b[1m15/15\u001b[0m \u001b[32m━━━━━━━━━━━━━━━━━━━━\u001b[0m\u001b[37m\u001b[0m \u001b[1m0s\u001b[0m 4ms/step\n"
          ]
        },
        {
          "output_type": "stream",
          "name": "stderr",
          "text": [
            "/usr/local/lib/python3.10/dist-packages/keras/src/layers/core/dense.py:87: UserWarning: Do not pass an `input_shape`/`input_dim` argument to a layer. When using Sequential models, prefer using an `Input(shape)` object as the first layer in the model instead.\n",
            "  super().__init__(activity_regularizer=activity_regularizer, **kwargs)\n"
          ]
        },
        {
          "output_type": "stream",
          "name": "stdout",
          "text": [
            "\u001b[1m15/15\u001b[0m \u001b[32m━━━━━━━━━━━━━━━━━━━━\u001b[0m\u001b[37m\u001b[0m \u001b[1m0s\u001b[0m 6ms/step\n"
          ]
        },
        {
          "output_type": "stream",
          "name": "stderr",
          "text": [
            "/usr/local/lib/python3.10/dist-packages/keras/src/layers/core/dense.py:87: UserWarning: Do not pass an `input_shape`/`input_dim` argument to a layer. When using Sequential models, prefer using an `Input(shape)` object as the first layer in the model instead.\n",
            "  super().__init__(activity_regularizer=activity_regularizer, **kwargs)\n"
          ]
        },
        {
          "output_type": "stream",
          "name": "stdout",
          "text": [
            "\u001b[1m15/15\u001b[0m \u001b[32m━━━━━━━━━━━━━━━━━━━━\u001b[0m\u001b[37m\u001b[0m \u001b[1m0s\u001b[0m 4ms/step\n"
          ]
        },
        {
          "output_type": "stream",
          "name": "stderr",
          "text": [
            "/usr/local/lib/python3.10/dist-packages/keras/src/layers/core/dense.py:87: UserWarning: Do not pass an `input_shape`/`input_dim` argument to a layer. When using Sequential models, prefer using an `Input(shape)` object as the first layer in the model instead.\n",
            "  super().__init__(activity_regularizer=activity_regularizer, **kwargs)\n"
          ]
        },
        {
          "output_type": "stream",
          "name": "stdout",
          "text": [
            "\u001b[1m15/15\u001b[0m \u001b[32m━━━━━━━━━━━━━━━━━━━━\u001b[0m\u001b[37m\u001b[0m \u001b[1m0s\u001b[0m 4ms/step\n",
            "\n",
            "Repeat 9/10\n"
          ]
        },
        {
          "output_type": "stream",
          "name": "stderr",
          "text": [
            "/usr/local/lib/python3.10/dist-packages/keras/src/layers/core/dense.py:87: UserWarning: Do not pass an `input_shape`/`input_dim` argument to a layer. When using Sequential models, prefer using an `Input(shape)` object as the first layer in the model instead.\n",
            "  super().__init__(activity_regularizer=activity_regularizer, **kwargs)\n"
          ]
        },
        {
          "output_type": "stream",
          "name": "stdout",
          "text": [
            "\u001b[1m15/15\u001b[0m \u001b[32m━━━━━━━━━━━━━━━━━━━━\u001b[0m\u001b[37m\u001b[0m \u001b[1m0s\u001b[0m 4ms/step\n"
          ]
        },
        {
          "output_type": "stream",
          "name": "stderr",
          "text": [
            "/usr/local/lib/python3.10/dist-packages/keras/src/layers/core/dense.py:87: UserWarning: Do not pass an `input_shape`/`input_dim` argument to a layer. When using Sequential models, prefer using an `Input(shape)` object as the first layer in the model instead.\n",
            "  super().__init__(activity_regularizer=activity_regularizer, **kwargs)\n"
          ]
        },
        {
          "output_type": "stream",
          "name": "stdout",
          "text": [
            "\u001b[1m15/15\u001b[0m \u001b[32m━━━━━━━━━━━━━━━━━━━━\u001b[0m\u001b[37m\u001b[0m \u001b[1m0s\u001b[0m 7ms/step\n"
          ]
        },
        {
          "output_type": "stream",
          "name": "stderr",
          "text": [
            "/usr/local/lib/python3.10/dist-packages/keras/src/layers/core/dense.py:87: UserWarning: Do not pass an `input_shape`/`input_dim` argument to a layer. When using Sequential models, prefer using an `Input(shape)` object as the first layer in the model instead.\n",
            "  super().__init__(activity_regularizer=activity_regularizer, **kwargs)\n"
          ]
        },
        {
          "output_type": "stream",
          "name": "stdout",
          "text": [
            "\u001b[1m15/15\u001b[0m \u001b[32m━━━━━━━━━━━━━━━━━━━━\u001b[0m\u001b[37m\u001b[0m \u001b[1m0s\u001b[0m 7ms/step\n"
          ]
        },
        {
          "output_type": "stream",
          "name": "stderr",
          "text": [
            "/usr/local/lib/python3.10/dist-packages/keras/src/layers/core/dense.py:87: UserWarning: Do not pass an `input_shape`/`input_dim` argument to a layer. When using Sequential models, prefer using an `Input(shape)` object as the first layer in the model instead.\n",
            "  super().__init__(activity_regularizer=activity_regularizer, **kwargs)\n"
          ]
        },
        {
          "output_type": "stream",
          "name": "stdout",
          "text": [
            "\u001b[1m15/15\u001b[0m \u001b[32m━━━━━━━━━━━━━━━━━━━━\u001b[0m\u001b[37m\u001b[0m \u001b[1m0s\u001b[0m 6ms/step\n"
          ]
        },
        {
          "output_type": "stream",
          "name": "stderr",
          "text": [
            "/usr/local/lib/python3.10/dist-packages/keras/src/layers/core/dense.py:87: UserWarning: Do not pass an `input_shape`/`input_dim` argument to a layer. When using Sequential models, prefer using an `Input(shape)` object as the first layer in the model instead.\n",
            "  super().__init__(activity_regularizer=activity_regularizer, **kwargs)\n"
          ]
        },
        {
          "output_type": "stream",
          "name": "stdout",
          "text": [
            "\u001b[1m15/15\u001b[0m \u001b[32m━━━━━━━━━━━━━━━━━━━━\u001b[0m\u001b[37m\u001b[0m \u001b[1m0s\u001b[0m 7ms/step\n"
          ]
        },
        {
          "output_type": "stream",
          "name": "stderr",
          "text": [
            "/usr/local/lib/python3.10/dist-packages/keras/src/layers/core/dense.py:87: UserWarning: Do not pass an `input_shape`/`input_dim` argument to a layer. When using Sequential models, prefer using an `Input(shape)` object as the first layer in the model instead.\n",
            "  super().__init__(activity_regularizer=activity_regularizer, **kwargs)\n"
          ]
        },
        {
          "output_type": "stream",
          "name": "stdout",
          "text": [
            "\u001b[1m15/15\u001b[0m \u001b[32m━━━━━━━━━━━━━━━━━━━━\u001b[0m\u001b[37m\u001b[0m \u001b[1m0s\u001b[0m 6ms/step\n"
          ]
        },
        {
          "output_type": "stream",
          "name": "stderr",
          "text": [
            "/usr/local/lib/python3.10/dist-packages/keras/src/layers/core/dense.py:87: UserWarning: Do not pass an `input_shape`/`input_dim` argument to a layer. When using Sequential models, prefer using an `Input(shape)` object as the first layer in the model instead.\n",
            "  super().__init__(activity_regularizer=activity_regularizer, **kwargs)\n"
          ]
        },
        {
          "output_type": "stream",
          "name": "stdout",
          "text": [
            "\u001b[1m15/15\u001b[0m \u001b[32m━━━━━━━━━━━━━━━━━━━━\u001b[0m\u001b[37m\u001b[0m \u001b[1m0s\u001b[0m 4ms/step\n"
          ]
        },
        {
          "output_type": "stream",
          "name": "stderr",
          "text": [
            "/usr/local/lib/python3.10/dist-packages/keras/src/layers/core/dense.py:87: UserWarning: Do not pass an `input_shape`/`input_dim` argument to a layer. When using Sequential models, prefer using an `Input(shape)` object as the first layer in the model instead.\n",
            "  super().__init__(activity_regularizer=activity_regularizer, **kwargs)\n"
          ]
        },
        {
          "output_type": "stream",
          "name": "stdout",
          "text": [
            "\u001b[1m15/15\u001b[0m \u001b[32m━━━━━━━━━━━━━━━━━━━━\u001b[0m\u001b[37m\u001b[0m \u001b[1m0s\u001b[0m 6ms/step\n"
          ]
        },
        {
          "output_type": "stream",
          "name": "stderr",
          "text": [
            "/usr/local/lib/python3.10/dist-packages/keras/src/layers/core/dense.py:87: UserWarning: Do not pass an `input_shape`/`input_dim` argument to a layer. When using Sequential models, prefer using an `Input(shape)` object as the first layer in the model instead.\n",
            "  super().__init__(activity_regularizer=activity_regularizer, **kwargs)\n"
          ]
        },
        {
          "output_type": "stream",
          "name": "stdout",
          "text": [
            "\u001b[1m15/15\u001b[0m \u001b[32m━━━━━━━━━━━━━━━━━━━━\u001b[0m\u001b[37m\u001b[0m \u001b[1m0s\u001b[0m 5ms/step\n"
          ]
        },
        {
          "output_type": "stream",
          "name": "stderr",
          "text": [
            "/usr/local/lib/python3.10/dist-packages/keras/src/layers/core/dense.py:87: UserWarning: Do not pass an `input_shape`/`input_dim` argument to a layer. When using Sequential models, prefer using an `Input(shape)` object as the first layer in the model instead.\n",
            "  super().__init__(activity_regularizer=activity_regularizer, **kwargs)\n"
          ]
        },
        {
          "output_type": "stream",
          "name": "stdout",
          "text": [
            "\u001b[1m15/15\u001b[0m \u001b[32m━━━━━━━━━━━━━━━━━━━━\u001b[0m\u001b[37m\u001b[0m \u001b[1m0s\u001b[0m 4ms/step\n",
            "\n",
            "Repeat 10/10\n"
          ]
        },
        {
          "output_type": "stream",
          "name": "stderr",
          "text": [
            "/usr/local/lib/python3.10/dist-packages/keras/src/layers/core/dense.py:87: UserWarning: Do not pass an `input_shape`/`input_dim` argument to a layer. When using Sequential models, prefer using an `Input(shape)` object as the first layer in the model instead.\n",
            "  super().__init__(activity_regularizer=activity_regularizer, **kwargs)\n"
          ]
        },
        {
          "output_type": "stream",
          "name": "stdout",
          "text": [
            "\u001b[1m15/15\u001b[0m \u001b[32m━━━━━━━━━━━━━━━━━━━━\u001b[0m\u001b[37m\u001b[0m \u001b[1m0s\u001b[0m 4ms/step\n"
          ]
        },
        {
          "output_type": "stream",
          "name": "stderr",
          "text": [
            "/usr/local/lib/python3.10/dist-packages/keras/src/layers/core/dense.py:87: UserWarning: Do not pass an `input_shape`/`input_dim` argument to a layer. When using Sequential models, prefer using an `Input(shape)` object as the first layer in the model instead.\n",
            "  super().__init__(activity_regularizer=activity_regularizer, **kwargs)\n"
          ]
        },
        {
          "output_type": "stream",
          "name": "stdout",
          "text": [
            "\u001b[1m15/15\u001b[0m \u001b[32m━━━━━━━━━━━━━━━━━━━━\u001b[0m\u001b[37m\u001b[0m \u001b[1m0s\u001b[0m 5ms/step\n"
          ]
        },
        {
          "output_type": "stream",
          "name": "stderr",
          "text": [
            "/usr/local/lib/python3.10/dist-packages/keras/src/layers/core/dense.py:87: UserWarning: Do not pass an `input_shape`/`input_dim` argument to a layer. When using Sequential models, prefer using an `Input(shape)` object as the first layer in the model instead.\n",
            "  super().__init__(activity_regularizer=activity_regularizer, **kwargs)\n"
          ]
        },
        {
          "output_type": "stream",
          "name": "stdout",
          "text": [
            "\u001b[1m15/15\u001b[0m \u001b[32m━━━━━━━━━━━━━━━━━━━━\u001b[0m\u001b[37m\u001b[0m \u001b[1m0s\u001b[0m 4ms/step\n"
          ]
        },
        {
          "output_type": "stream",
          "name": "stderr",
          "text": [
            "/usr/local/lib/python3.10/dist-packages/keras/src/layers/core/dense.py:87: UserWarning: Do not pass an `input_shape`/`input_dim` argument to a layer. When using Sequential models, prefer using an `Input(shape)` object as the first layer in the model instead.\n",
            "  super().__init__(activity_regularizer=activity_regularizer, **kwargs)\n"
          ]
        },
        {
          "output_type": "stream",
          "name": "stdout",
          "text": [
            "\u001b[1m15/15\u001b[0m \u001b[32m━━━━━━━━━━━━━━━━━━━━\u001b[0m\u001b[37m\u001b[0m \u001b[1m0s\u001b[0m 4ms/step\n"
          ]
        },
        {
          "output_type": "stream",
          "name": "stderr",
          "text": [
            "/usr/local/lib/python3.10/dist-packages/keras/src/layers/core/dense.py:87: UserWarning: Do not pass an `input_shape`/`input_dim` argument to a layer. When using Sequential models, prefer using an `Input(shape)` object as the first layer in the model instead.\n",
            "  super().__init__(activity_regularizer=activity_regularizer, **kwargs)\n"
          ]
        },
        {
          "output_type": "stream",
          "name": "stdout",
          "text": [
            "\u001b[1m15/15\u001b[0m \u001b[32m━━━━━━━━━━━━━━━━━━━━\u001b[0m\u001b[37m\u001b[0m \u001b[1m0s\u001b[0m 4ms/step\n"
          ]
        },
        {
          "output_type": "stream",
          "name": "stderr",
          "text": [
            "/usr/local/lib/python3.10/dist-packages/keras/src/layers/core/dense.py:87: UserWarning: Do not pass an `input_shape`/`input_dim` argument to a layer. When using Sequential models, prefer using an `Input(shape)` object as the first layer in the model instead.\n",
            "  super().__init__(activity_regularizer=activity_regularizer, **kwargs)\n"
          ]
        },
        {
          "output_type": "stream",
          "name": "stdout",
          "text": [
            "\u001b[1m15/15\u001b[0m \u001b[32m━━━━━━━━━━━━━━━━━━━━\u001b[0m\u001b[37m\u001b[0m \u001b[1m0s\u001b[0m 7ms/step\n"
          ]
        },
        {
          "output_type": "stream",
          "name": "stderr",
          "text": [
            "/usr/local/lib/python3.10/dist-packages/keras/src/layers/core/dense.py:87: UserWarning: Do not pass an `input_shape`/`input_dim` argument to a layer. When using Sequential models, prefer using an `Input(shape)` object as the first layer in the model instead.\n",
            "  super().__init__(activity_regularizer=activity_regularizer, **kwargs)\n"
          ]
        },
        {
          "output_type": "stream",
          "name": "stdout",
          "text": [
            "\u001b[1m15/15\u001b[0m \u001b[32m━━━━━━━━━━━━━━━━━━━━\u001b[0m\u001b[37m\u001b[0m \u001b[1m0s\u001b[0m 4ms/step\n"
          ]
        },
        {
          "output_type": "stream",
          "name": "stderr",
          "text": [
            "/usr/local/lib/python3.10/dist-packages/keras/src/layers/core/dense.py:87: UserWarning: Do not pass an `input_shape`/`input_dim` argument to a layer. When using Sequential models, prefer using an `Input(shape)` object as the first layer in the model instead.\n",
            "  super().__init__(activity_regularizer=activity_regularizer, **kwargs)\n"
          ]
        },
        {
          "output_type": "stream",
          "name": "stdout",
          "text": [
            "\u001b[1m15/15\u001b[0m \u001b[32m━━━━━━━━━━━━━━━━━━━━\u001b[0m\u001b[37m\u001b[0m \u001b[1m0s\u001b[0m 4ms/step\n"
          ]
        },
        {
          "output_type": "stream",
          "name": "stderr",
          "text": [
            "/usr/local/lib/python3.10/dist-packages/keras/src/layers/core/dense.py:87: UserWarning: Do not pass an `input_shape`/`input_dim` argument to a layer. When using Sequential models, prefer using an `Input(shape)` object as the first layer in the model instead.\n",
            "  super().__init__(activity_regularizer=activity_regularizer, **kwargs)\n"
          ]
        },
        {
          "output_type": "stream",
          "name": "stdout",
          "text": [
            "\u001b[1m15/15\u001b[0m \u001b[32m━━━━━━━━━━━━━━━━━━━━\u001b[0m\u001b[37m\u001b[0m \u001b[1m0s\u001b[0m 4ms/step\n"
          ]
        },
        {
          "output_type": "stream",
          "name": "stderr",
          "text": [
            "/usr/local/lib/python3.10/dist-packages/keras/src/layers/core/dense.py:87: UserWarning: Do not pass an `input_shape`/`input_dim` argument to a layer. When using Sequential models, prefer using an `Input(shape)` object as the first layer in the model instead.\n",
            "  super().__init__(activity_regularizer=activity_regularizer, **kwargs)\n"
          ]
        },
        {
          "output_type": "stream",
          "name": "stdout",
          "text": [
            "\u001b[1m15/15\u001b[0m \u001b[32m━━━━━━━━━━━━━━━━━━━━\u001b[0m\u001b[37m\u001b[0m \u001b[1m0s\u001b[0m 4ms/step\n",
            "\n",
            "Final Evaluation over 10-times 10-fold:\n",
            "Accuracy: 0.884 ± 0.018\n",
            "Precision: 0.890 ± 0.019\n",
            "Recall: 0.884 ± 0.018\n",
            "F1-Score: 0.885 ± 0.018\n"
          ]
        }
      ]
    },
    {
      "cell_type": "markdown",
      "source": [
        "# Variante DropOut 0.2"
      ],
      "metadata": {
        "id": "HrxLzIypg2Ss"
      }
    },
    {
      "cell_type": "code",
      "source": [
        "import tensorflow as tf\n",
        "from tensorflow.keras.models import Sequential\n",
        "from tensorflow.keras.layers import Dense, Dropout\n",
        "from tensorflow.keras.layers import Input\n",
        "# Define the neural network\n",
        "input_dim = X_train.shape[1]  # Number of features\n",
        "\n",
        "model2 = Sequential([\n",
        "    Input(shape=(X_train.shape[1],)),\n",
        "    Dense(128, activation='relu'),\n",
        "    Dropout(0.2),  # Prevent overfitting\n",
        "    Dense(64, activation='relu'),\n",
        "    Dropout(0.2),\n",
        "    Dense(3, activation='softmax')  # Adjust the output units for the number of classes\n",
        "])\n",
        "\n",
        "# Compile the model\n",
        "model2.compile(\n",
        "    optimizer='adam',\n",
        "    loss='categorical_crossentropy',  # For multiclass classification\n",
        "    metrics=['accuracy']\n",
        ")\n",
        "\n",
        "# Train the model\n",
        "history2 = model2.fit(\n",
        "    X_train, tf.keras.utils.to_categorical(y_train),  # Convert labels to one-hot\n",
        "    validation_data=(X_test, tf.keras.utils.to_categorical(y_test)),\n",
        "    epochs=50,  # Adjust based on performance\n",
        "    batch_size=32,\n",
        "    verbose=1\n",
        ")\n",
        "\n",
        "# Evaluate the model\n",
        "print(\"\\nTest Evaluation:\")\n",
        "model2.evaluate(X_test, tf.keras.utils.to_categorical(y_test))"
      ],
      "metadata": {
        "colab": {
          "base_uri": "https://localhost:8080/"
        },
        "id": "XkIBEmENg4xO",
        "outputId": "1481644f-0cb2-4eb5-df6b-8e3012064c7b"
      },
      "execution_count": null,
      "outputs": [
        {
          "output_type": "stream",
          "name": "stdout",
          "text": [
            "Epoch 1/50\n",
            "\u001b[1m135/135\u001b[0m \u001b[32m━━━━━━━━━━━━━━━━━━━━\u001b[0m\u001b[37m\u001b[0m \u001b[1m2s\u001b[0m 6ms/step - accuracy: 0.4633 - loss: 1.0015 - val_accuracy: 0.7008 - val_loss: 0.6975\n",
            "Epoch 2/50\n",
            "\u001b[1m135/135\u001b[0m \u001b[32m━━━━━━━━━━━━━━━━━━━━\u001b[0m\u001b[37m\u001b[0m \u001b[1m1s\u001b[0m 4ms/step - accuracy: 0.7074 - loss: 0.6707 - val_accuracy: 0.8117 - val_loss: 0.5213\n",
            "Epoch 3/50\n",
            "\u001b[1m135/135\u001b[0m \u001b[32m━━━━━━━━━━━━━━━━━━━━\u001b[0m\u001b[37m\u001b[0m \u001b[1m1s\u001b[0m 4ms/step - accuracy: 0.7884 - loss: 0.5086 - val_accuracy: 0.8243 - val_loss: 0.4248\n",
            "Epoch 4/50\n",
            "\u001b[1m135/135\u001b[0m \u001b[32m━━━━━━━━━━━━━━━━━━━━\u001b[0m\u001b[37m\u001b[0m \u001b[1m0s\u001b[0m 3ms/step - accuracy: 0.8304 - loss: 0.4112 - val_accuracy: 0.8410 - val_loss: 0.3826\n",
            "Epoch 5/50\n",
            "\u001b[1m135/135\u001b[0m \u001b[32m━━━━━━━━━━━━━━━━━━━━\u001b[0m\u001b[37m\u001b[0m \u001b[1m0s\u001b[0m 3ms/step - accuracy: 0.8454 - loss: 0.3736 - val_accuracy: 0.8724 - val_loss: 0.3560\n",
            "Epoch 6/50\n",
            "\u001b[1m135/135\u001b[0m \u001b[32m━━━━━━━━━━━━━━━━━━━━\u001b[0m\u001b[37m\u001b[0m \u001b[1m1s\u001b[0m 4ms/step - accuracy: 0.8507 - loss: 0.3397 - val_accuracy: 0.8619 - val_loss: 0.3405\n",
            "Epoch 7/50\n",
            "\u001b[1m135/135\u001b[0m \u001b[32m━━━━━━━━━━━━━━━━━━━━\u001b[0m\u001b[37m\u001b[0m \u001b[1m1s\u001b[0m 4ms/step - accuracy: 0.8645 - loss: 0.3162 - val_accuracy: 0.8515 - val_loss: 0.3404\n",
            "Epoch 8/50\n",
            "\u001b[1m135/135\u001b[0m \u001b[32m━━━━━━━━━━━━━━━━━━━━\u001b[0m\u001b[37m\u001b[0m \u001b[1m1s\u001b[0m 4ms/step - accuracy: 0.8721 - loss: 0.3063 - val_accuracy: 0.8682 - val_loss: 0.3203\n",
            "Epoch 9/50\n",
            "\u001b[1m135/135\u001b[0m \u001b[32m━━━━━━━━━━━━━━━━━━━━\u001b[0m\u001b[37m\u001b[0m \u001b[1m1s\u001b[0m 4ms/step - accuracy: 0.8786 - loss: 0.2809 - val_accuracy: 0.8640 - val_loss: 0.3201\n",
            "Epoch 10/50\n",
            "\u001b[1m135/135\u001b[0m \u001b[32m━━━━━━━━━━━━━━━━━━━━\u001b[0m\u001b[37m\u001b[0m \u001b[1m1s\u001b[0m 2ms/step - accuracy: 0.8763 - loss: 0.2789 - val_accuracy: 0.8556 - val_loss: 0.3111\n",
            "Epoch 11/50\n",
            "\u001b[1m135/135\u001b[0m \u001b[32m━━━━━━━━━━━━━━━━━━━━\u001b[0m\u001b[37m\u001b[0m \u001b[1m0s\u001b[0m 2ms/step - accuracy: 0.8829 - loss: 0.2706 - val_accuracy: 0.8661 - val_loss: 0.3100\n",
            "Epoch 12/50\n",
            "\u001b[1m135/135\u001b[0m \u001b[32m━━━━━━━━━━━━━━━━━━━━\u001b[0m\u001b[37m\u001b[0m \u001b[1m1s\u001b[0m 2ms/step - accuracy: 0.8824 - loss: 0.2662 - val_accuracy: 0.8787 - val_loss: 0.2975\n",
            "Epoch 13/50\n",
            "\u001b[1m135/135\u001b[0m \u001b[32m━━━━━━━━━━━━━━━━━━━━\u001b[0m\u001b[37m\u001b[0m \u001b[1m0s\u001b[0m 2ms/step - accuracy: 0.8896 - loss: 0.2529 - val_accuracy: 0.8703 - val_loss: 0.2935\n",
            "Epoch 14/50\n",
            "\u001b[1m135/135\u001b[0m \u001b[32m━━━━━━━━━━━━━━━━━━━━\u001b[0m\u001b[37m\u001b[0m \u001b[1m0s\u001b[0m 2ms/step - accuracy: 0.8962 - loss: 0.2396 - val_accuracy: 0.8828 - val_loss: 0.2992\n",
            "Epoch 15/50\n",
            "\u001b[1m135/135\u001b[0m \u001b[32m━━━━━━━━━━━━━━━━━━━━\u001b[0m\u001b[37m\u001b[0m \u001b[1m1s\u001b[0m 2ms/step - accuracy: 0.8928 - loss: 0.2356 - val_accuracy: 0.8724 - val_loss: 0.2930\n",
            "Epoch 16/50\n",
            "\u001b[1m135/135\u001b[0m \u001b[32m━━━━━━━━━━━━━━━━━━━━\u001b[0m\u001b[37m\u001b[0m \u001b[1m0s\u001b[0m 2ms/step - accuracy: 0.8930 - loss: 0.2417 - val_accuracy: 0.8682 - val_loss: 0.3083\n",
            "Epoch 17/50\n",
            "\u001b[1m135/135\u001b[0m \u001b[32m━━━━━━━━━━━━━━━━━━━━\u001b[0m\u001b[37m\u001b[0m \u001b[1m0s\u001b[0m 2ms/step - accuracy: 0.8806 - loss: 0.2452 - val_accuracy: 0.8745 - val_loss: 0.2911\n",
            "Epoch 18/50\n",
            "\u001b[1m135/135\u001b[0m \u001b[32m━━━━━━━━━━━━━━━━━━━━\u001b[0m\u001b[37m\u001b[0m \u001b[1m0s\u001b[0m 2ms/step - accuracy: 0.8918 - loss: 0.2279 - val_accuracy: 0.8619 - val_loss: 0.2887\n",
            "Epoch 19/50\n",
            "\u001b[1m135/135\u001b[0m \u001b[32m━━━━━━━━━━━━━━━━━━━━\u001b[0m\u001b[37m\u001b[0m \u001b[1m1s\u001b[0m 2ms/step - accuracy: 0.8935 - loss: 0.2359 - val_accuracy: 0.8703 - val_loss: 0.2926\n",
            "Epoch 20/50\n",
            "\u001b[1m135/135\u001b[0m \u001b[32m━━━━━━━━━━━━━━━━━━━━\u001b[0m\u001b[37m\u001b[0m \u001b[1m0s\u001b[0m 2ms/step - accuracy: 0.8962 - loss: 0.2181 - val_accuracy: 0.8703 - val_loss: 0.2951\n",
            "Epoch 21/50\n",
            "\u001b[1m135/135\u001b[0m \u001b[32m━━━━━━━━━━━━━━━━━━━━\u001b[0m\u001b[37m\u001b[0m \u001b[1m0s\u001b[0m 2ms/step - accuracy: 0.8891 - loss: 0.2207 - val_accuracy: 0.8849 - val_loss: 0.2866\n",
            "Epoch 22/50\n",
            "\u001b[1m135/135\u001b[0m \u001b[32m━━━━━━━━━━━━━━━━━━━━\u001b[0m\u001b[37m\u001b[0m \u001b[1m1s\u001b[0m 3ms/step - accuracy: 0.8954 - loss: 0.2197 - val_accuracy: 0.8745 - val_loss: 0.3026\n",
            "Epoch 23/50\n",
            "\u001b[1m135/135\u001b[0m \u001b[32m━━━━━━━━━━━━━━━━━━━━\u001b[0m\u001b[37m\u001b[0m \u001b[1m1s\u001b[0m 4ms/step - accuracy: 0.8972 - loss: 0.2157 - val_accuracy: 0.8661 - val_loss: 0.2785\n",
            "Epoch 24/50\n",
            "\u001b[1m135/135\u001b[0m \u001b[32m━━━━━━━━━━━━━━━━━━━━\u001b[0m\u001b[37m\u001b[0m \u001b[1m1s\u001b[0m 4ms/step - accuracy: 0.8960 - loss: 0.2136 - val_accuracy: 0.8724 - val_loss: 0.3097\n",
            "Epoch 25/50\n",
            "\u001b[1m135/135\u001b[0m \u001b[32m━━━━━━━━━━━━━━━━━━━━\u001b[0m\u001b[37m\u001b[0m \u001b[1m1s\u001b[0m 4ms/step - accuracy: 0.9006 - loss: 0.2016 - val_accuracy: 0.8766 - val_loss: 0.2973\n",
            "Epoch 26/50\n",
            "\u001b[1m135/135\u001b[0m \u001b[32m━━━━━━━━━━━━━━━━━━━━\u001b[0m\u001b[37m\u001b[0m \u001b[1m1s\u001b[0m 4ms/step - accuracy: 0.9071 - loss: 0.2036 - val_accuracy: 0.8745 - val_loss: 0.3033\n",
            "Epoch 27/50\n",
            "\u001b[1m135/135\u001b[0m \u001b[32m━━━━━━━━━━━━━━━━━━━━\u001b[0m\u001b[37m\u001b[0m \u001b[1m1s\u001b[0m 4ms/step - accuracy: 0.9067 - loss: 0.2042 - val_accuracy: 0.8703 - val_loss: 0.3082\n",
            "Epoch 28/50\n",
            "\u001b[1m135/135\u001b[0m \u001b[32m━━━━━━━━━━━━━━━━━━━━\u001b[0m\u001b[37m\u001b[0m \u001b[1m1s\u001b[0m 4ms/step - accuracy: 0.9047 - loss: 0.1996 - val_accuracy: 0.8703 - val_loss: 0.2958\n",
            "Epoch 29/50\n",
            "\u001b[1m135/135\u001b[0m \u001b[32m━━━━━━━━━━━━━━━━━━━━\u001b[0m\u001b[37m\u001b[0m \u001b[1m1s\u001b[0m 4ms/step - accuracy: 0.9016 - loss: 0.2031 - val_accuracy: 0.8933 - val_loss: 0.2929\n",
            "Epoch 30/50\n",
            "\u001b[1m135/135\u001b[0m \u001b[32m━━━━━━━━━━━━━━━━━━━━\u001b[0m\u001b[37m\u001b[0m \u001b[1m1s\u001b[0m 4ms/step - accuracy: 0.9186 - loss: 0.1832 - val_accuracy: 0.8766 - val_loss: 0.2942\n",
            "Epoch 31/50\n",
            "\u001b[1m135/135\u001b[0m \u001b[32m━━━━━━━━━━━━━━━━━━━━\u001b[0m\u001b[37m\u001b[0m \u001b[1m1s\u001b[0m 6ms/step - accuracy: 0.9003 - loss: 0.1952 - val_accuracy: 0.8808 - val_loss: 0.2873\n",
            "Epoch 32/50\n",
            "\u001b[1m135/135\u001b[0m \u001b[32m━━━━━━━━━━━━━━━━━━━━\u001b[0m\u001b[37m\u001b[0m \u001b[1m1s\u001b[0m 6ms/step - accuracy: 0.9065 - loss: 0.1823 - val_accuracy: 0.8745 - val_loss: 0.2920\n",
            "Epoch 33/50\n",
            "\u001b[1m135/135\u001b[0m \u001b[32m━━━━━━━━━━━━━━━━━━━━\u001b[0m\u001b[37m\u001b[0m \u001b[1m1s\u001b[0m 6ms/step - accuracy: 0.9121 - loss: 0.1794 - val_accuracy: 0.8766 - val_loss: 0.2949\n",
            "Epoch 34/50\n",
            "\u001b[1m135/135\u001b[0m \u001b[32m━━━━━━━━━━━━━━━━━━━━\u001b[0m\u001b[37m\u001b[0m \u001b[1m1s\u001b[0m 6ms/step - accuracy: 0.9120 - loss: 0.1828 - val_accuracy: 0.8891 - val_loss: 0.2864\n",
            "Epoch 35/50\n",
            "\u001b[1m135/135\u001b[0m \u001b[32m━━━━━━━━━━━━━━━━━━━━\u001b[0m\u001b[37m\u001b[0m \u001b[1m1s\u001b[0m 5ms/step - accuracy: 0.9031 - loss: 0.1823 - val_accuracy: 0.8724 - val_loss: 0.3045\n",
            "Epoch 36/50\n",
            "\u001b[1m135/135\u001b[0m \u001b[32m━━━━━━━━━━━━━━━━━━━━\u001b[0m\u001b[37m\u001b[0m \u001b[1m1s\u001b[0m 6ms/step - accuracy: 0.9064 - loss: 0.1926 - val_accuracy: 0.8828 - val_loss: 0.3073\n",
            "Epoch 37/50\n",
            "\u001b[1m135/135\u001b[0m \u001b[32m━━━━━━━━━━━━━━━━━━━━\u001b[0m\u001b[37m\u001b[0m \u001b[1m1s\u001b[0m 5ms/step - accuracy: 0.9125 - loss: 0.1814 - val_accuracy: 0.8808 - val_loss: 0.3050\n",
            "Epoch 38/50\n",
            "\u001b[1m135/135\u001b[0m \u001b[32m━━━━━━━━━━━━━━━━━━━━\u001b[0m\u001b[37m\u001b[0m \u001b[1m1s\u001b[0m 2ms/step - accuracy: 0.9018 - loss: 0.1917 - val_accuracy: 0.8828 - val_loss: 0.3009\n",
            "Epoch 39/50\n",
            "\u001b[1m135/135\u001b[0m \u001b[32m━━━━━━━━━━━━━━━━━━━━\u001b[0m\u001b[37m\u001b[0m \u001b[1m1s\u001b[0m 2ms/step - accuracy: 0.9076 - loss: 0.1791 - val_accuracy: 0.8745 - val_loss: 0.2996\n",
            "Epoch 40/50\n",
            "\u001b[1m135/135\u001b[0m \u001b[32m━━━━━━━━━━━━━━━━━━━━\u001b[0m\u001b[37m\u001b[0m \u001b[1m0s\u001b[0m 2ms/step - accuracy: 0.9094 - loss: 0.1807 - val_accuracy: 0.8724 - val_loss: 0.3058\n",
            "Epoch 41/50\n",
            "\u001b[1m135/135\u001b[0m \u001b[32m━━━━━━━━━━━━━━━━━━━━\u001b[0m\u001b[37m\u001b[0m \u001b[1m0s\u001b[0m 2ms/step - accuracy: 0.9101 - loss: 0.1798 - val_accuracy: 0.8849 - val_loss: 0.3332\n",
            "Epoch 42/50\n",
            "\u001b[1m135/135\u001b[0m \u001b[32m━━━━━━━━━━━━━━━━━━━━\u001b[0m\u001b[37m\u001b[0m \u001b[1m1s\u001b[0m 2ms/step - accuracy: 0.9010 - loss: 0.1893 - val_accuracy: 0.8808 - val_loss: 0.3076\n",
            "Epoch 43/50\n",
            "\u001b[1m135/135\u001b[0m \u001b[32m━━━━━━━━━━━━━━━━━━━━\u001b[0m\u001b[37m\u001b[0m \u001b[1m0s\u001b[0m 2ms/step - accuracy: 0.9061 - loss: 0.1786 - val_accuracy: 0.8891 - val_loss: 0.2962\n",
            "Epoch 44/50\n",
            "\u001b[1m135/135\u001b[0m \u001b[32m━━━━━━━━━━━━━━━━━━━━\u001b[0m\u001b[37m\u001b[0m \u001b[1m0s\u001b[0m 2ms/step - accuracy: 0.9062 - loss: 0.1817 - val_accuracy: 0.8787 - val_loss: 0.2980\n",
            "Epoch 45/50\n",
            "\u001b[1m135/135\u001b[0m \u001b[32m━━━━━━━━━━━━━━━━━━━━\u001b[0m\u001b[37m\u001b[0m \u001b[1m0s\u001b[0m 2ms/step - accuracy: 0.9135 - loss: 0.1812 - val_accuracy: 0.8724 - val_loss: 0.2960\n",
            "Epoch 46/50\n",
            "\u001b[1m135/135\u001b[0m \u001b[32m━━━━━━━━━━━━━━━━━━━━\u001b[0m\u001b[37m\u001b[0m \u001b[1m0s\u001b[0m 2ms/step - accuracy: 0.9091 - loss: 0.1882 - val_accuracy: 0.8849 - val_loss: 0.2898\n",
            "Epoch 47/50\n",
            "\u001b[1m135/135\u001b[0m \u001b[32m━━━━━━━━━━━━━━━━━━━━\u001b[0m\u001b[37m\u001b[0m \u001b[1m1s\u001b[0m 2ms/step - accuracy: 0.9052 - loss: 0.1829 - val_accuracy: 0.8766 - val_loss: 0.2984\n",
            "Epoch 48/50\n",
            "\u001b[1m135/135\u001b[0m \u001b[32m━━━━━━━━━━━━━━━━━━━━\u001b[0m\u001b[37m\u001b[0m \u001b[1m0s\u001b[0m 2ms/step - accuracy: 0.9165 - loss: 0.1649 - val_accuracy: 0.8828 - val_loss: 0.2997\n",
            "Epoch 49/50\n",
            "\u001b[1m135/135\u001b[0m \u001b[32m━━━━━━━━━━━━━━━━━━━━\u001b[0m\u001b[37m\u001b[0m \u001b[1m0s\u001b[0m 2ms/step - accuracy: 0.9167 - loss: 0.1759 - val_accuracy: 0.8870 - val_loss: 0.2964\n",
            "Epoch 50/50\n",
            "\u001b[1m135/135\u001b[0m \u001b[32m━━━━━━━━━━━━━━━━━━━━\u001b[0m\u001b[37m\u001b[0m \u001b[1m0s\u001b[0m 2ms/step - accuracy: 0.9045 - loss: 0.1805 - val_accuracy: 0.8808 - val_loss: 0.3067\n",
            "\n",
            "Test Evaluation:\n",
            "\u001b[1m15/15\u001b[0m \u001b[32m━━━━━━━━━━━━━━━━━━━━\u001b[0m\u001b[37m\u001b[0m \u001b[1m0s\u001b[0m 2ms/step - accuracy: 0.8380 - loss: 0.4837 \n"
          ]
        },
        {
          "output_type": "execute_result",
          "data": {
            "text/plain": [
              "[0.30669084191322327, 0.8807531595230103]"
            ]
          },
          "metadata": {},
          "execution_count": 117
        }
      ]
    },
    {
      "cell_type": "markdown",
      "source": [
        "## Modello 2: Overfitting!"
      ],
      "metadata": {
        "id": "SJ4PM-tMho2m"
      }
    },
    {
      "cell_type": "markdown",
      "source": [
        "# Modello 3: Test Vari"
      ],
      "metadata": {
        "id": "wohz-YJqh-R8"
      }
    },
    {
      "cell_type": "markdown",
      "source": [
        "- DroupOut 0.4 dà 0.83 di accuracy e .46 di loss.\n",
        "- Test con batch_size di 16 : accuracy: 0.8568 - loss: 0.4762\n",
        "- Test con batch_size di 64 : accuracy: 0.8247 - loss: 0.4987"
      ],
      "metadata": {
        "id": "v2-rMS7VkX4J"
      }
    },
    {
      "cell_type": "code",
      "source": [
        "import tensorflow as tf\n",
        "from tensorflow.keras.models import Sequential\n",
        "from tensorflow.keras.layers import Dense, Dropout\n",
        "from tensorflow.keras.layers import Input\n",
        "# Define the neural network\n",
        "input_dim = X_train.shape[1]  # Number of features\n",
        "\n",
        "model3 = Sequential([\n",
        "    Input(shape=(X_train.shape[1],)),\n",
        "    Dense(64, activation='relu'),\n",
        "    Dropout(0.3),\n",
        "    Dense(128, activation='relu'),\n",
        "    Dropout(0.3),  # Prevent overfitting\n",
        "    Dense(64, activation='relu'),\n",
        "    Dropout(0.3),\n",
        "    Dense(3, activation='softmax')  # Adjust the output units for the number of classes\n",
        "])\n",
        "\n",
        "# Compile the model\n",
        "model3.compile(\n",
        "    optimizer='adam',\n",
        "    loss='categorical_crossentropy',  # For multiclass classification\n",
        "    metrics=['accuracy']\n",
        ")\n",
        "\n",
        "# Train the model\n",
        "history3 = model3.fit(\n",
        "    X_train, tf.keras.utils.to_categorical(y_train),  # Convert labels to one-hot\n",
        "    validation_data=(X_test, tf.keras.utils.to_categorical(y_test)),\n",
        "    epochs=50,  # Adjust based on performance\n",
        "    batch_size=32,\n",
        "    verbose=1\n",
        ")\n",
        "\n",
        "# Evaluate the model\n",
        "print(\"\\nTest Evaluation:\")\n",
        "model3.evaluate(X_test, tf.keras.utils.to_categorical(y_test))"
      ],
      "metadata": {
        "colab": {
          "base_uri": "https://localhost:8080/"
        },
        "id": "8_7sk3wHiA-V",
        "outputId": "4aa6dec8-3e05-4c05-e3bd-2284599ebba9"
      },
      "execution_count": null,
      "outputs": [
        {
          "output_type": "stream",
          "name": "stdout",
          "text": [
            "Epoch 1/50\n",
            "\u001b[1m135/135\u001b[0m \u001b[32m━━━━━━━━━━━━━━━━━━━━\u001b[0m\u001b[37m\u001b[0m \u001b[1m3s\u001b[0m 4ms/step - accuracy: 0.4060 - loss: 1.0621 - val_accuracy: 0.5481 - val_loss: 0.8407\n",
            "Epoch 2/50\n",
            "\u001b[1m135/135\u001b[0m \u001b[32m━━━━━━━━━━━━━━━━━━━━\u001b[0m\u001b[37m\u001b[0m \u001b[1m0s\u001b[0m 2ms/step - accuracy: 0.5785 - loss: 0.8626 - val_accuracy: 0.6967 - val_loss: 0.6668\n",
            "Epoch 3/50\n",
            "\u001b[1m135/135\u001b[0m \u001b[32m━━━━━━━━━━━━━━━━━━━━\u001b[0m\u001b[37m\u001b[0m \u001b[1m1s\u001b[0m 2ms/step - accuracy: 0.6973 - loss: 0.6800 - val_accuracy: 0.7950 - val_loss: 0.5120\n",
            "Epoch 4/50\n",
            "\u001b[1m135/135\u001b[0m \u001b[32m━━━━━━━━━━━━━━━━━━━━\u001b[0m\u001b[37m\u001b[0m \u001b[1m1s\u001b[0m 2ms/step - accuracy: 0.7608 - loss: 0.5538 - val_accuracy: 0.8117 - val_loss: 0.4319\n",
            "Epoch 5/50\n",
            "\u001b[1m135/135\u001b[0m \u001b[32m━━━━━━━━━━━━━━━━━━━━\u001b[0m\u001b[37m\u001b[0m \u001b[1m0s\u001b[0m 2ms/step - accuracy: 0.7870 - loss: 0.5007 - val_accuracy: 0.8452 - val_loss: 0.3862\n",
            "Epoch 6/50\n",
            "\u001b[1m135/135\u001b[0m \u001b[32m━━━━━━━━━━━━━━━━━━━━\u001b[0m\u001b[37m\u001b[0m \u001b[1m1s\u001b[0m 2ms/step - accuracy: 0.8051 - loss: 0.4575 - val_accuracy: 0.8431 - val_loss: 0.3762\n",
            "Epoch 7/50\n",
            "\u001b[1m135/135\u001b[0m \u001b[32m━━━━━━━━━━━━━━━━━━━━\u001b[0m\u001b[37m\u001b[0m \u001b[1m0s\u001b[0m 2ms/step - accuracy: 0.8109 - loss: 0.4263 - val_accuracy: 0.8431 - val_loss: 0.3644\n",
            "Epoch 8/50\n",
            "\u001b[1m135/135\u001b[0m \u001b[32m━━━━━━━━━━━━━━━━━━━━\u001b[0m\u001b[37m\u001b[0m \u001b[1m1s\u001b[0m 2ms/step - accuracy: 0.8264 - loss: 0.3820 - val_accuracy: 0.8536 - val_loss: 0.3458\n",
            "Epoch 9/50\n",
            "\u001b[1m135/135\u001b[0m \u001b[32m━━━━━━━━━━━━━━━━━━━━\u001b[0m\u001b[37m\u001b[0m \u001b[1m1s\u001b[0m 2ms/step - accuracy: 0.8458 - loss: 0.3569 - val_accuracy: 0.8598 - val_loss: 0.3350\n",
            "Epoch 10/50\n",
            "\u001b[1m135/135\u001b[0m \u001b[32m━━━━━━━━━━━━━━━━━━━━\u001b[0m\u001b[37m\u001b[0m \u001b[1m0s\u001b[0m 2ms/step - accuracy: 0.8412 - loss: 0.3685 - val_accuracy: 0.8452 - val_loss: 0.3299\n",
            "Epoch 11/50\n",
            "\u001b[1m135/135\u001b[0m \u001b[32m━━━━━━━━━━━━━━━━━━━━\u001b[0m\u001b[37m\u001b[0m \u001b[1m0s\u001b[0m 2ms/step - accuracy: 0.8428 - loss: 0.3532 - val_accuracy: 0.8473 - val_loss: 0.3285\n",
            "Epoch 12/50\n",
            "\u001b[1m135/135\u001b[0m \u001b[32m━━━━━━━━━━━━━━━━━━━━\u001b[0m\u001b[37m\u001b[0m \u001b[1m0s\u001b[0m 2ms/step - accuracy: 0.8515 - loss: 0.3408 - val_accuracy: 0.8473 - val_loss: 0.3330\n",
            "Epoch 13/50\n",
            "\u001b[1m135/135\u001b[0m \u001b[32m━━━━━━━━━━━━━━━━━━━━\u001b[0m\u001b[37m\u001b[0m \u001b[1m0s\u001b[0m 2ms/step - accuracy: 0.8438 - loss: 0.3403 - val_accuracy: 0.8577 - val_loss: 0.3231\n",
            "Epoch 14/50\n",
            "\u001b[1m135/135\u001b[0m \u001b[32m━━━━━━━━━━━━━━━━━━━━\u001b[0m\u001b[37m\u001b[0m \u001b[1m1s\u001b[0m 2ms/step - accuracy: 0.8555 - loss: 0.3288 - val_accuracy: 0.8828 - val_loss: 0.3200\n",
            "Epoch 15/50\n",
            "\u001b[1m135/135\u001b[0m \u001b[32m━━━━━━━━━━━━━━━━━━━━\u001b[0m\u001b[37m\u001b[0m \u001b[1m0s\u001b[0m 3ms/step - accuracy: 0.8515 - loss: 0.3411 - val_accuracy: 0.8619 - val_loss: 0.3202\n",
            "Epoch 16/50\n",
            "\u001b[1m135/135\u001b[0m \u001b[32m━━━━━━━━━━━━━━━━━━━━\u001b[0m\u001b[37m\u001b[0m \u001b[1m0s\u001b[0m 2ms/step - accuracy: 0.8569 - loss: 0.3085 - val_accuracy: 0.8640 - val_loss: 0.3055\n",
            "Epoch 17/50\n",
            "\u001b[1m135/135\u001b[0m \u001b[32m━━━━━━━━━━━━━━━━━━━━\u001b[0m\u001b[37m\u001b[0m \u001b[1m0s\u001b[0m 3ms/step - accuracy: 0.8732 - loss: 0.2872 - val_accuracy: 0.8661 - val_loss: 0.3045\n",
            "Epoch 18/50\n",
            "\u001b[1m135/135\u001b[0m \u001b[32m━━━━━━━━━━━━━━━━━━━━\u001b[0m\u001b[37m\u001b[0m \u001b[1m1s\u001b[0m 3ms/step - accuracy: 0.8683 - loss: 0.2921 - val_accuracy: 0.8640 - val_loss: 0.3108\n",
            "Epoch 19/50\n",
            "\u001b[1m135/135\u001b[0m \u001b[32m━━━━━━━━━━━━━━━━━━━━\u001b[0m\u001b[37m\u001b[0m \u001b[1m1s\u001b[0m 4ms/step - accuracy: 0.8662 - loss: 0.2998 - val_accuracy: 0.8745 - val_loss: 0.3028\n",
            "Epoch 20/50\n",
            "\u001b[1m135/135\u001b[0m \u001b[32m━━━━━━━━━━━━━━━━━━━━\u001b[0m\u001b[37m\u001b[0m \u001b[1m1s\u001b[0m 4ms/step - accuracy: 0.8789 - loss: 0.2819 - val_accuracy: 0.8640 - val_loss: 0.3069\n",
            "Epoch 21/50\n",
            "\u001b[1m135/135\u001b[0m \u001b[32m━━━━━━━━━━━━━━━━━━━━\u001b[0m\u001b[37m\u001b[0m \u001b[1m1s\u001b[0m 4ms/step - accuracy: 0.8656 - loss: 0.2808 - val_accuracy: 0.8577 - val_loss: 0.3069\n",
            "Epoch 22/50\n",
            "\u001b[1m135/135\u001b[0m \u001b[32m━━━━━━━━━━━━━━━━━━━━\u001b[0m\u001b[37m\u001b[0m \u001b[1m1s\u001b[0m 4ms/step - accuracy: 0.8609 - loss: 0.3139 - val_accuracy: 0.8661 - val_loss: 0.2994\n",
            "Epoch 23/50\n",
            "\u001b[1m135/135\u001b[0m \u001b[32m━━━━━━━━━━━━━━━━━━━━\u001b[0m\u001b[37m\u001b[0m \u001b[1m1s\u001b[0m 4ms/step - accuracy: 0.8706 - loss: 0.2799 - val_accuracy: 0.8619 - val_loss: 0.3033\n",
            "Epoch 24/50\n",
            "\u001b[1m135/135\u001b[0m \u001b[32m━━━━━━━━━━━━━━━━━━━━\u001b[0m\u001b[37m\u001b[0m \u001b[1m0s\u001b[0m 3ms/step - accuracy: 0.8760 - loss: 0.2806 - val_accuracy: 0.8640 - val_loss: 0.3019\n",
            "Epoch 25/50\n",
            "\u001b[1m135/135\u001b[0m \u001b[32m━━━━━━━━━━━━━━━━━━━━\u001b[0m\u001b[37m\u001b[0m \u001b[1m1s\u001b[0m 2ms/step - accuracy: 0.8827 - loss: 0.2638 - val_accuracy: 0.8619 - val_loss: 0.2975\n",
            "Epoch 26/50\n",
            "\u001b[1m135/135\u001b[0m \u001b[32m━━━━━━━━━━━━━━━━━━━━\u001b[0m\u001b[37m\u001b[0m \u001b[1m1s\u001b[0m 3ms/step - accuracy: 0.8734 - loss: 0.2671 - val_accuracy: 0.8703 - val_loss: 0.2915\n",
            "Epoch 27/50\n",
            "\u001b[1m135/135\u001b[0m \u001b[32m━━━━━━━━━━━━━━━━━━━━\u001b[0m\u001b[37m\u001b[0m \u001b[1m1s\u001b[0m 2ms/step - accuracy: 0.8672 - loss: 0.2697 - val_accuracy: 0.8682 - val_loss: 0.2958\n",
            "Epoch 28/50\n",
            "\u001b[1m135/135\u001b[0m \u001b[32m━━━━━━━━━━━━━━━━━━━━\u001b[0m\u001b[37m\u001b[0m \u001b[1m0s\u001b[0m 2ms/step - accuracy: 0.8858 - loss: 0.2580 - val_accuracy: 0.8598 - val_loss: 0.2933\n",
            "Epoch 29/50\n",
            "\u001b[1m135/135\u001b[0m \u001b[32m━━━━━━━━━━━━━━━━━━━━\u001b[0m\u001b[37m\u001b[0m \u001b[1m0s\u001b[0m 2ms/step - accuracy: 0.8790 - loss: 0.2628 - val_accuracy: 0.8640 - val_loss: 0.3099\n",
            "Epoch 30/50\n",
            "\u001b[1m135/135\u001b[0m \u001b[32m━━━━━━━━━━━━━━━━━━━━\u001b[0m\u001b[37m\u001b[0m \u001b[1m1s\u001b[0m 5ms/step - accuracy: 0.8873 - loss: 0.2403 - val_accuracy: 0.8724 - val_loss: 0.2966\n",
            "Epoch 31/50\n",
            "\u001b[1m135/135\u001b[0m \u001b[32m━━━━━━━━━━━━━━━━━━━━\u001b[0m\u001b[37m\u001b[0m \u001b[1m0s\u001b[0m 3ms/step - accuracy: 0.8701 - loss: 0.2669 - val_accuracy: 0.8724 - val_loss: 0.3050\n",
            "Epoch 32/50\n",
            "\u001b[1m135/135\u001b[0m \u001b[32m━━━━━━━━━━━━━━━━━━━━\u001b[0m\u001b[37m\u001b[0m \u001b[1m0s\u001b[0m 2ms/step - accuracy: 0.8744 - loss: 0.2732 - val_accuracy: 0.8828 - val_loss: 0.3218\n",
            "Epoch 33/50\n",
            "\u001b[1m135/135\u001b[0m \u001b[32m━━━━━━━━━━━━━━━━━━━━\u001b[0m\u001b[37m\u001b[0m \u001b[1m0s\u001b[0m 2ms/step - accuracy: 0.8889 - loss: 0.2463 - val_accuracy: 0.8745 - val_loss: 0.3063\n",
            "Epoch 34/50\n",
            "\u001b[1m135/135\u001b[0m \u001b[32m━━━━━━━━━━━━━━━━━━━━\u001b[0m\u001b[37m\u001b[0m \u001b[1m1s\u001b[0m 2ms/step - accuracy: 0.8808 - loss: 0.2608 - val_accuracy: 0.8640 - val_loss: 0.3039\n",
            "Epoch 35/50\n",
            "\u001b[1m135/135\u001b[0m \u001b[32m━━━━━━━━━━━━━━━━━━━━\u001b[0m\u001b[37m\u001b[0m \u001b[1m0s\u001b[0m 2ms/step - accuracy: 0.8858 - loss: 0.2445 - val_accuracy: 0.8787 - val_loss: 0.3100\n",
            "Epoch 36/50\n",
            "\u001b[1m135/135\u001b[0m \u001b[32m━━━━━━━━━━━━━━━━━━━━\u001b[0m\u001b[37m\u001b[0m \u001b[1m1s\u001b[0m 2ms/step - accuracy: 0.8914 - loss: 0.2397 - val_accuracy: 0.8661 - val_loss: 0.3189\n",
            "Epoch 37/50\n",
            "\u001b[1m135/135\u001b[0m \u001b[32m━━━━━━━━━━━━━━━━━━━━\u001b[0m\u001b[37m\u001b[0m \u001b[1m0s\u001b[0m 2ms/step - accuracy: 0.8773 - loss: 0.2490 - val_accuracy: 0.8724 - val_loss: 0.3191\n",
            "Epoch 38/50\n",
            "\u001b[1m135/135\u001b[0m \u001b[32m━━━━━━━━━━━━━━━━━━━━\u001b[0m\u001b[37m\u001b[0m \u001b[1m1s\u001b[0m 3ms/step - accuracy: 0.8989 - loss: 0.2298 - val_accuracy: 0.8682 - val_loss: 0.3240\n",
            "Epoch 39/50\n",
            "\u001b[1m135/135\u001b[0m \u001b[32m━━━━━━━━━━━━━━━━━━━━\u001b[0m\u001b[37m\u001b[0m \u001b[1m1s\u001b[0m 2ms/step - accuracy: 0.8873 - loss: 0.2528 - val_accuracy: 0.8619 - val_loss: 0.3190\n",
            "Epoch 40/50\n",
            "\u001b[1m135/135\u001b[0m \u001b[32m━━━━━━━━━━━━━━━━━━━━\u001b[0m\u001b[37m\u001b[0m \u001b[1m0s\u001b[0m 3ms/step - accuracy: 0.8964 - loss: 0.2132 - val_accuracy: 0.8682 - val_loss: 0.3184\n",
            "Epoch 41/50\n",
            "\u001b[1m135/135\u001b[0m \u001b[32m━━━━━━━━━━━━━━━━━━━━\u001b[0m\u001b[37m\u001b[0m \u001b[1m0s\u001b[0m 2ms/step - accuracy: 0.8844 - loss: 0.2291 - val_accuracy: 0.8891 - val_loss: 0.3104\n",
            "Epoch 42/50\n",
            "\u001b[1m135/135\u001b[0m \u001b[32m━━━━━━━━━━━━━━━━━━━━\u001b[0m\u001b[37m\u001b[0m \u001b[1m1s\u001b[0m 3ms/step - accuracy: 0.8858 - loss: 0.2328 - val_accuracy: 0.8682 - val_loss: 0.3279\n",
            "Epoch 43/50\n",
            "\u001b[1m135/135\u001b[0m \u001b[32m━━━━━━━━━━━━━━━━━━━━\u001b[0m\u001b[37m\u001b[0m \u001b[1m0s\u001b[0m 2ms/step - accuracy: 0.8867 - loss: 0.2315 - val_accuracy: 0.8661 - val_loss: 0.3068\n",
            "Epoch 44/50\n",
            "\u001b[1m135/135\u001b[0m \u001b[32m━━━━━━━━━━━━━━━━━━━━\u001b[0m\u001b[37m\u001b[0m \u001b[1m0s\u001b[0m 3ms/step - accuracy: 0.8842 - loss: 0.2328 - val_accuracy: 0.8766 - val_loss: 0.3153\n",
            "Epoch 45/50\n",
            "\u001b[1m135/135\u001b[0m \u001b[32m━━━━━━━━━━━━━━━━━━━━\u001b[0m\u001b[37m\u001b[0m \u001b[1m1s\u001b[0m 4ms/step - accuracy: 0.8827 - loss: 0.2387 - val_accuracy: 0.8766 - val_loss: 0.3087\n",
            "Epoch 46/50\n",
            "\u001b[1m135/135\u001b[0m \u001b[32m━━━━━━━━━━━━━━━━━━━━\u001b[0m\u001b[37m\u001b[0m \u001b[1m1s\u001b[0m 4ms/step - accuracy: 0.8982 - loss: 0.2214 - val_accuracy: 0.8640 - val_loss: 0.3174\n",
            "Epoch 47/50\n",
            "\u001b[1m135/135\u001b[0m \u001b[32m━━━━━━━━━━━━━━━━━━━━\u001b[0m\u001b[37m\u001b[0m \u001b[1m1s\u001b[0m 4ms/step - accuracy: 0.8797 - loss: 0.2421 - val_accuracy: 0.8682 - val_loss: 0.3242\n",
            "Epoch 48/50\n",
            "\u001b[1m135/135\u001b[0m \u001b[32m━━━━━━━━━━━━━━━━━━━━\u001b[0m\u001b[37m\u001b[0m \u001b[1m1s\u001b[0m 4ms/step - accuracy: 0.8907 - loss: 0.2206 - val_accuracy: 0.8703 - val_loss: 0.3250\n",
            "Epoch 49/50\n",
            "\u001b[1m135/135\u001b[0m \u001b[32m━━━━━━━━━━━━━━━━━━━━\u001b[0m\u001b[37m\u001b[0m \u001b[1m1s\u001b[0m 4ms/step - accuracy: 0.8934 - loss: 0.2383 - val_accuracy: 0.8745 - val_loss: 0.3187\n",
            "Epoch 50/50\n",
            "\u001b[1m135/135\u001b[0m \u001b[32m━━━━━━━━━━━━━━━━━━━━\u001b[0m\u001b[37m\u001b[0m \u001b[1m1s\u001b[0m 2ms/step - accuracy: 0.8929 - loss: 0.2148 - val_accuracy: 0.8975 - val_loss: 0.3106\n",
            "\n",
            "Test Evaluation:\n",
            "\u001b[1m15/15\u001b[0m \u001b[32m━━━━━━━━━━━━━━━━━━━━\u001b[0m\u001b[37m\u001b[0m \u001b[1m0s\u001b[0m 2ms/step - accuracy: 0.8670 - loss: 0.4803 \n"
          ]
        },
        {
          "output_type": "execute_result",
          "data": {
            "text/plain": [
              "[0.31060856580734253, 0.8974895477294922]"
            ]
          },
          "metadata": {},
          "execution_count": 123
        }
      ]
    },
    {
      "cell_type": "markdown",
      "source": [
        "## 2 - Times 10 fold Validation"
      ],
      "metadata": {
        "id": "c1ckp7mxnAJe"
      }
    },
    {
      "cell_type": "code",
      "source": [
        "from sklearn.model_selection import KFold\n",
        "from sklearn.metrics import accuracy_score, precision_score, recall_score, f1_score\n",
        "import numpy as np\n",
        "\n",
        "# Numero di ripetizioni\n",
        "n_repeats = 2\n",
        "n_splits = 10\n",
        "\n",
        "# Metriche cumulative\n",
        "accuracy_scores = []\n",
        "precision_scores = []\n",
        "recall_scores = []\n",
        "f1_scores = []\n",
        "\n",
        "# KFold per 10-fold validation\n",
        "kf = KFold(n_splits=n_splits, shuffle=True, random_state=42)\n",
        "\n",
        "for repeat in range(n_repeats):\n",
        "    print(f\"\\nRepeat {repeat + 1}/{n_repeats}\")\n",
        "    for train_index, test_index in kf.split(X_resampled):\n",
        "        # Split dataset\n",
        "        X_train, X_test = X_resampled.iloc[train_index], X_resampled.iloc[test_index]\n",
        "        y_train, y_test = y_resampled.iloc[train_index], y_resampled.iloc[test_index]\n",
        "\n",
        "        # Convert labels to one-hot encoding for training\n",
        "        y_train_onehot = tf.keras.utils.to_categorical(y_train)\n",
        "        y_test_onehot = tf.keras.utils.to_categorical(y_test)\n",
        "\n",
        "        # Reinitialize and train the model for each fold\n",
        "        model3 = Sequential([\n",
        "            Input(shape=(X_train.shape[1],)),\n",
        "            Dense(64, activation='relu'),\n",
        "            Dropout(0.3),\n",
        "            Dense(128, activation='relu'),\n",
        "            Dropout(0.3),  # Prevent overfitting\n",
        "            Dense(64, activation='relu'),\n",
        "            Dropout(0.3),\n",
        "            Dense(3, activation='softmax')\n",
        "        ])\n",
        "        model3.compile(optimizer='adam', loss='categorical_crossentropy', metrics=['accuracy'])\n",
        "        model3.fit(X_train, y_train_onehot, epochs=50, batch_size=32, verbose=0)\n",
        "\n",
        "        # Evaluate on the test set\n",
        "        y_pred_probs = model.predict(X_test)\n",
        "        y_pred = y_pred_probs.argmax(axis=1)\n",
        "\n",
        "        # Calculate metrics for this fold\n",
        "        accuracy_scores.append(accuracy_score(y_test, y_pred))\n",
        "        precision_scores.append(precision_score(y_test, y_pred, average='weighted'))\n",
        "        recall_scores.append(recall_score(y_test, y_pred, average='weighted'))\n",
        "        f1_scores.append(f1_score(y_test, y_pred, average='weighted'))\n",
        "\n",
        "# Final evaluation\n",
        "print(\"\\nFinal Evaluation over 2-times 10-fold:\")\n",
        "print(f\"Accuracy: {np.mean(accuracy_scores):.3f} ± {np.std(accuracy_scores):.3f}\")\n",
        "print(f\"Precision: {np.mean(precision_scores):.3f} ± {np.std(precision_scores):.3f}\")\n",
        "print(f\"Recall: {np.mean(recall_scores):.3f} ± {np.std(recall_scores):.3f}\")\n",
        "print(f\"F1-Score: {np.mean(f1_scores):.3f} ± {np.std(f1_scores):.3f}\")\n"
      ],
      "metadata": {
        "colab": {
          "base_uri": "https://localhost:8080/"
        },
        "id": "4u07CY8cnHY9",
        "outputId": "dbe50127-a7b3-4c5c-c95a-341178b40f48"
      },
      "execution_count": null,
      "outputs": [
        {
          "output_type": "stream",
          "name": "stdout",
          "text": [
            "\n",
            "Repeat 1/2\n",
            "\u001b[1m15/15\u001b[0m \u001b[32m━━━━━━━━━━━━━━━━━━━━\u001b[0m\u001b[37m\u001b[0m \u001b[1m0s\u001b[0m 2ms/step \n",
            "\u001b[1m15/15\u001b[0m \u001b[32m━━━━━━━━━━━━━━━━━━━━\u001b[0m\u001b[37m\u001b[0m \u001b[1m0s\u001b[0m 2ms/step \n",
            "\u001b[1m15/15\u001b[0m \u001b[32m━━━━━━━━━━━━━━━━━━━━\u001b[0m\u001b[37m\u001b[0m \u001b[1m0s\u001b[0m 2ms/step \n",
            "\u001b[1m15/15\u001b[0m \u001b[32m━━━━━━━━━━━━━━━━━━━━\u001b[0m\u001b[37m\u001b[0m \u001b[1m0s\u001b[0m 2ms/step \n",
            "\u001b[1m15/15\u001b[0m \u001b[32m━━━━━━━━━━━━━━━━━━━━\u001b[0m\u001b[37m\u001b[0m \u001b[1m0s\u001b[0m 2ms/step \n",
            "\u001b[1m15/15\u001b[0m \u001b[32m━━━━━━━━━━━━━━━━━━━━\u001b[0m\u001b[37m\u001b[0m \u001b[1m0s\u001b[0m 1ms/step \n",
            "\u001b[1m15/15\u001b[0m \u001b[32m━━━━━━━━━━━━━━━━━━━━\u001b[0m\u001b[37m\u001b[0m \u001b[1m0s\u001b[0m 2ms/step \n",
            "\u001b[1m15/15\u001b[0m \u001b[32m━━━━━━━━━━━━━━━━━━━━\u001b[0m\u001b[37m\u001b[0m \u001b[1m0s\u001b[0m 2ms/step \n",
            "\u001b[1m15/15\u001b[0m \u001b[32m━━━━━━━━━━━━━━━━━━━━\u001b[0m\u001b[37m\u001b[0m \u001b[1m0s\u001b[0m 2ms/step \n",
            "\u001b[1m15/15\u001b[0m \u001b[32m━━━━━━━━━━━━━━━━━━━━\u001b[0m\u001b[37m\u001b[0m \u001b[1m0s\u001b[0m 2ms/step \n",
            "\n",
            "Repeat 2/2\n",
            "\u001b[1m15/15\u001b[0m \u001b[32m━━━━━━━━━━━━━━━━━━━━\u001b[0m\u001b[37m\u001b[0m \u001b[1m0s\u001b[0m 2ms/step \n",
            "\u001b[1m15/15\u001b[0m \u001b[32m━━━━━━━━━━━━━━━━━━━━\u001b[0m\u001b[37m\u001b[0m \u001b[1m0s\u001b[0m 1ms/step \n",
            "\u001b[1m15/15\u001b[0m \u001b[32m━━━━━━━━━━━━━━━━━━━━\u001b[0m\u001b[37m\u001b[0m \u001b[1m0s\u001b[0m 2ms/step \n",
            "\u001b[1m15/15\u001b[0m \u001b[32m━━━━━━━━━━━━━━━━━━━━\u001b[0m\u001b[37m\u001b[0m \u001b[1m0s\u001b[0m 2ms/step \n",
            "\u001b[1m15/15\u001b[0m \u001b[32m━━━━━━━━━━━━━━━━━━━━\u001b[0m\u001b[37m\u001b[0m \u001b[1m0s\u001b[0m 1ms/step \n",
            "\u001b[1m15/15\u001b[0m \u001b[32m━━━━━━━━━━━━━━━━━━━━\u001b[0m\u001b[37m\u001b[0m \u001b[1m0s\u001b[0m 1ms/step \n",
            "\u001b[1m15/15\u001b[0m \u001b[32m━━━━━━━━━━━━━━━━━━━━\u001b[0m\u001b[37m\u001b[0m \u001b[1m0s\u001b[0m 2ms/step \n",
            "\u001b[1m15/15\u001b[0m \u001b[32m━━━━━━━━━━━━━━━━━━━━\u001b[0m\u001b[37m\u001b[0m \u001b[1m0s\u001b[0m 2ms/step \n",
            "\u001b[1m15/15\u001b[0m \u001b[32m━━━━━━━━━━━━━━━━━━━━\u001b[0m\u001b[37m\u001b[0m \u001b[1m0s\u001b[0m 2ms/step \n",
            "\u001b[1m15/15\u001b[0m \u001b[32m━━━━━━━━━━━━━━━━━━━━\u001b[0m\u001b[37m\u001b[0m \u001b[1m0s\u001b[0m 1ms/step \n",
            "\n",
            "Final Evaluation over 10-times 10-fold:\n",
            "Accuracy: 0.914 ± 0.020\n",
            "Precision: 0.918 ± 0.019\n",
            "Recall: 0.914 ± 0.020\n",
            "F1-Score: 0.915 ± 0.020\n"
          ]
        }
      ]
    },
    {
      "cell_type": "markdown",
      "source": [
        "# Salva Modello"
      ],
      "metadata": {
        "id": "lLyKGdH9qnSk"
      }
    },
    {
      "cell_type": "markdown",
      "source": [
        "Monta Drive"
      ],
      "metadata": {
        "id": "TyIfePqQrscL"
      }
    },
    {
      "cell_type": "code",
      "source": [
        "from google.colab import drive\n",
        "drive.mount('/content/drive')\n"
      ],
      "metadata": {
        "colab": {
          "base_uri": "https://localhost:8080/"
        },
        "id": "NxN2Sxe1qpAK",
        "outputId": "43aedc28-d877-48ca-d159-d38f5a626085"
      },
      "execution_count": null,
      "outputs": [
        {
          "output_type": "stream",
          "name": "stdout",
          "text": [
            "Mounted at /content/drive\n"
          ]
        }
      ]
    },
    {
      "cell_type": "markdown",
      "source": [
        "Salva"
      ],
      "metadata": {
        "id": "DEK0fxdnrrde"
      }
    },
    {
      "cell_type": "code",
      "source": [
        "\n",
        "# Salva il modello in formato HDF5\n",
        "model.save('/content/drive/MyDrive/FIA/model_4layer.h5')\n",
        "\n",
        "# Salva il modello in formato TensorFlow SavedModel\n",
        "model.save('/content/drive/MyDrive/FIA/tensorflow_model_4layer.keras')\n"
      ],
      "metadata": {
        "colab": {
          "base_uri": "https://localhost:8080/"
        },
        "id": "h_Ntm0Aqq-NO",
        "outputId": "a4294add-c0b6-40a5-cc4c-52dd1501d560"
      },
      "execution_count": null,
      "outputs": [
        {
          "output_type": "stream",
          "name": "stderr",
          "text": [
            "WARNING:absl:You are saving your model as an HDF5 file via `model.save()` or `keras.saving.save_model(model)`. This file format is considered legacy. We recommend using instead the native Keras format, e.g. `model.save('my_model.keras')` or `keras.saving.save_model(model, 'my_model.keras')`. \n"
          ]
        }
      ]
    },
    {
      "cell_type": "markdown",
      "source": [
        "Verifica"
      ],
      "metadata": {
        "id": "MIgs0rMArmWo"
      }
    },
    {
      "cell_type": "code",
      "source": [
        "!ls \"/content/drive/MyDrive/FIA\"\n"
      ],
      "metadata": {
        "colab": {
          "base_uri": "https://localhost:8080/"
        },
        "id": "kBUqAFBRrnhm",
        "outputId": "b37c57ee-e134-45d4-abbd-39a1526904c4"
      },
      "execution_count": null,
      "outputs": [
        {
          "output_type": "stream",
          "name": "stdout",
          "text": [
            "model3.h5  model_4layer.h5  tensorflow_model3.keras  tensorflow_model_4layer.keras\n"
          ]
        }
      ]
    },
    {
      "cell_type": "markdown",
      "source": [
        "# Altro"
      ],
      "metadata": {
        "id": "QNve5l2ytwi8"
      }
    },
    {
      "cell_type": "code",
      "source": [
        "import sys\n",
        "import pandas as pd\n",
        "import tensorflow as tf\n",
        "import keras\n",
        "import requests\n",
        "import matplotlib\n",
        "import imblearn\n",
        "\n",
        "print(\"Python version:\", sys.version)\n",
        "print(\"Pandas version:\", pd.__version__)\n",
        "print(\"TensorFlow version:\", tf.__version__)\n",
        "print(\"Keras version:\", keras.__version__)\n",
        "print(\"Requests version:\", requests.__version__)\n",
        "print(\"Matplotlib version:\", matplotlib.__version__)\n",
        "print(\"Imblearn version:\", imblearn.__version__)"
      ],
      "metadata": {
        "colab": {
          "base_uri": "https://localhost:8080/"
        },
        "id": "rpnytZd3tx2x",
        "outputId": "26d17def-66a9-4c80-b4c5-c12fd18eef47"
      },
      "execution_count": null,
      "outputs": [
        {
          "output_type": "stream",
          "name": "stdout",
          "text": [
            "Python version: 3.10.12 (main, Nov  6 2024, 20:22:13) [GCC 11.4.0]\n",
            "Pandas version: 2.2.2\n",
            "TensorFlow version: 2.17.1\n",
            "Keras version: 3.5.0\n",
            "Requests version: 2.32.3\n",
            "Matplotlib version: 3.8.0\n",
            "Imblearn version: 0.12.4\n"
          ]
        }
      ]
    }
  ]
}